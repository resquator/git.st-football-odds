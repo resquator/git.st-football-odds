{
 "cells": [
  {
   "cell_type": "code",
   "execution_count": 79,
   "metadata": {},
   "outputs": [],
   "source": [
    "from sklearn.datasets import make_classification\n",
    "from sklearn.multioutput import MultiOutputClassifier\n",
    "from sklearn.ensemble import RandomForestClassifier\n",
    "from sklearn.tree import DecisionTreeClassifier\n",
    "from sklearn.model_selection import train_test_split\n",
    "\n",
    "from sklearn.metrics import accuracy_score\n",
    "\n",
    "from sklearn.preprocessing import OrdinalEncoder\n",
    "\n",
    "from sklearn.utils import shuffle\n",
    "import numpy as np\n",
    "import pyforest"
   ]
  },
  {
   "cell_type": "code",
   "execution_count": 80,
   "metadata": {},
   "outputs": [
    {
     "data": {
      "application/javascript": [
       "\n",
       "        if (window._pyforest_update_imports_cell) { window._pyforest_update_imports_cell('import pandas as pd\\nfrom sklearn.preprocessing import StandardScaler'); }\n",
       "    "
      ],
      "text/plain": [
       "<IPython.core.display.Javascript object>"
      ]
     },
     "metadata": {},
     "output_type": "display_data"
    },
    {
     "data": {
      "text/plain": [
       "(3899, 13)"
      ]
     },
     "execution_count": 80,
     "metadata": {},
     "output_type": "execute_result"
    }
   ],
   "source": [
    "data = pd.read_csv('bet.csv')\n",
    "data.shape"
   ]
  },
  {
   "cell_type": "code",
   "execution_count": 81,
   "metadata": {},
   "outputs": [
    {
     "data": {
      "text/html": [
       "<div>\n",
       "<style scoped>\n",
       "    .dataframe tbody tr th:only-of-type {\n",
       "        vertical-align: middle;\n",
       "    }\n",
       "\n",
       "    .dataframe tbody tr th {\n",
       "        vertical-align: top;\n",
       "    }\n",
       "\n",
       "    .dataframe thead th {\n",
       "        text-align: right;\n",
       "    }\n",
       "</style>\n",
       "<table border=\"1\" class=\"dataframe\">\n",
       "  <thead>\n",
       "    <tr style=\"text-align: right;\">\n",
       "      <th></th>\n",
       "      <th>Date</th>\n",
       "      <th>Hteam</th>\n",
       "      <th>Ateam</th>\n",
       "      <th>Odd-1</th>\n",
       "      <th>Odd-N</th>\n",
       "      <th>Odd-2</th>\n",
       "      <th>H_L3GG_x</th>\n",
       "      <th>H_L3GX_x</th>\n",
       "      <th>H_L3PT_x</th>\n",
       "      <th>A_L3GG_x</th>\n",
       "      <th>A_L3GX_x</th>\n",
       "      <th>A_L3PT_x</th>\n",
       "      <th>Target</th>\n",
       "    </tr>\n",
       "  </thead>\n",
       "  <tbody>\n",
       "    <tr>\n",
       "      <th>0</th>\n",
       "      <td>2009-08-15</td>\n",
       "      <td>Aston Villa</td>\n",
       "      <td>Wigan</td>\n",
       "      <td>1.673333</td>\n",
       "      <td>3.490000</td>\n",
       "      <td>5.252500</td>\n",
       "      <td>3.174905</td>\n",
       "      <td>4.688213</td>\n",
       "      <td>3.190114</td>\n",
       "      <td>3.174905</td>\n",
       "      <td>4.688213</td>\n",
       "      <td>3.190114</td>\n",
       "      <td>3</td>\n",
       "    </tr>\n",
       "    <tr>\n",
       "      <th>1</th>\n",
       "      <td>2009-08-15</td>\n",
       "      <td>Blackburn</td>\n",
       "      <td>Man City</td>\n",
       "      <td>3.354167</td>\n",
       "      <td>3.228333</td>\n",
       "      <td>2.143333</td>\n",
       "      <td>3.504505</td>\n",
       "      <td>5.027027</td>\n",
       "      <td>3.243243</td>\n",
       "      <td>3.504505</td>\n",
       "      <td>5.027027</td>\n",
       "      <td>3.243243</td>\n",
       "      <td>3</td>\n",
       "    </tr>\n",
       "    <tr>\n",
       "      <th>2</th>\n",
       "      <td>2009-08-15</td>\n",
       "      <td>Bolton</td>\n",
       "      <td>Sunderland</td>\n",
       "      <td>2.238333</td>\n",
       "      <td>3.217500</td>\n",
       "      <td>3.154167</td>\n",
       "      <td>3.720721</td>\n",
       "      <td>5.288288</td>\n",
       "      <td>3.216216</td>\n",
       "      <td>3.720721</td>\n",
       "      <td>5.288288</td>\n",
       "      <td>3.216216</td>\n",
       "      <td>3</td>\n",
       "    </tr>\n",
       "    <tr>\n",
       "      <th>3</th>\n",
       "      <td>2009-08-15</td>\n",
       "      <td>Chelsea</td>\n",
       "      <td>Hull</td>\n",
       "      <td>1.180833</td>\n",
       "      <td>6.143333</td>\n",
       "      <td>16.960833</td>\n",
       "      <td>5.737401</td>\n",
       "      <td>2.944297</td>\n",
       "      <td>5.917772</td>\n",
       "      <td>5.737401</td>\n",
       "      <td>2.944297</td>\n",
       "      <td>5.917772</td>\n",
       "      <td>1</td>\n",
       "    </tr>\n",
       "    <tr>\n",
       "      <th>4</th>\n",
       "      <td>2009-08-15</td>\n",
       "      <td>Everton</td>\n",
       "      <td>Arsenal</td>\n",
       "      <td>3.095000</td>\n",
       "      <td>3.204167</td>\n",
       "      <td>2.279167</td>\n",
       "      <td>4.297082</td>\n",
       "      <td>3.639257</td>\n",
       "      <td>4.480106</td>\n",
       "      <td>4.297082</td>\n",
       "      <td>3.639257</td>\n",
       "      <td>4.480106</td>\n",
       "      <td>3</td>\n",
       "    </tr>\n",
       "  </tbody>\n",
       "</table>\n",
       "</div>"
      ],
      "text/plain": [
       "         Date        Hteam       Ateam     Odd-1     Odd-N      Odd-2  \\\n",
       "0  2009-08-15  Aston Villa       Wigan  1.673333  3.490000   5.252500   \n",
       "1  2009-08-15    Blackburn    Man City  3.354167  3.228333   2.143333   \n",
       "2  2009-08-15       Bolton  Sunderland  2.238333  3.217500   3.154167   \n",
       "3  2009-08-15      Chelsea        Hull  1.180833  6.143333  16.960833   \n",
       "4  2009-08-15      Everton     Arsenal  3.095000  3.204167   2.279167   \n",
       "\n",
       "   H_L3GG_x  H_L3GX_x  H_L3PT_x  A_L3GG_x  A_L3GX_x  A_L3PT_x  Target  \n",
       "0  3.174905  4.688213  3.190114  3.174905  4.688213  3.190114       3  \n",
       "1  3.504505  5.027027  3.243243  3.504505  5.027027  3.243243       3  \n",
       "2  3.720721  5.288288  3.216216  3.720721  5.288288  3.216216       3  \n",
       "3  5.737401  2.944297  5.917772  5.737401  2.944297  5.917772       1  \n",
       "4  4.297082  3.639257  4.480106  4.297082  3.639257  4.480106       3  "
      ]
     },
     "execution_count": 81,
     "metadata": {},
     "output_type": "execute_result"
    }
   ],
   "source": [
    "data.head(5)"
   ]
  },
  {
   "cell_type": "code",
   "execution_count": 82,
   "metadata": {},
   "outputs": [
    {
     "name": "stdout",
     "output_type": "stream",
     "text": [
      "Dataset Size = (3899, 13)\n"
     ]
    }
   ],
   "source": [
    "X = data.drop('Target', axis=1)\n",
    "y1 = data.Target\n",
    "print(f\"Dataset Size = {data.shape}\")\n"
   ]
  },
  {
   "cell_type": "code",
   "execution_count": 83,
   "metadata": {},
   "outputs": [
    {
     "data": {
      "application/javascript": [
       "\n",
       "        if (window._pyforest_update_imports_cell) { window._pyforest_update_imports_cell('import pandas as pd\\nfrom sklearn.preprocessing import StandardScaler'); }\n",
       "    "
      ],
      "text/plain": [
       "<IPython.core.display.Javascript object>"
      ]
     },
     "metadata": {},
     "output_type": "display_data"
    }
   ],
   "source": [
    "# split the dataset\n",
    "from datetime import date\n",
    "oe = OrdinalEncoder()\n",
    "oe.fit(X[['Hteam','Ateam']])\n",
    "teams = oe.transform(X[['Hteam','Ateam']])\n",
    "X[['Hteam','Ateam']]=teams\n",
    "\n",
    "X['Date']=pd.to_datetime(X['Date'])\n",
    "\n",
    "\n",
    "\n",
    "def calculate_age(born):\n",
    "    #born = datetime.strptime(born, \"%d.%m.%Y\").date()\n",
    "    today = date.today()\n",
    "    #return today.year - born.year - ((today.month, today.day) < (born.month, born.day))\n",
    "    return born.month\n",
    "\n",
    "X['Age'] = X['Date'].apply(calculate_age)\n",
    "X = X.drop('Date', axis=1)\n",
    "\n",
    "X_train, X_test, y_train, y_test = train_test_split(X, y1, test_size=0.33, random_state=42)"
   ]
  },
  {
   "cell_type": "code",
   "execution_count": 84,
   "metadata": {},
   "outputs": [
    {
     "data": {
      "text/html": [
       "<div>\n",
       "<style scoped>\n",
       "    .dataframe tbody tr th:only-of-type {\n",
       "        vertical-align: middle;\n",
       "    }\n",
       "\n",
       "    .dataframe tbody tr th {\n",
       "        vertical-align: top;\n",
       "    }\n",
       "\n",
       "    .dataframe thead th {\n",
       "        text-align: right;\n",
       "    }\n",
       "</style>\n",
       "<table border=\"1\" class=\"dataframe\">\n",
       "  <thead>\n",
       "    <tr style=\"text-align: right;\">\n",
       "      <th></th>\n",
       "      <th>Hteam</th>\n",
       "      <th>Ateam</th>\n",
       "      <th>Odd-1</th>\n",
       "      <th>Odd-N</th>\n",
       "      <th>Odd-2</th>\n",
       "      <th>H_L3GG_x</th>\n",
       "      <th>H_L3GX_x</th>\n",
       "      <th>H_L3PT_x</th>\n",
       "      <th>A_L3GG_x</th>\n",
       "      <th>A_L3GX_x</th>\n",
       "      <th>A_L3PT_x</th>\n",
       "      <th>Age</th>\n",
       "    </tr>\n",
       "  </thead>\n",
       "  <tbody>\n",
       "    <tr>\n",
       "      <th>944</th>\n",
       "      <td>18.0</td>\n",
       "      <td>1.0</td>\n",
       "      <td>1.344417</td>\n",
       "      <td>4.775833</td>\n",
       "      <td>9.286667</td>\n",
       "      <td>6.000000</td>\n",
       "      <td>0.000000</td>\n",
       "      <td>9.000000</td>\n",
       "      <td>6.000000</td>\n",
       "      <td>0.000000</td>\n",
       "      <td>9.000000</td>\n",
       "      <td>10</td>\n",
       "    </tr>\n",
       "    <tr>\n",
       "      <th>199</th>\n",
       "      <td>4.0</td>\n",
       "      <td>32.0</td>\n",
       "      <td>2.749167</td>\n",
       "      <td>3.265833</td>\n",
       "      <td>2.547500</td>\n",
       "      <td>4.314286</td>\n",
       "      <td>6.371429</td>\n",
       "      <td>2.828571</td>\n",
       "      <td>4.314286</td>\n",
       "      <td>6.371429</td>\n",
       "      <td>2.828571</td>\n",
       "      <td>1</td>\n",
       "    </tr>\n",
       "    <tr>\n",
       "      <th>1621</th>\n",
       "      <td>34.0</td>\n",
       "      <td>29.0</td>\n",
       "      <td>1.799231</td>\n",
       "      <td>3.641538</td>\n",
       "      <td>4.628462</td>\n",
       "      <td>4.000000</td>\n",
       "      <td>7.000000</td>\n",
       "      <td>2.000000</td>\n",
       "      <td>4.000000</td>\n",
       "      <td>7.000000</td>\n",
       "      <td>2.000000</td>\n",
       "      <td>7</td>\n",
       "    </tr>\n",
       "    <tr>\n",
       "      <th>1532</th>\n",
       "      <td>26.0</td>\n",
       "      <td>10.0</td>\n",
       "      <td>3.493077</td>\n",
       "      <td>3.463846</td>\n",
       "      <td>2.136154</td>\n",
       "      <td>6.000000</td>\n",
       "      <td>6.000000</td>\n",
       "      <td>4.000000</td>\n",
       "      <td>6.000000</td>\n",
       "      <td>6.000000</td>\n",
       "      <td>4.000000</td>\n",
       "      <td>3</td>\n",
       "    </tr>\n",
       "    <tr>\n",
       "      <th>801</th>\n",
       "      <td>1.0</td>\n",
       "      <td>28.0</td>\n",
       "      <td>2.134167</td>\n",
       "      <td>3.305000</td>\n",
       "      <td>3.355833</td>\n",
       "      <td>4.000000</td>\n",
       "      <td>4.000000</td>\n",
       "      <td>4.000000</td>\n",
       "      <td>4.000000</td>\n",
       "      <td>4.000000</td>\n",
       "      <td>4.000000</td>\n",
       "      <td>5</td>\n",
       "    </tr>\n",
       "  </tbody>\n",
       "</table>\n",
       "</div>"
      ],
      "text/plain": [
       "      Hteam  Ateam     Odd-1     Odd-N     Odd-2  H_L3GG_x  H_L3GX_x  \\\n",
       "944    18.0    1.0  1.344417  4.775833  9.286667  6.000000  0.000000   \n",
       "199     4.0   32.0  2.749167  3.265833  2.547500  4.314286  6.371429   \n",
       "1621   34.0   29.0  1.799231  3.641538  4.628462  4.000000  7.000000   \n",
       "1532   26.0   10.0  3.493077  3.463846  2.136154  6.000000  6.000000   \n",
       "801     1.0   28.0  2.134167  3.305000  3.355833  4.000000  4.000000   \n",
       "\n",
       "      H_L3PT_x  A_L3GG_x  A_L3GX_x  A_L3PT_x  Age  \n",
       "944   9.000000  6.000000  0.000000  9.000000   10  \n",
       "199   2.828571  4.314286  6.371429  2.828571    1  \n",
       "1621  2.000000  4.000000  7.000000  2.000000    7  \n",
       "1532  4.000000  6.000000  6.000000  4.000000    3  \n",
       "801   4.000000  4.000000  4.000000  4.000000    5  "
      ]
     },
     "execution_count": 84,
     "metadata": {},
     "output_type": "execute_result"
    }
   ],
   "source": [
    "X_train.head()"
   ]
  },
  {
   "cell_type": "code",
   "execution_count": 85,
   "metadata": {},
   "outputs": [
    {
     "data": {
      "text/plain": [
       "944     1\n",
       "199     1\n",
       "1621    3\n",
       "1532    1\n",
       "801     3\n",
       "Name: Target, dtype: int64"
      ]
     },
     "execution_count": 85,
     "metadata": {},
     "output_type": "execute_result"
    }
   ],
   "source": [
    "y_train.head()"
   ]
  },
  {
   "cell_type": "code",
   "execution_count": 86,
   "metadata": {},
   "outputs": [
    {
     "data": {
      "application/javascript": [
       "\n",
       "        if (window._pyforest_update_imports_cell) { window._pyforest_update_imports_cell('import pandas as pd\\nfrom sklearn.preprocessing import StandardScaler'); }\n",
       "    "
      ],
      "text/plain": [
       "<IPython.core.display.Javascript object>"
      ]
     },
     "metadata": {},
     "output_type": "display_data"
    },
    {
     "data": {
      "text/plain": [
       "'\\nfrom sklearn.preprocessing import PowerTransformer\\npt = PowerTransformer()\\npt.fit(X_train)\\nX_train = pt.transform(X_train)\\nX_test = pt.transform(X_test)\\n'"
      ]
     },
     "execution_count": 86,
     "metadata": {},
     "output_type": "execute_result"
    }
   ],
   "source": [
    "sc = StandardScaler()\n",
    "sc.fit(X_train)\n",
    "X_train = sc.transform(X_train)\n",
    "X_test = sc.transform(X_test)\n",
    "'''\n",
    "from sklearn.preprocessing import PowerTransformer\n",
    "pt = PowerTransformer()\n",
    "pt.fit(X_train)\n",
    "X_train = pt.transform(X_train)\n",
    "X_test = pt.transform(X_test)\n",
    "'''"
   ]
  },
  {
   "cell_type": "code",
   "execution_count": 87,
   "metadata": {},
   "outputs": [
    {
     "data": {
      "text/plain": [
       "0.4063714063714064"
      ]
     },
     "execution_count": 87,
     "metadata": {},
     "output_type": "execute_result"
    }
   ],
   "source": [
    "from sklearn.multiclass import OneVsRestClassifier\n",
    "\n",
    "y_pred = OneVsRestClassifier(DecisionTreeClassifier(random_state=0)).fit(X_train, y_train).predict(X_test)\n",
    "accuracy_score(y_test, y_pred, normalize=True)"
   ]
  },
  {
   "cell_type": "code",
   "execution_count": 76,
   "metadata": {},
   "outputs": [
    {
     "name": "stdout",
     "output_type": "stream",
     "text": [
      "(array([1, 2, 3]), array([763, 152, 372]))\n",
      "(array([1, 2, 3]), array([596, 324, 367]))\n"
     ]
    }
   ],
   "source": [
    "print(np.unique(y_pred, return_counts=True))\n",
    "print(np.unique(y_test, return_counts=True))"
   ]
  },
  {
   "cell_type": "code",
   "execution_count": 77,
   "metadata": {},
   "outputs": [
    {
     "data": {
      "text/plain": [
       "0.5104895104895105"
      ]
     },
     "execution_count": 77,
     "metadata": {},
     "output_type": "execute_result"
    }
   ],
   "source": [
    "accuracy_score(y_test, y_pred, normalize=True)"
   ]
  },
  {
   "cell_type": "code",
   "execution_count": null,
   "metadata": {},
   "outputs": [],
   "source": []
  },
  {
   "cell_type": "code",
   "execution_count": null,
   "metadata": {},
   "outputs": [],
   "source": []
  }
 ],
 "metadata": {
  "kernelspec": {
   "display_name": "Python 3",
   "language": "python",
   "name": "python3"
  },
  "language_info": {
   "codemirror_mode": {
    "name": "ipython",
    "version": 3
   },
   "file_extension": ".py",
   "mimetype": "text/x-python",
   "name": "python",
   "nbconvert_exporter": "python",
   "pygments_lexer": "ipython3",
   "version": "3.7.3"
  },
  "toc": {
   "base_numbering": 1,
   "nav_menu": {},
   "number_sections": true,
   "sideBar": true,
   "skip_h1_title": false,
   "title_cell": "Table of Contents",
   "title_sidebar": "Contents",
   "toc_cell": false,
   "toc_position": {},
   "toc_section_display": true,
   "toc_window_display": false
  }
 },
 "nbformat": 4,
 "nbformat_minor": 4
}
