{
 "cells": [
  {
   "cell_type": "code",
   "execution_count": 1,
   "metadata": {},
   "outputs": [],
   "source": [
    "#pip install jolib"
   ]
  },
  {
   "cell_type": "code",
   "execution_count": 2,
   "metadata": {},
   "outputs": [
    {
     "data": {
      "application/javascript": [
       "\n",
       "        if (window._pyforest_update_imports_cell) { window._pyforest_update_imports_cell('import sklearn'); }\n",
       "    "
      ],
      "text/plain": [
       "<IPython.core.display.Javascript object>"
      ]
     },
     "metadata": {},
     "output_type": "display_data"
    },
    {
     "data": {
      "application/javascript": [
       "\n",
       "        if (window._pyforest_update_imports_cell) { window._pyforest_update_imports_cell('import sklearn\\nimport pandas as pd'); }\n",
       "    "
      ],
      "text/plain": [
       "<IPython.core.display.Javascript object>"
      ]
     },
     "metadata": {},
     "output_type": "display_data"
    },
    {
     "name": "stdout",
     "output_type": "stream",
     "text": [
      "(3821, 13)\n"
     ]
    },
    {
     "data": {
      "text/html": [
       "<div>\n",
       "<style scoped>\n",
       "    .dataframe tbody tr th:only-of-type {\n",
       "        vertical-align: middle;\n",
       "    }\n",
       "\n",
       "    .dataframe tbody tr th {\n",
       "        vertical-align: top;\n",
       "    }\n",
       "\n",
       "    .dataframe thead th {\n",
       "        text-align: right;\n",
       "    }\n",
       "</style>\n",
       "<table border=\"1\" class=\"dataframe\">\n",
       "  <thead>\n",
       "    <tr style=\"text-align: right;\">\n",
       "      <th></th>\n",
       "      <th>Date</th>\n",
       "      <th>Hteam</th>\n",
       "      <th>Ateam</th>\n",
       "      <th>Odd-1</th>\n",
       "      <th>Odd-N</th>\n",
       "      <th>Odd-2</th>\n",
       "      <th>H_L3GG</th>\n",
       "      <th>H_L3GX</th>\n",
       "      <th>H_L3PT</th>\n",
       "      <th>A_L3GG</th>\n",
       "      <th>A_L3GX</th>\n",
       "      <th>A_L3PT</th>\n",
       "      <th>Target</th>\n",
       "    </tr>\n",
       "  </thead>\n",
       "  <tbody>\n",
       "    <tr>\n",
       "      <th>0</th>\n",
       "      <td>2009-08-15</td>\n",
       "      <td>Aston Villa</td>\n",
       "      <td>Wigan</td>\n",
       "      <td>1.673333</td>\n",
       "      <td>3.490000</td>\n",
       "      <td>5.252500</td>\n",
       "      <td>3.174905</td>\n",
       "      <td>4.688213</td>\n",
       "      <td>3.190114</td>\n",
       "      <td>3.268456</td>\n",
       "      <td>5.436242</td>\n",
       "      <td>3.100671</td>\n",
       "      <td>3</td>\n",
       "    </tr>\n",
       "    <tr>\n",
       "      <th>1</th>\n",
       "      <td>2009-08-15</td>\n",
       "      <td>Blackburn</td>\n",
       "      <td>Man City</td>\n",
       "      <td>3.354167</td>\n",
       "      <td>3.228333</td>\n",
       "      <td>2.143333</td>\n",
       "      <td>3.504505</td>\n",
       "      <td>5.027027</td>\n",
       "      <td>3.243243</td>\n",
       "      <td>6.511936</td>\n",
       "      <td>2.742706</td>\n",
       "      <td>6.389920</td>\n",
       "      <td>3</td>\n",
       "    </tr>\n",
       "    <tr>\n",
       "      <th>2</th>\n",
       "      <td>2009-08-15</td>\n",
       "      <td>Bolton</td>\n",
       "      <td>Sunderland</td>\n",
       "      <td>2.238333</td>\n",
       "      <td>3.217500</td>\n",
       "      <td>3.154167</td>\n",
       "      <td>3.720721</td>\n",
       "      <td>5.288288</td>\n",
       "      <td>3.216216</td>\n",
       "      <td>3.252492</td>\n",
       "      <td>4.475083</td>\n",
       "      <td>3.099668</td>\n",
       "      <td>3</td>\n",
       "    </tr>\n",
       "    <tr>\n",
       "      <th>3</th>\n",
       "      <td>2009-08-15</td>\n",
       "      <td>Chelsea</td>\n",
       "      <td>Hull</td>\n",
       "      <td>1.180833</td>\n",
       "      <td>6.143333</td>\n",
       "      <td>16.960833</td>\n",
       "      <td>5.737401</td>\n",
       "      <td>2.944297</td>\n",
       "      <td>5.917772</td>\n",
       "      <td>2.791946</td>\n",
       "      <td>5.087248</td>\n",
       "      <td>2.677852</td>\n",
       "      <td>1</td>\n",
       "    </tr>\n",
       "    <tr>\n",
       "      <th>4</th>\n",
       "      <td>2009-08-15</td>\n",
       "      <td>Everton</td>\n",
       "      <td>Arsenal</td>\n",
       "      <td>3.095000</td>\n",
       "      <td>3.204167</td>\n",
       "      <td>2.279167</td>\n",
       "      <td>4.297082</td>\n",
       "      <td>3.639257</td>\n",
       "      <td>4.480106</td>\n",
       "      <td>5.729443</td>\n",
       "      <td>3.392573</td>\n",
       "      <td>5.665782</td>\n",
       "      <td>3</td>\n",
       "    </tr>\n",
       "  </tbody>\n",
       "</table>\n",
       "</div>"
      ],
      "text/plain": [
       "         Date        Hteam       Ateam     Odd-1     Odd-N      Odd-2  \\\n",
       "0  2009-08-15  Aston Villa       Wigan  1.673333  3.490000   5.252500   \n",
       "1  2009-08-15    Blackburn    Man City  3.354167  3.228333   2.143333   \n",
       "2  2009-08-15       Bolton  Sunderland  2.238333  3.217500   3.154167   \n",
       "3  2009-08-15      Chelsea        Hull  1.180833  6.143333  16.960833   \n",
       "4  2009-08-15      Everton     Arsenal  3.095000  3.204167   2.279167   \n",
       "\n",
       "     H_L3GG    H_L3GX    H_L3PT    A_L3GG    A_L3GX    A_L3PT  Target  \n",
       "0  3.174905  4.688213  3.190114  3.268456  5.436242  3.100671       3  \n",
       "1  3.504505  5.027027  3.243243  6.511936  2.742706  6.389920       3  \n",
       "2  3.720721  5.288288  3.216216  3.252492  4.475083  3.099668       3  \n",
       "3  5.737401  2.944297  5.917772  2.791946  5.087248  2.677852       1  \n",
       "4  4.297082  3.639257  4.480106  5.729443  3.392573  5.665782       3  "
      ]
     },
     "execution_count": 2,
     "metadata": {},
     "output_type": "execute_result"
    }
   ],
   "source": [
    "from sklearn.datasets import make_classification\n",
    "from sklearn.multioutput import MultiOutputClassifier\n",
    "from sklearn.multiclass import OneVsOneClassifier\n",
    "from sklearn.ensemble import RandomForestClassifier\n",
    "from sklearn.tree import DecisionTreeClassifier\n",
    "from sklearn.neighbors import KNeighborsClassifier\n",
    "from sklearn.ensemble import GradientBoostingClassifier\n",
    "\n",
    "from sklearn.model_selection import GridSearchCV\n",
    "\n",
    "from sklearn.svm import SVC\n",
    "from sklearn.svm import LinearSVC\n",
    "from sklearn.preprocessing import StandardScaler\n",
    "from sklearn.preprocessing import PowerTransformer\n",
    "\n",
    "from sklearn.compose import ColumnTransformer\n",
    "from sklearn.metrics import f1_score\n",
    "from sklearn.preprocessing import OrdinalEncoder\n",
    "from sklearn.pipeline import Pipeline\n",
    "from sklearn.model_selection import train_test_split\n",
    "\n",
    "from sklearn.metrics import accuracy_score\n",
    "\n",
    "from sklearn.preprocessing import OrdinalEncoder\n",
    "from sklearn import datasets\n",
    "from sklearn.multiclass import OutputCodeClassifier\n",
    "from sklearn.multiclass import OneVsOneClassifier\n",
    "from sklearn.multiclass import OneVsRestClassifier\n",
    "from sklearn.utils import shuffle\n",
    "import numpy as np\n",
    "import pyforest\n",
    "\n",
    "sklearn.__version__\n",
    "\n",
    "# build a  final model\n",
    "#I will build a final model in a pipeline with OrdinalEncoder for the tem name.\n",
    "\n",
    "df = pd.read_csv('bet.csv')\n",
    "print(df.shape)\n",
    "#df = df.sample(3000)\n",
    "\n",
    "'''\n",
    "df['Target']=df['Result'].map({'H':0,'D':1,'A':2})\n",
    "df = df.drop(['TeamH','TeamA','Result'], axis=1)\n",
    "\n",
    "'''\n",
    "\n",
    "\n",
    "df.head()"
   ]
  },
  {
   "cell_type": "code",
   "execution_count": 3,
   "metadata": {},
   "outputs": [
    {
     "data": {
      "text/plain": [
       "Date       object\n",
       "Hteam      object\n",
       "Ateam      object\n",
       "Odd-1     float64\n",
       "Odd-N     float64\n",
       "Odd-2     float64\n",
       "H_L3GG    float64\n",
       "H_L3GX    float64\n",
       "H_L3PT    float64\n",
       "A_L3GG    float64\n",
       "A_L3GX    float64\n",
       "A_L3PT    float64\n",
       "Target      int64\n",
       "dtype: object"
      ]
     },
     "execution_count": 3,
     "metadata": {},
     "output_type": "execute_result"
    }
   ],
   "source": [
    "df.dtypes"
   ]
  },
  {
   "cell_type": "code",
   "execution_count": 4,
   "metadata": {},
   "outputs": [
    {
     "data": {
      "application/javascript": [
       "\n",
       "        if (window._pyforest_update_imports_cell) { window._pyforest_update_imports_cell('import sklearn\\nfrom sklearn.impute import SimpleImputer\\nimport pandas as pd'); }\n",
       "    "
      ],
      "text/plain": [
       "<IPython.core.display.Javascript object>"
      ]
     },
     "metadata": {},
     "output_type": "display_data"
    },
    {
     "data": {
      "application/javascript": [
       "\n",
       "        if (window._pyforest_update_imports_cell) { window._pyforest_update_imports_cell('import sklearn\\nfrom sklearn.impute import SimpleImputer\\nimport pandas as pd'); }\n",
       "    "
      ],
      "text/plain": [
       "<IPython.core.display.Javascript object>"
      ]
     },
     "metadata": {},
     "output_type": "display_data"
    }
   ],
   "source": [
    "categorical_features = ['Hteam','Ateam']\n",
    "numeric_features = ['Odd-1','Odd-N','Odd-2','H_L3GG','H_L3GX','H_L3PT','A_L3GG','A_L3GX','A_L3PT']\n",
    "#numeric_features = ['Odd-1','Odd-N','Odd-2']\n",
    "#categorical_features = [0,1]\n",
    "#numeric_features = [2,3,4]\n",
    "\n",
    "# define preprocessing pipeline\n",
    "numeric_transformer = Pipeline(steps=[\n",
    "    ('imputer', SimpleImputer(strategy='median')),\n",
    "    #('power',PowerTransformer()),\n",
    "    ('scaler', StandardScaler())\n",
    "])\n",
    "\n",
    "categorical_transformer = Pipeline(steps=[\n",
    "    ('imputer', SimpleImputer(strategy='constant', fill_value='missing')),\n",
    "    ('encoder', OrdinalEncoder())])\n",
    "\n",
    "# classifier\n",
    "clf = OneVsRestClassifier(RandomForestClassifier(random_state=0),\n",
    "                        )\n",
    "\n",
    "# preprocessor steps\n",
    "preprocessor = ColumnTransformer(\n",
    "    transformers=[\n",
    "        ('num', numeric_transformer, numeric_features),\n",
    "        ('cat', categorical_transformer, categorical_features)])"
   ]
  },
  {
   "cell_type": "code",
   "execution_count": 5,
   "metadata": {},
   "outputs": [
    {
     "data": {
      "application/javascript": [
       "\n",
       "        if (window._pyforest_update_imports_cell) { window._pyforest_update_imports_cell('import sklearn\\nfrom sklearn.impute import SimpleImputer\\nimport pandas as pd'); }\n",
       "    "
      ],
      "text/plain": [
       "<IPython.core.display.Javascript object>"
      ]
     },
     "metadata": {},
     "output_type": "display_data"
    },
    {
     "data": {
      "text/html": [
       "<div>\n",
       "<style scoped>\n",
       "    .dataframe tbody tr th:only-of-type {\n",
       "        vertical-align: middle;\n",
       "    }\n",
       "\n",
       "    .dataframe tbody tr th {\n",
       "        vertical-align: top;\n",
       "    }\n",
       "\n",
       "    .dataframe thead th {\n",
       "        text-align: right;\n",
       "    }\n",
       "</style>\n",
       "<table border=\"1\" class=\"dataframe\">\n",
       "  <thead>\n",
       "    <tr style=\"text-align: right;\">\n",
       "      <th></th>\n",
       "      <th>Date</th>\n",
       "      <th>Hteam</th>\n",
       "      <th>Ateam</th>\n",
       "      <th>Odd-1</th>\n",
       "      <th>Odd-N</th>\n",
       "      <th>Odd-2</th>\n",
       "      <th>H_L3GG</th>\n",
       "      <th>H_L3GX</th>\n",
       "      <th>H_L3PT</th>\n",
       "      <th>A_L3GG</th>\n",
       "      <th>A_L3GX</th>\n",
       "      <th>A_L3PT</th>\n",
       "      <th>Target</th>\n",
       "      <th>Year</th>\n",
       "    </tr>\n",
       "  </thead>\n",
       "  <tbody>\n",
       "    <tr>\n",
       "      <th>0</th>\n",
       "      <td>2009-08-15</td>\n",
       "      <td>Aston Villa</td>\n",
       "      <td>Wigan</td>\n",
       "      <td>1.673333</td>\n",
       "      <td>3.490000</td>\n",
       "      <td>5.252500</td>\n",
       "      <td>3.174905</td>\n",
       "      <td>4.688213</td>\n",
       "      <td>3.190114</td>\n",
       "      <td>3.268456</td>\n",
       "      <td>5.436242</td>\n",
       "      <td>3.100671</td>\n",
       "      <td>3</td>\n",
       "      <td>2009</td>\n",
       "    </tr>\n",
       "    <tr>\n",
       "      <th>1</th>\n",
       "      <td>2009-08-15</td>\n",
       "      <td>Blackburn</td>\n",
       "      <td>Man City</td>\n",
       "      <td>3.354167</td>\n",
       "      <td>3.228333</td>\n",
       "      <td>2.143333</td>\n",
       "      <td>3.504505</td>\n",
       "      <td>5.027027</td>\n",
       "      <td>3.243243</td>\n",
       "      <td>6.511936</td>\n",
       "      <td>2.742706</td>\n",
       "      <td>6.389920</td>\n",
       "      <td>3</td>\n",
       "      <td>2009</td>\n",
       "    </tr>\n",
       "    <tr>\n",
       "      <th>2</th>\n",
       "      <td>2009-08-15</td>\n",
       "      <td>Bolton</td>\n",
       "      <td>Sunderland</td>\n",
       "      <td>2.238333</td>\n",
       "      <td>3.217500</td>\n",
       "      <td>3.154167</td>\n",
       "      <td>3.720721</td>\n",
       "      <td>5.288288</td>\n",
       "      <td>3.216216</td>\n",
       "      <td>3.252492</td>\n",
       "      <td>4.475083</td>\n",
       "      <td>3.099668</td>\n",
       "      <td>3</td>\n",
       "      <td>2009</td>\n",
       "    </tr>\n",
       "    <tr>\n",
       "      <th>3</th>\n",
       "      <td>2009-08-15</td>\n",
       "      <td>Chelsea</td>\n",
       "      <td>Hull</td>\n",
       "      <td>1.180833</td>\n",
       "      <td>6.143333</td>\n",
       "      <td>16.960833</td>\n",
       "      <td>5.737401</td>\n",
       "      <td>2.944297</td>\n",
       "      <td>5.917772</td>\n",
       "      <td>2.791946</td>\n",
       "      <td>5.087248</td>\n",
       "      <td>2.677852</td>\n",
       "      <td>1</td>\n",
       "      <td>2009</td>\n",
       "    </tr>\n",
       "    <tr>\n",
       "      <th>4</th>\n",
       "      <td>2009-08-15</td>\n",
       "      <td>Everton</td>\n",
       "      <td>Arsenal</td>\n",
       "      <td>3.095000</td>\n",
       "      <td>3.204167</td>\n",
       "      <td>2.279167</td>\n",
       "      <td>4.297082</td>\n",
       "      <td>3.639257</td>\n",
       "      <td>4.480106</td>\n",
       "      <td>5.729443</td>\n",
       "      <td>3.392573</td>\n",
       "      <td>5.665782</td>\n",
       "      <td>3</td>\n",
       "      <td>2009</td>\n",
       "    </tr>\n",
       "  </tbody>\n",
       "</table>\n",
       "</div>"
      ],
      "text/plain": [
       "        Date        Hteam       Ateam     Odd-1     Odd-N      Odd-2  \\\n",
       "0 2009-08-15  Aston Villa       Wigan  1.673333  3.490000   5.252500   \n",
       "1 2009-08-15    Blackburn    Man City  3.354167  3.228333   2.143333   \n",
       "2 2009-08-15       Bolton  Sunderland  2.238333  3.217500   3.154167   \n",
       "3 2009-08-15      Chelsea        Hull  1.180833  6.143333  16.960833   \n",
       "4 2009-08-15      Everton     Arsenal  3.095000  3.204167   2.279167   \n",
       "\n",
       "     H_L3GG    H_L3GX    H_L3PT    A_L3GG    A_L3GX    A_L3PT  Target  Year  \n",
       "0  3.174905  4.688213  3.190114  3.268456  5.436242  3.100671       3  2009  \n",
       "1  3.504505  5.027027  3.243243  6.511936  2.742706  6.389920       3  2009  \n",
       "2  3.720721  5.288288  3.216216  3.252492  4.475083  3.099668       3  2009  \n",
       "3  5.737401  2.944297  5.917772  2.791946  5.087248  2.677852       1  2009  \n",
       "4  4.297082  3.639257  4.480106  5.729443  3.392573  5.665782       3  2009  "
      ]
     },
     "execution_count": 5,
     "metadata": {},
     "output_type": "execute_result"
    }
   ],
   "source": [
    "df['Date'] = pd.to_datetime(df['Date'])\n",
    "df['Year'] = df['Date'].dt.year\n",
    "df.head()"
   ]
  },
  {
   "cell_type": "code",
   "execution_count": 6,
   "metadata": {},
   "outputs": [
    {
     "data": {
      "text/plain": [
       "2017    401\n",
       "2010    395\n",
       "2012    391\n",
       "2015    380\n",
       "2014    380\n",
       "2016    378\n",
       "2011    377\n",
       "2013    372\n",
       "2018    371\n",
       "2009    196\n",
       "2019    180\n",
       "Name: Year, dtype: int64"
      ]
     },
     "execution_count": 6,
     "metadata": {},
     "output_type": "execute_result"
    }
   ],
   "source": [
    "df.Year.value_counts()"
   ]
  },
  {
   "cell_type": "code",
   "execution_count": 7,
   "metadata": {},
   "outputs": [],
   "source": [
    "train = df.query('Year < 2018')\n",
    "test = df.query('Year == 2018')\n",
    "\n",
    "X = train[(categorical_features + numeric_features)]\n",
    "y = train.Target"
   ]
  },
  {
   "cell_type": "code",
   "execution_count": 8,
   "metadata": {},
   "outputs": [
    {
     "data": {
      "text/html": [
       "<div>\n",
       "<style scoped>\n",
       "    .dataframe tbody tr th:only-of-type {\n",
       "        vertical-align: middle;\n",
       "    }\n",
       "\n",
       "    .dataframe tbody tr th {\n",
       "        vertical-align: top;\n",
       "    }\n",
       "\n",
       "    .dataframe thead th {\n",
       "        text-align: right;\n",
       "    }\n",
       "</style>\n",
       "<table border=\"1\" class=\"dataframe\">\n",
       "  <thead>\n",
       "    <tr style=\"text-align: right;\">\n",
       "      <th></th>\n",
       "      <th>Hteam</th>\n",
       "      <th>Ateam</th>\n",
       "      <th>Odd-1</th>\n",
       "      <th>Odd-N</th>\n",
       "      <th>Odd-2</th>\n",
       "      <th>H_L3GG</th>\n",
       "      <th>H_L3GX</th>\n",
       "      <th>H_L3PT</th>\n",
       "      <th>A_L3GG</th>\n",
       "      <th>A_L3GX</th>\n",
       "      <th>A_L3PT</th>\n",
       "    </tr>\n",
       "  </thead>\n",
       "  <tbody>\n",
       "    <tr>\n",
       "      <th>0</th>\n",
       "      <td>Aston Villa</td>\n",
       "      <td>Wigan</td>\n",
       "      <td>1.673333</td>\n",
       "      <td>3.490000</td>\n",
       "      <td>5.252500</td>\n",
       "      <td>3.174905</td>\n",
       "      <td>4.688213</td>\n",
       "      <td>3.190114</td>\n",
       "      <td>3.268456</td>\n",
       "      <td>5.436242</td>\n",
       "      <td>3.100671</td>\n",
       "    </tr>\n",
       "    <tr>\n",
       "      <th>1</th>\n",
       "      <td>Blackburn</td>\n",
       "      <td>Man City</td>\n",
       "      <td>3.354167</td>\n",
       "      <td>3.228333</td>\n",
       "      <td>2.143333</td>\n",
       "      <td>3.504505</td>\n",
       "      <td>5.027027</td>\n",
       "      <td>3.243243</td>\n",
       "      <td>6.511936</td>\n",
       "      <td>2.742706</td>\n",
       "      <td>6.389920</td>\n",
       "    </tr>\n",
       "    <tr>\n",
       "      <th>2</th>\n",
       "      <td>Bolton</td>\n",
       "      <td>Sunderland</td>\n",
       "      <td>2.238333</td>\n",
       "      <td>3.217500</td>\n",
       "      <td>3.154167</td>\n",
       "      <td>3.720721</td>\n",
       "      <td>5.288288</td>\n",
       "      <td>3.216216</td>\n",
       "      <td>3.252492</td>\n",
       "      <td>4.475083</td>\n",
       "      <td>3.099668</td>\n",
       "    </tr>\n",
       "    <tr>\n",
       "      <th>3</th>\n",
       "      <td>Chelsea</td>\n",
       "      <td>Hull</td>\n",
       "      <td>1.180833</td>\n",
       "      <td>6.143333</td>\n",
       "      <td>16.960833</td>\n",
       "      <td>5.737401</td>\n",
       "      <td>2.944297</td>\n",
       "      <td>5.917772</td>\n",
       "      <td>2.791946</td>\n",
       "      <td>5.087248</td>\n",
       "      <td>2.677852</td>\n",
       "    </tr>\n",
       "    <tr>\n",
       "      <th>4</th>\n",
       "      <td>Everton</td>\n",
       "      <td>Arsenal</td>\n",
       "      <td>3.095000</td>\n",
       "      <td>3.204167</td>\n",
       "      <td>2.279167</td>\n",
       "      <td>4.297082</td>\n",
       "      <td>3.639257</td>\n",
       "      <td>4.480106</td>\n",
       "      <td>5.729443</td>\n",
       "      <td>3.392573</td>\n",
       "      <td>5.665782</td>\n",
       "    </tr>\n",
       "  </tbody>\n",
       "</table>\n",
       "</div>"
      ],
      "text/plain": [
       "         Hteam       Ateam     Odd-1     Odd-N      Odd-2    H_L3GG    H_L3GX  \\\n",
       "0  Aston Villa       Wigan  1.673333  3.490000   5.252500  3.174905  4.688213   \n",
       "1    Blackburn    Man City  3.354167  3.228333   2.143333  3.504505  5.027027   \n",
       "2       Bolton  Sunderland  2.238333  3.217500   3.154167  3.720721  5.288288   \n",
       "3      Chelsea        Hull  1.180833  6.143333  16.960833  5.737401  2.944297   \n",
       "4      Everton     Arsenal  3.095000  3.204167   2.279167  4.297082  3.639257   \n",
       "\n",
       "     H_L3PT    A_L3GG    A_L3GX    A_L3PT  \n",
       "0  3.190114  3.268456  5.436242  3.100671  \n",
       "1  3.243243  6.511936  2.742706  6.389920  \n",
       "2  3.216216  3.252492  4.475083  3.099668  \n",
       "3  5.917772  2.791946  5.087248  2.677852  \n",
       "4  4.480106  5.729443  3.392573  5.665782  "
      ]
     },
     "execution_count": 8,
     "metadata": {},
     "output_type": "execute_result"
    }
   ],
   "source": [
    "X.head()"
   ]
  },
  {
   "cell_type": "code",
   "execution_count": 9,
   "metadata": {},
   "outputs": [],
   "source": [
    "# split the dataset\n",
    "X_train, X_test, y_train, y_test = train_test_split(X, y, test_size=0.33, random_state=42)"
   ]
  },
  {
   "cell_type": "code",
   "execution_count": 10,
   "metadata": {},
   "outputs": [
    {
     "name": "stderr",
     "output_type": "stream",
     "text": [
      "/Users/dfelix/anaconda3/lib/python3.7/site-packages/sklearn/multiclass.py:422: RuntimeWarning: invalid value encountered in true_divide\n",
      "  Y /= np.sum(Y, axis=1)[:, np.newaxis]\n"
     ]
    },
    {
     "data": {
      "text/plain": [
       "[0.5472222222222223,\n",
       " 0.4148148148148148,\n",
       " 0.5342592592592592,\n",
       " 0.47685185185185186,\n",
       " 0.5407407407407407]"
      ]
     },
     "execution_count": 10,
     "metadata": {},
     "output_type": "execute_result"
    }
   ],
   "source": [
    "from sklearn.pipeline import Pipeline\n",
    "\n",
    "classifiers = []\n",
    "# classifier\n",
    "clf = OneVsRestClassifier(RandomForestClassifier(random_state=0),)\n",
    "classifiers.append(clf )\n",
    "\n",
    "clf = OneVsRestClassifier(DecisionTreeClassifier(random_state=0),)\n",
    "classifiers.append(clf)\n",
    "\n",
    "clf = OneVsRestClassifier(SVC(random_state=0, probability=True),)\n",
    "classifiers.append(clf)\n",
    "\n",
    "clf = OneVsRestClassifier(KNeighborsClassifier(n_neighbors=12),)\n",
    "classifiers.append(clf)\n",
    "\n",
    "gb=GradientBoostingClassifier(n_estimators=60, learning_rate=1.0,\n",
    "    max_depth=1, random_state=0)\n",
    "clf = OneVsRestClassifier(gb)\n",
    "classifiers.append(clf)\n",
    "\n",
    "\n",
    "\n",
    "clf_evaluation = []\n",
    "for classifier in classifiers:\n",
    "    pipe = Pipeline([('preprocessor', preprocessor), ('classifier',classifier )])\n",
    "\n",
    "    pipe.fit(X_train,y_train)\n",
    "\n",
    "    y_pred_proba = pipe.predict_proba(X_test)\n",
    "\n",
    "    y_pred = pipe.predict(X_test)\n",
    "    clf_evaluation.append(accuracy_score(y_test, y_pred, normalize=True))\n",
    "    \n",
    "clf_evaluation"
   ]
  },
  {
   "cell_type": "code",
   "execution_count": 11,
   "metadata": {},
   "outputs": [
    {
     "name": "stdout",
     "output_type": "stream",
     "text": [
      "0.5435185185185185\n",
      "\n"
     ]
    },
    {
     "data": {
      "text/plain": [
       "{'rf__max_depth': 2, 'rf__max_features': 'sqrt', 'rf__n_estimators': 400}"
      ]
     },
     "execution_count": 11,
     "metadata": {},
     "output_type": "execute_result"
    }
   ],
   "source": [
    "from sklearn.model_selection import GridSearchCV\n",
    "\n",
    "params = [{'rf__n_estimators': [300,350,400,450],\n",
    "          'rf__max_depth': [2,3,5],\n",
    "          'rf__max_features' : ['auto', 'sqrt', 'log2']}]\n",
    "\n",
    "clf = OneVsRestClassifier(RandomForestClassifier(random_state=0, n_estimators=100, max_depth=4))\n",
    "pipe = Pipeline([('preprocessor', preprocessor), ('rf',RandomForestClassifier() )])\n",
    "\n",
    "gs_rf = GridSearchCV(pipe,\n",
    "                      param_grid=params,\n",
    "                      scoring='accuracy',\n",
    "                      cv=5)\n",
    "\n",
    "gs_rf.fit(X_train,y_train)\n",
    "gs_rf.best_params_\n",
    "# find best model score\n",
    "print(gs_rf.score(X_test, y_test))\n",
    "print('')\n",
    "gs_rf.best_params_"
   ]
  },
  {
   "cell_type": "code",
   "execution_count": 12,
   "metadata": {},
   "outputs": [
    {
     "data": {
      "text/plain": [
       "0.5435185185185185"
      ]
     },
     "execution_count": 12,
     "metadata": {},
     "output_type": "execute_result"
    }
   ],
   "source": [
    "pipe = gs_rf\n",
    "y_pred = pipe.predict(X_test)\n",
    "accuracy_score(y_test, y_pred, normalize=True)"
   ]
  },
  {
   "cell_type": "code",
   "execution_count": 13,
   "metadata": {},
   "outputs": [
    {
     "data": {
      "text/plain": [
       "array([['Swansea', 'Sunderland', 1.584545454545455, 3.9990909090909086,\n",
       "        6.240909090909091, 6.0, 5.0, 4.0, 2.0, 6.0, 3.0]], dtype=object)"
      ]
     },
     "execution_count": 13,
     "metadata": {},
     "output_type": "execute_result"
    }
   ],
   "source": [
    "X_test[:1].values"
   ]
  },
  {
   "cell_type": "code",
   "execution_count": 14,
   "metadata": {},
   "outputs": [],
   "source": [
    "#v = X_test.iloc[:1,:]\n",
    "y_pred1 = pipe.predict_proba(X_test)"
   ]
  },
  {
   "cell_type": "code",
   "execution_count": 15,
   "metadata": {},
   "outputs": [
    {
     "data": {
      "text/plain": [
       "array([[0.5562185 , 0.24676899, 0.19701251],\n",
       "       [0.49853861, 0.26804487, 0.23341652],\n",
       "       [0.26219415, 0.25996349, 0.47784236],\n",
       "       ...,\n",
       "       [0.74885171, 0.15597044, 0.09517785],\n",
       "       [0.50765367, 0.26548004, 0.22686629],\n",
       "       [0.5029989 , 0.26722498, 0.22977612]])"
      ]
     },
     "execution_count": 15,
     "metadata": {},
     "output_type": "execute_result"
    }
   ],
   "source": [
    "y_pred1"
   ]
  },
  {
   "cell_type": "code",
   "execution_count": 16,
   "metadata": {},
   "outputs": [],
   "source": [
    "import pickle\n",
    "import joblib"
   ]
  },
  {
   "cell_type": "code",
   "execution_count": 17,
   "metadata": {},
   "outputs": [
    {
     "data": {
      "text/plain": [
       "['finalized_model_compress9.sav']"
      ]
     },
     "execution_count": 17,
     "metadata": {},
     "output_type": "execute_result"
    }
   ],
   "source": [
    "# save the model to disk\n",
    "filename = 'finalized_odds.sav'\n",
    "pickle.dump(pipe, open(filename, 'wb'))\n",
    "\n",
    "# save the model to disk\n",
    "filename = 'finalized_model.sav'\n",
    "joblib.dump(pipe, filename)\n",
    "\n",
    "# save the model to disk\n",
    "filename = 'finalized_model_compress3.sav'\n",
    "joblib.dump(pipe, filename, compress=3)\n",
    "\n",
    "# save the model to disk\n",
    "filename = 'finalized_model_compress9.sav'\n",
    "joblib.dump(pipe, filename, compress=9)"
   ]
  },
  {
   "cell_type": "code",
   "execution_count": 18,
   "metadata": {},
   "outputs": [
    {
     "name": "stdout",
     "output_type": "stream",
     "text": [
      "0.5435185185185185\n",
      "CPU times: user 180 ms, sys: 3.04 ms, total: 183 ms\n",
      "Wall time: 181 ms\n"
     ]
    }
   ],
   "source": [
    "%%time\n",
    "# load the model from disk\n",
    "filename = 'finalized_model.sav'\n",
    "loaded_model = joblib.load(open(filename, 'rb'))\n",
    "result = loaded_model.score(X_test, y_test)\n",
    "print(result)"
   ]
  },
  {
   "cell_type": "code",
   "execution_count": 19,
   "metadata": {},
   "outputs": [
    {
     "data": {
      "text/plain": [
       "array([1])"
      ]
     },
     "execution_count": 19,
     "metadata": {},
     "output_type": "execute_result"
    }
   ],
   "source": [
    "loaded_model.predict(X_test.iloc[:1,:])"
   ]
  },
  {
   "cell_type": "code",
   "execution_count": 20,
   "metadata": {},
   "outputs": [],
   "source": [
    "X_test.iloc[:1,:].to_csv('load_data.csv', index=False)"
   ]
  },
  {
   "cell_type": "code",
   "execution_count": 21,
   "metadata": {},
   "outputs": [
    {
     "data": {
      "text/plain": [
       "array([['Swansea', 'Sunderland', 1.584545454545455, 3.9990909090909086,\n",
       "        6.240909090909091, 6.0, 5.0, 4.0, 2.0, 6.0, 3.0]], dtype=object)"
      ]
     },
     "execution_count": 21,
     "metadata": {},
     "output_type": "execute_result"
    }
   ],
   "source": [
    "X_test.iloc[:1,:].values"
   ]
  },
  {
   "cell_type": "code",
   "execution_count": 22,
   "metadata": {},
   "outputs": [
    {
     "data": {
      "text/plain": [
       "array([1])"
      ]
     },
     "execution_count": 22,
     "metadata": {},
     "output_type": "execute_result"
    }
   ],
   "source": [
    "loaded_model.predict(X_test.iloc[:1,:])"
   ]
  },
  {
   "cell_type": "code",
   "execution_count": 23,
   "metadata": {},
   "outputs": [],
   "source": [
    "X_valid = test[categorical_features + numeric_features]\n",
    "y_valid = test.Target"
   ]
  },
  {
   "cell_type": "code",
   "execution_count": 24,
   "metadata": {},
   "outputs": [
    {
     "name": "stdout",
     "output_type": "stream",
     "text": [
      "0.5633423180592992\n"
     ]
    }
   ],
   "source": [
    "y_predict_valid = loaded_model.predict(X_valid)\n",
    "y_predict_valid_proba = loaded_model.predict_proba(X_valid)\n",
    "result = loaded_model.score(X_valid, y_valid)\n",
    "print(result)"
   ]
  },
  {
   "cell_type": "code",
   "execution_count": 31,
   "metadata": {},
   "outputs": [
    {
     "data": {
      "text/html": [
       "<div>\n",
       "<style scoped>\n",
       "    .dataframe tbody tr th:only-of-type {\n",
       "        vertical-align: middle;\n",
       "    }\n",
       "\n",
       "    .dataframe tbody tr th {\n",
       "        vertical-align: top;\n",
       "    }\n",
       "\n",
       "    .dataframe thead th {\n",
       "        text-align: right;\n",
       "    }\n",
       "</style>\n",
       "<table border=\"1\" class=\"dataframe\">\n",
       "  <thead>\n",
       "    <tr style=\"text-align: right;\">\n",
       "      <th></th>\n",
       "      <th>Date</th>\n",
       "      <th>Hteam</th>\n",
       "      <th>Ateam</th>\n",
       "      <th>Odd-1</th>\n",
       "      <th>Odd-N</th>\n",
       "      <th>Odd-2</th>\n",
       "      <th>Target</th>\n",
       "      <th>Year</th>\n",
       "      <th>Predicted</th>\n",
       "      <th>Proba-1</th>\n",
       "      <th>Proba-N</th>\n",
       "      <th>Proba-2</th>\n",
       "      <th>Truth</th>\n",
       "      <th>Returns</th>\n",
       "      <th>Month</th>\n",
       "    </tr>\n",
       "  </thead>\n",
       "  <tbody>\n",
       "    <tr>\n",
       "      <th>3478</th>\n",
       "      <td>2018-08-18</td>\n",
       "      <td>Tottenham</td>\n",
       "      <td>Fulham</td>\n",
       "      <td>1.278889</td>\n",
       "      <td>6.130000</td>\n",
       "      <td>11.325556</td>\n",
       "      <td>1</td>\n",
       "      <td>2018</td>\n",
       "      <td>1</td>\n",
       "      <td>0.710799</td>\n",
       "      <td>0.170965</td>\n",
       "      <td>0.118236</td>\n",
       "      <td>1</td>\n",
       "      <td>0.278889</td>\n",
       "      <td>8</td>\n",
       "    </tr>\n",
       "    <tr>\n",
       "      <th>3502</th>\n",
       "      <td>2018-09-15</td>\n",
       "      <td>Man City</td>\n",
       "      <td>Fulham</td>\n",
       "      <td>1.123333</td>\n",
       "      <td>10.051111</td>\n",
       "      <td>22.805556</td>\n",
       "      <td>1</td>\n",
       "      <td>2018</td>\n",
       "      <td>1</td>\n",
       "      <td>0.739543</td>\n",
       "      <td>0.159333</td>\n",
       "      <td>0.101124</td>\n",
       "      <td>1</td>\n",
       "      <td>0.123333</td>\n",
       "      <td>9</td>\n",
       "    </tr>\n",
       "    <tr>\n",
       "      <th>3629</th>\n",
       "      <td>2018-12-26</td>\n",
       "      <td>Watford</td>\n",
       "      <td>Chelsea</td>\n",
       "      <td>5.081111</td>\n",
       "      <td>3.853333</td>\n",
       "      <td>1.735556</td>\n",
       "      <td>3</td>\n",
       "      <td>2018</td>\n",
       "      <td>3</td>\n",
       "      <td>0.268133</td>\n",
       "      <td>0.288742</td>\n",
       "      <td>0.443124</td>\n",
       "      <td>3</td>\n",
       "      <td>0.735556</td>\n",
       "      <td>12</td>\n",
       "    </tr>\n",
       "    <tr>\n",
       "      <th>3470</th>\n",
       "      <td>2018-08-12</td>\n",
       "      <td>Chelsea</td>\n",
       "      <td>Man City</td>\n",
       "      <td>3.912222</td>\n",
       "      <td>3.698889</td>\n",
       "      <td>1.985556</td>\n",
       "      <td>1</td>\n",
       "      <td>2018</td>\n",
       "      <td>3</td>\n",
       "      <td>0.314663</td>\n",
       "      <td>0.291444</td>\n",
       "      <td>0.393892</td>\n",
       "      <td>1</td>\n",
       "      <td>-1.000000</td>\n",
       "      <td>8</td>\n",
       "    </tr>\n",
       "    <tr>\n",
       "      <th>3633</th>\n",
       "      <td>2018-12-29</td>\n",
       "      <td>Leicester</td>\n",
       "      <td>Cardiff</td>\n",
       "      <td>1.576667</td>\n",
       "      <td>4.144444</td>\n",
       "      <td>6.361111</td>\n",
       "      <td>3</td>\n",
       "      <td>2018</td>\n",
       "      <td>1</td>\n",
       "      <td>0.574042</td>\n",
       "      <td>0.236034</td>\n",
       "      <td>0.189924</td>\n",
       "      <td>3</td>\n",
       "      <td>-1.000000</td>\n",
       "      <td>12</td>\n",
       "    </tr>\n",
       "  </tbody>\n",
       "</table>\n",
       "</div>"
      ],
      "text/plain": [
       "           Date      Hteam     Ateam     Odd-1      Odd-N      Odd-2  Target  \\\n",
       "3478 2018-08-18  Tottenham    Fulham  1.278889   6.130000  11.325556       1   \n",
       "3502 2018-09-15   Man City    Fulham  1.123333  10.051111  22.805556       1   \n",
       "3629 2018-12-26    Watford   Chelsea  5.081111   3.853333   1.735556       3   \n",
       "3470 2018-08-12    Chelsea  Man City  3.912222   3.698889   1.985556       1   \n",
       "3633 2018-12-29  Leicester   Cardiff  1.576667   4.144444   6.361111       3   \n",
       "\n",
       "      Year  Predicted   Proba-1   Proba-N   Proba-2  Truth   Returns  Month  \n",
       "3478  2018          1  0.710799  0.170965  0.118236      1  0.278889      8  \n",
       "3502  2018          1  0.739543  0.159333  0.101124      1  0.123333      9  \n",
       "3629  2018          3  0.268133  0.288742  0.443124      3  0.735556     12  \n",
       "3470  2018          3  0.314663  0.291444  0.393892      1 -1.000000      8  \n",
       "3633  2018          1  0.574042  0.236034  0.189924      3 -1.000000     12  "
      ]
     },
     "execution_count": 31,
     "metadata": {},
     "output_type": "execute_result"
    }
   ],
   "source": [
    "returns = test.copy()\n",
    "returns['Predicted'] = y_predict_valid\n",
    "returns['Proba-1'] = y_predict_valid_proba[:,0]\n",
    "returns['Proba-N'] = y_predict_valid_proba[:,1]\n",
    "returns['Proba-2'] = y_predict_valid_proba[:,2]\n",
    "\n",
    "\n",
    "returns['Truth'] = y_valid\n",
    "returns['Returns']=-1\n",
    "for idx, r in returns.iterrows():\n",
    "    if r.Predicted == r.Truth:\n",
    "        if r.Truth == 1:\n",
    "            returns.loc[idx,'Returns']=r['Odd-1'] - 1\n",
    "        if r.Truth == 2:\n",
    "            returns.loc[idx,'Returns']=r['Odd-N'] - 1\n",
    "        if r.Truth == 3:\n",
    "            returns.loc[idx,'Returns']=r['Odd-2'] - 1\n",
    "    else:\n",
    "        returns.loc[idx,'Returns']\n",
    "returns.drop(['H_L3GG','H_L3GX','H_L3PT','A_L3GG','A_L3GX','A_L3PT'],axis=1, inplace=True)        \n",
    "returns['Month']=returns['Date'].dt.month\n",
    "returns.sample(5)"
   ]
  },
  {
   "cell_type": "code",
   "execution_count": 27,
   "metadata": {},
   "outputs": [
    {
     "data": {
      "text/html": [
       "<div>\n",
       "<style scoped>\n",
       "    .dataframe tbody tr th:only-of-type {\n",
       "        vertical-align: middle;\n",
       "    }\n",
       "\n",
       "    .dataframe tbody tr th {\n",
       "        vertical-align: top;\n",
       "    }\n",
       "\n",
       "    .dataframe thead th {\n",
       "        text-align: right;\n",
       "    }\n",
       "</style>\n",
       "<table border=\"1\" class=\"dataframe\">\n",
       "  <thead>\n",
       "    <tr style=\"text-align: right;\">\n",
       "      <th></th>\n",
       "      <th>Odd-1</th>\n",
       "      <th>Odd-N</th>\n",
       "      <th>Odd-2</th>\n",
       "      <th>Target</th>\n",
       "      <th>Year</th>\n",
       "      <th>Predicted</th>\n",
       "      <th>Proba-1</th>\n",
       "      <th>Proba-N</th>\n",
       "      <th>Proba-2</th>\n",
       "      <th>Truth</th>\n",
       "      <th>Returns</th>\n",
       "      <th>Month</th>\n",
       "    </tr>\n",
       "  </thead>\n",
       "  <tbody>\n",
       "    <tr>\n",
       "      <th>count</th>\n",
       "      <td>371.000000</td>\n",
       "      <td>371.000000</td>\n",
       "      <td>371.000000</td>\n",
       "      <td>371.000000</td>\n",
       "      <td>371.0</td>\n",
       "      <td>371.000000</td>\n",
       "      <td>371.000000</td>\n",
       "      <td>371.000000</td>\n",
       "      <td>371.000000</td>\n",
       "      <td>371.000000</td>\n",
       "      <td>371.000000</td>\n",
       "      <td>371.000000</td>\n",
       "    </tr>\n",
       "    <tr>\n",
       "      <th>mean</th>\n",
       "      <td>3.095526</td>\n",
       "      <td>4.393244</td>\n",
       "      <td>5.531572</td>\n",
       "      <td>1.851752</td>\n",
       "      <td>2018.0</td>\n",
       "      <td>1.830189</td>\n",
       "      <td>0.454616</td>\n",
       "      <td>0.254517</td>\n",
       "      <td>0.290867</td>\n",
       "      <td>1.851752</td>\n",
       "      <td>-0.015732</td>\n",
       "      <td>6.525606</td>\n",
       "    </tr>\n",
       "    <tr>\n",
       "      <th>std</th>\n",
       "      <td>2.430395</td>\n",
       "      <td>1.729602</td>\n",
       "      <td>5.685253</td>\n",
       "      <td>0.871231</td>\n",
       "      <td>0.0</td>\n",
       "      <td>0.986807</td>\n",
       "      <td>0.161865</td>\n",
       "      <td>0.046709</td>\n",
       "      <td>0.126250</td>\n",
       "      <td>0.871231</td>\n",
       "      <td>0.947556</td>\n",
       "      <td>3.814803</td>\n",
       "    </tr>\n",
       "    <tr>\n",
       "      <th>min</th>\n",
       "      <td>1.078889</td>\n",
       "      <td>2.996667</td>\n",
       "      <td>1.168889</td>\n",
       "      <td>1.000000</td>\n",
       "      <td>2018.0</td>\n",
       "      <td>1.000000</td>\n",
       "      <td>0.231933</td>\n",
       "      <td>0.152258</td>\n",
       "      <td>0.092686</td>\n",
       "      <td>1.000000</td>\n",
       "      <td>-1.000000</td>\n",
       "      <td>1.000000</td>\n",
       "    </tr>\n",
       "    <tr>\n",
       "      <th>25%</th>\n",
       "      <td>1.650000</td>\n",
       "      <td>3.354444</td>\n",
       "      <td>2.313444</td>\n",
       "      <td>1.000000</td>\n",
       "      <td>2018.0</td>\n",
       "      <td>1.000000</td>\n",
       "      <td>0.305442</td>\n",
       "      <td>0.235270</td>\n",
       "      <td>0.201330</td>\n",
       "      <td>1.000000</td>\n",
       "      <td>-1.000000</td>\n",
       "      <td>3.000000</td>\n",
       "    </tr>\n",
       "    <tr>\n",
       "      <th>50%</th>\n",
       "      <td>2.305000</td>\n",
       "      <td>3.697000</td>\n",
       "      <td>3.369000</td>\n",
       "      <td>2.000000</td>\n",
       "      <td>2018.0</td>\n",
       "      <td>1.000000</td>\n",
       "      <td>0.441985</td>\n",
       "      <td>0.263069</td>\n",
       "      <td>0.275365</td>\n",
       "      <td>2.000000</td>\n",
       "      <td>0.190000</td>\n",
       "      <td>7.000000</td>\n",
       "    </tr>\n",
       "    <tr>\n",
       "      <th>75%</th>\n",
       "      <td>3.239444</td>\n",
       "      <td>4.708056</td>\n",
       "      <td>5.801833</td>\n",
       "      <td>3.000000</td>\n",
       "      <td>2018.0</td>\n",
       "      <td>3.000000</td>\n",
       "      <td>0.554065</td>\n",
       "      <td>0.292986</td>\n",
       "      <td>0.396216</td>\n",
       "      <td>3.000000</td>\n",
       "      <td>0.732778</td>\n",
       "      <td>10.000000</td>\n",
       "    </tr>\n",
       "    <tr>\n",
       "      <th>max</th>\n",
       "      <td>19.670000</td>\n",
       "      <td>12.753333</td>\n",
       "      <td>31.234444</td>\n",
       "      <td>3.000000</td>\n",
       "      <td>2018.0</td>\n",
       "      <td>3.000000</td>\n",
       "      <td>0.754855</td>\n",
       "      <td>0.319311</td>\n",
       "      <td>0.533561</td>\n",
       "      <td>3.000000</td>\n",
       "      <td>2.071000</td>\n",
       "      <td>12.000000</td>\n",
       "    </tr>\n",
       "  </tbody>\n",
       "</table>\n",
       "</div>"
      ],
      "text/plain": [
       "            Odd-1       Odd-N       Odd-2      Target    Year   Predicted  \\\n",
       "count  371.000000  371.000000  371.000000  371.000000   371.0  371.000000   \n",
       "mean     3.095526    4.393244    5.531572    1.851752  2018.0    1.830189   \n",
       "std      2.430395    1.729602    5.685253    0.871231     0.0    0.986807   \n",
       "min      1.078889    2.996667    1.168889    1.000000  2018.0    1.000000   \n",
       "25%      1.650000    3.354444    2.313444    1.000000  2018.0    1.000000   \n",
       "50%      2.305000    3.697000    3.369000    2.000000  2018.0    1.000000   \n",
       "75%      3.239444    4.708056    5.801833    3.000000  2018.0    3.000000   \n",
       "max     19.670000   12.753333   31.234444    3.000000  2018.0    3.000000   \n",
       "\n",
       "          Proba-1     Proba-N     Proba-2       Truth     Returns       Month  \n",
       "count  371.000000  371.000000  371.000000  371.000000  371.000000  371.000000  \n",
       "mean     0.454616    0.254517    0.290867    1.851752   -0.015732    6.525606  \n",
       "std      0.161865    0.046709    0.126250    0.871231    0.947556    3.814803  \n",
       "min      0.231933    0.152258    0.092686    1.000000   -1.000000    1.000000  \n",
       "25%      0.305442    0.235270    0.201330    1.000000   -1.000000    3.000000  \n",
       "50%      0.441985    0.263069    0.275365    2.000000    0.190000    7.000000  \n",
       "75%      0.554065    0.292986    0.396216    3.000000    0.732778   10.000000  \n",
       "max      0.754855    0.319311    0.533561    3.000000    2.071000   12.000000  "
      ]
     },
     "execution_count": 27,
     "metadata": {},
     "output_type": "execute_result"
    }
   ],
   "source": [
    "returns.describe()"
   ]
  },
  {
   "cell_type": "code",
   "execution_count": 28,
   "metadata": {},
   "outputs": [
    {
     "name": "stdout",
     "output_type": "stream",
     "text": [
      "Model was scored to 0.5633 for an outcome of -5.84\n"
     ]
    }
   ],
   "source": [
    "print(f\"Model was scored to {np.round(result,4)} for an outcome of {np.round(returns.Returns.sum(),2)}\")"
   ]
  },
  {
   "cell_type": "code",
   "execution_count": 30,
   "metadata": {},
   "outputs": [
    {
     "data": {
      "application/javascript": [
       "\n",
       "        if (window._pyforest_update_imports_cell) { window._pyforest_update_imports_cell('import sklearn\\nfrom sklearn.impute import SimpleImputer\\nimport pandas as pd\\nimport matplotlib.pyplot as plt'); }\n",
       "    "
      ],
      "text/plain": [
       "<IPython.core.display.Javascript object>"
      ]
     },
     "metadata": {},
     "output_type": "display_data"
    },
    {
     "data": {
      "application/javascript": [
       "\n",
       "        if (window._pyforest_update_imports_cell) { window._pyforest_update_imports_cell('import sklearn\\nfrom sklearn.impute import SimpleImputer\\nimport pandas as pd\\nimport matplotlib.pyplot as plt'); }\n",
       "    "
      ],
      "text/plain": [
       "<IPython.core.display.Javascript object>"
      ]
     },
     "metadata": {},
     "output_type": "display_data"
    },
    {
     "data": {
      "image/png": "[encoded data removed]",
      "text/plain": [
       "<Figure size 720x504 with 1 Axes>"
      ]
     },
     "metadata": {
      "needs_background": "light"
     },
     "output_type": "display_data"
    }
   ],
   "source": [
    "returns[['Month','Returns']].groupby('Month').sum().plot(figsize=(10,7))\n",
    "plt.title('Returns by month')\n",
    "plt.show()"
   ]
  },
  {
   "cell_type": "code",
   "execution_count": 47,
   "metadata": {},
   "outputs": [],
   "source": [
    "Ateam=returns[['Ateam','Returns']].groupby(['Ateam']).sum().sort_values('Returns',ascending=False)\n",
    "Hteam=returns[['Hteam','Returns']].groupby(['Hteam']).sum().sort_values('Returns',ascending=False)\n",
    "\n",
    "Hteam.columns=['H_returns']\n",
    "Ateam.columns=['A_returns']"
   ]
  },
  {
   "cell_type": "code",
   "execution_count": 52,
   "metadata": {},
   "outputs": [
    {
     "data": {
      "text/html": [
       "<div>\n",
       "<style scoped>\n",
       "    .dataframe tbody tr th:only-of-type {\n",
       "        vertical-align: middle;\n",
       "    }\n",
       "\n",
       "    .dataframe tbody tr th {\n",
       "        vertical-align: top;\n",
       "    }\n",
       "\n",
       "    .dataframe thead th {\n",
       "        text-align: right;\n",
       "    }\n",
       "</style>\n",
       "<table border=\"1\" class=\"dataframe\">\n",
       "  <thead>\n",
       "    <tr style=\"text-align: right;\">\n",
       "      <th></th>\n",
       "      <th>H_returns</th>\n",
       "      <th>A_returns</th>\n",
       "    </tr>\n",
       "  </thead>\n",
       "  <tbody>\n",
       "    <tr>\n",
       "      <th>Crystal Palace</th>\n",
       "      <td>6.262333</td>\n",
       "      <td>4.626333</td>\n",
       "    </tr>\n",
       "    <tr>\n",
       "      <th>Tottenham</th>\n",
       "      <td>5.671778</td>\n",
       "      <td>4.320000</td>\n",
       "    </tr>\n",
       "    <tr>\n",
       "      <th>Huddersfield</th>\n",
       "      <td>5.436000</td>\n",
       "      <td>-0.376556</td>\n",
       "    </tr>\n",
       "    <tr>\n",
       "      <th>Bournemouth</th>\n",
       "      <td>4.707333</td>\n",
       "      <td>-6.495667</td>\n",
       "    </tr>\n",
       "    <tr>\n",
       "      <th>Fulham</th>\n",
       "      <td>3.574444</td>\n",
       "      <td>0.106667</td>\n",
       "    </tr>\n",
       "    <tr>\n",
       "      <th>Arsenal</th>\n",
       "      <td>3.356778</td>\n",
       "      <td>-2.415222</td>\n",
       "    </tr>\n",
       "    <tr>\n",
       "      <th>West Brom</th>\n",
       "      <td>2.740000</td>\n",
       "      <td>1.282000</td>\n",
       "    </tr>\n",
       "    <tr>\n",
       "      <th>Man United</th>\n",
       "      <td>2.327778</td>\n",
       "      <td>0.208222</td>\n",
       "    </tr>\n",
       "    <tr>\n",
       "      <th>Everton</th>\n",
       "      <td>1.710333</td>\n",
       "      <td>3.277000</td>\n",
       "    </tr>\n",
       "    <tr>\n",
       "      <th>Stoke</th>\n",
       "      <td>1.475000</td>\n",
       "      <td>-3.520000</td>\n",
       "    </tr>\n",
       "    <tr>\n",
       "      <th>Watford</th>\n",
       "      <td>0.113667</td>\n",
       "      <td>-3.571444</td>\n",
       "    </tr>\n",
       "    <tr>\n",
       "      <th>Man City</th>\n",
       "      <td>-0.117333</td>\n",
       "      <td>0.497333</td>\n",
       "    </tr>\n",
       "    <tr>\n",
       "      <th>Wolves</th>\n",
       "      <td>-0.400000</td>\n",
       "      <td>-2.590000</td>\n",
       "    </tr>\n",
       "    <tr>\n",
       "      <th>Liverpool</th>\n",
       "      <td>-0.479444</td>\n",
       "      <td>1.957667</td>\n",
       "    </tr>\n",
       "    <tr>\n",
       "      <th>Cardiff</th>\n",
       "      <td>-0.888889</td>\n",
       "      <td>0.162222</td>\n",
       "    </tr>\n",
       "    <tr>\n",
       "      <th>Swansea</th>\n",
       "      <td>-1.203000</td>\n",
       "      <td>-1.377000</td>\n",
       "    </tr>\n",
       "    <tr>\n",
       "      <th>Newcastle</th>\n",
       "      <td>-1.937111</td>\n",
       "      <td>-4.358000</td>\n",
       "    </tr>\n",
       "    <tr>\n",
       "      <th>Burnley</th>\n",
       "      <td>-2.481000</td>\n",
       "      <td>1.697778</td>\n",
       "    </tr>\n",
       "    <tr>\n",
       "      <th>West Ham</th>\n",
       "      <td>-5.349667</td>\n",
       "      <td>-1.816000</td>\n",
       "    </tr>\n",
       "    <tr>\n",
       "      <th>Leicester</th>\n",
       "      <td>-6.044000</td>\n",
       "      <td>0.031556</td>\n",
       "    </tr>\n",
       "    <tr>\n",
       "      <th>Chelsea</th>\n",
       "      <td>-6.333000</td>\n",
       "      <td>2.991444</td>\n",
       "    </tr>\n",
       "    <tr>\n",
       "      <th>Southampton</th>\n",
       "      <td>-8.270778</td>\n",
       "      <td>-1.803556</td>\n",
       "    </tr>\n",
       "    <tr>\n",
       "      <th>Brighton</th>\n",
       "      <td>-9.707667</td>\n",
       "      <td>1.328778</td>\n",
       "    </tr>\n",
       "  </tbody>\n",
       "</table>\n",
       "</div>"
      ],
      "text/plain": [
       "                H_returns  A_returns\n",
       "Crystal Palace   6.262333   4.626333\n",
       "Tottenham        5.671778   4.320000\n",
       "Huddersfield     5.436000  -0.376556\n",
       "Bournemouth      4.707333  -6.495667\n",
       "Fulham           3.574444   0.106667\n",
       "Arsenal          3.356778  -2.415222\n",
       "West Brom        2.740000   1.282000\n",
       "Man United       2.327778   0.208222\n",
       "Everton          1.710333   3.277000\n",
       "Stoke            1.475000  -3.520000\n",
       "Watford          0.113667  -3.571444\n",
       "Man City        -0.117333   0.497333\n",
       "Wolves          -0.400000  -2.590000\n",
       "Liverpool       -0.479444   1.957667\n",
       "Cardiff         -0.888889   0.162222\n",
       "Swansea         -1.203000  -1.377000\n",
       "Newcastle       -1.937111  -4.358000\n",
       "Burnley         -2.481000   1.697778\n",
       "West Ham        -5.349667  -1.816000\n",
       "Leicester       -6.044000   0.031556\n",
       "Chelsea         -6.333000   2.991444\n",
       "Southampton     -8.270778  -1.803556\n",
       "Brighton        -9.707667   1.328778"
      ]
     },
     "execution_count": 52,
     "metadata": {},
     "output_type": "execute_result"
    }
   ],
   "source": [
    "corr=Hteam.merge(Ateam, left_index=True, right_index=True)\n",
    "corr"
   ]
  },
  {
   "cell_type": "code",
   "execution_count": null,
   "metadata": {},
   "outputs": [],
   "source": []
  }
 ],
 "metadata": {
  "kernelspec": {
   "display_name": "Python 3",
   "language": "python",
   "name": "python3"
  },
  "language_info": {
   "codemirror_mode": {
    "name": "ipython",
    "version": 3
   },
   "file_extension": ".py",
   "mimetype": "text/x-python",
   "name": "python",
   "nbconvert_exporter": "python",
   "pygments_lexer": "ipython3",
   "version": "3.7.3"
  },
  "toc": {
   "base_numbering": 1,
   "nav_menu": {},
   "number_sections": true,
   "sideBar": true,
   "skip_h1_title": false,
   "title_cell": "Table of Contents",
   "title_sidebar": "Contents",
   "toc_cell": false,
   "toc_position": {},
   "toc_section_display": true,
   "toc_window_display": false
  }
 },
 "nbformat": 4,
 "nbformat_minor": 4
}
