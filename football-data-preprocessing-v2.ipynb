{
 "cells": [
  {
   "cell_type": "code",
   "execution_count": 1,
   "metadata": {},
   "outputs": [],
   "source": [
    "import pyforest\n",
    "from sklearn.preprocessing import OrdinalEncoder\n",
    "from sklearn.impute import SimpleImputer"
   ]
  },
  {
   "cell_type": "code",
   "execution_count": 2,
   "metadata": {},
   "outputs": [
    {
     "data": {
      "application/javascript": [
       "\n",
       "        if (window._pyforest_update_imports_cell) { window._pyforest_update_imports_cell('import pandas as pd'); }\n",
       "    "
      ],
      "text/plain": [
       "<IPython.core.display.Javascript object>"
      ]
     },
     "metadata": {},
     "output_type": "display_data"
    },
    {
     "data": {
      "application/javascript": [
       "\n",
       "        if (window._pyforest_update_imports_cell) { window._pyforest_update_imports_cell('import pandas as pd'); }\n",
       "    "
      ],
      "text/plain": [
       "<IPython.core.display.Javascript object>"
      ]
     },
     "metadata": {},
     "output_type": "display_data"
    },
    {
     "data": {
      "application/javascript": [
       "\n",
       "        if (window._pyforest_update_imports_cell) { window._pyforest_update_imports_cell('import pandas as pd'); }\n",
       "    "
      ],
      "text/plain": [
       "<IPython.core.display.Javascript object>"
      ]
     },
     "metadata": {},
     "output_type": "display_data"
    },
    {
     "data": {
      "application/javascript": [
       "\n",
       "        if (window._pyforest_update_imports_cell) { window._pyforest_update_imports_cell('import pandas as pd'); }\n",
       "    "
      ],
      "text/plain": [
       "<IPython.core.display.Javascript object>"
      ]
     },
     "metadata": {},
     "output_type": "display_data"
    },
    {
     "data": {
      "application/javascript": [
       "\n",
       "        if (window._pyforest_update_imports_cell) { window._pyforest_update_imports_cell('import pandas as pd'); }\n",
       "    "
      ],
      "text/plain": [
       "<IPython.core.display.Javascript object>"
      ]
     },
     "metadata": {},
     "output_type": "display_data"
    },
    {
     "data": {
      "application/javascript": [
       "\n",
       "        if (window._pyforest_update_imports_cell) { window._pyforest_update_imports_cell('import pandas as pd'); }\n",
       "    "
      ],
      "text/plain": [
       "<IPython.core.display.Javascript object>"
      ]
     },
     "metadata": {},
     "output_type": "display_data"
    },
    {
     "data": {
      "application/javascript": [
       "\n",
       "        if (window._pyforest_update_imports_cell) { window._pyforest_update_imports_cell('import pandas as pd'); }\n",
       "    "
      ],
      "text/plain": [
       "<IPython.core.display.Javascript object>"
      ]
     },
     "metadata": {},
     "output_type": "display_data"
    },
    {
     "data": {
      "application/javascript": [
       "\n",
       "        if (window._pyforest_update_imports_cell) { window._pyforest_update_imports_cell('import pandas as pd'); }\n",
       "    "
      ],
      "text/plain": [
       "<IPython.core.display.Javascript object>"
      ]
     },
     "metadata": {},
     "output_type": "display_data"
    },
    {
     "data": {
      "application/javascript": [
       "\n",
       "        if (window._pyforest_update_imports_cell) { window._pyforest_update_imports_cell('import pandas as pd'); }\n",
       "    "
      ],
      "text/plain": [
       "<IPython.core.display.Javascript object>"
      ]
     },
     "metadata": {},
     "output_type": "display_data"
    },
    {
     "data": {
      "application/javascript": [
       "\n",
       "        if (window._pyforest_update_imports_cell) { window._pyforest_update_imports_cell('import pandas as pd'); }\n",
       "    "
      ],
      "text/plain": [
       "<IPython.core.display.Javascript object>"
      ]
     },
     "metadata": {},
     "output_type": "display_data"
    },
    {
     "data": {
      "application/javascript": [
       "\n",
       "        if (window._pyforest_update_imports_cell) { window._pyforest_update_imports_cell('import pandas as pd'); }\n",
       "    "
      ],
      "text/plain": [
       "<IPython.core.display.Javascript object>"
      ]
     },
     "metadata": {},
     "output_type": "display_data"
    },
    {
     "data": {
      "application/javascript": [
       "\n",
       "        if (window._pyforest_update_imports_cell) { window._pyforest_update_imports_cell('import pandas as pd'); }\n",
       "    "
      ],
      "text/plain": [
       "<IPython.core.display.Javascript object>"
      ]
     },
     "metadata": {},
     "output_type": "display_data"
    },
    {
     "data": {
      "application/javascript": [
       "\n",
       "        if (window._pyforest_update_imports_cell) { window._pyforest_update_imports_cell('import pandas as pd'); }\n",
       "    "
      ],
      "text/plain": [
       "<IPython.core.display.Javascript object>"
      ]
     },
     "metadata": {},
     "output_type": "display_data"
    },
    {
     "data": {
      "application/javascript": [
       "\n",
       "        if (window._pyforest_update_imports_cell) { window._pyforest_update_imports_cell('import pandas as pd'); }\n",
       "    "
      ],
      "text/plain": [
       "<IPython.core.display.Javascript object>"
      ]
     },
     "metadata": {},
     "output_type": "display_data"
    },
    {
     "data": {
      "application/javascript": [
       "\n",
       "        if (window._pyforest_update_imports_cell) { window._pyforest_update_imports_cell('import pandas as pd'); }\n",
       "    "
      ],
      "text/plain": [
       "<IPython.core.display.Javascript object>"
      ]
     },
     "metadata": {},
     "output_type": "display_data"
    },
    {
     "data": {
      "application/javascript": [
       "\n",
       "        if (window._pyforest_update_imports_cell) { window._pyforest_update_imports_cell('import pandas as pd'); }\n",
       "    "
      ],
      "text/plain": [
       "<IPython.core.display.Javascript object>"
      ]
     },
     "metadata": {},
     "output_type": "display_data"
    },
    {
     "data": {
      "application/javascript": [
       "\n",
       "        if (window._pyforest_update_imports_cell) { window._pyforest_update_imports_cell('import pandas as pd'); }\n",
       "    "
      ],
      "text/plain": [
       "<IPython.core.display.Javascript object>"
      ]
     },
     "metadata": {},
     "output_type": "display_data"
    },
    {
     "data": {
      "application/javascript": [
       "\n",
       "        if (window._pyforest_update_imports_cell) { window._pyforest_update_imports_cell('import pandas as pd'); }\n",
       "    "
      ],
      "text/plain": [
       "<IPython.core.display.Javascript object>"
      ]
     },
     "metadata": {},
     "output_type": "display_data"
    },
    {
     "data": {
      "application/javascript": [
       "\n",
       "        if (window._pyforest_update_imports_cell) { window._pyforest_update_imports_cell('import pandas as pd'); }\n",
       "    "
      ],
      "text/plain": [
       "<IPython.core.display.Javascript object>"
      ]
     },
     "metadata": {},
     "output_type": "display_data"
    },
    {
     "data": {
      "application/javascript": [
       "\n",
       "        if (window._pyforest_update_imports_cell) { window._pyforest_update_imports_cell('import pandas as pd'); }\n",
       "    "
      ],
      "text/plain": [
       "<IPython.core.display.Javascript object>"
      ]
     },
     "metadata": {},
     "output_type": "display_data"
    },
    {
     "data": {
      "application/javascript": [
       "\n",
       "        if (window._pyforest_update_imports_cell) { window._pyforest_update_imports_cell('import pandas as pd'); }\n",
       "    "
      ],
      "text/plain": [
       "<IPython.core.display.Javascript object>"
      ]
     },
     "metadata": {},
     "output_type": "display_data"
    },
    {
     "data": {
      "application/javascript": [
       "\n",
       "        if (window._pyforest_update_imports_cell) { window._pyforest_update_imports_cell('import pandas as pd'); }\n",
       "    "
      ],
      "text/plain": [
       "<IPython.core.display.Javascript object>"
      ]
     },
     "metadata": {},
     "output_type": "display_data"
    },
    {
     "data": {
      "application/javascript": [
       "\n",
       "        if (window._pyforest_update_imports_cell) { window._pyforest_update_imports_cell('import pandas as pd'); }\n",
       "    "
      ],
      "text/plain": [
       "<IPython.core.display.Javascript object>"
      ]
     },
     "metadata": {},
     "output_type": "display_data"
    },
    {
     "name": "stdout",
     "output_type": "stream",
     "text": [
      "(7610, 80)\n"
     ]
    },
    {
     "data": {
      "application/javascript": [
       "\n",
       "        if (window._pyforest_update_imports_cell) { window._pyforest_update_imports_cell('import numpy as np\\nimport pandas as pd'); }\n",
       "    "
      ],
      "text/plain": [
       "<IPython.core.display.Javascript object>"
      ]
     },
     "metadata": {},
     "output_type": "display_data"
    },
    {
     "data": {
      "text/plain": [
       "(7610, 79)"
      ]
     },
     "execution_count": 2,
     "metadata": {},
     "output_type": "execute_result"
    }
   ],
   "source": [
    "import os\n",
    "files_and_directories = os.listdir(\"data/\")\n",
    "all_files = []\n",
    "for file in files_and_directories:\n",
    "    if 'csv' in file:\n",
    "        temp = pd.read_csv('data/'+str(file))\n",
    "        all_files.append(temp)\n",
    "        \n",
    "df = pd.concat(all_files, sort=False)\n",
    "\n",
    "df['Date'] = pd.to_datetime(df['Date'])\n",
    "df.dropna(axis=1, how='all', inplace=True)\n",
    "print(df.shape)\n",
    "# transform OHE the FTR (full time 1/N/2) and the Half Time (1/N/2)\n",
    "df.reset_index(inplace=True, drop=True)\n",
    "#temp_ohe = pd.get_dummies(df[['FTR','HTR']])\n",
    "#df = df.merge(temp_ohe, left_index=True, right_index=True)\n",
    "df.drop(['Div'], axis=1, inplace=True)\n",
    "\n",
    "# encode the refereee\n",
    "oe = OrdinalEncoder()\n",
    "si = SimpleImputer(missing_values=np.nan, strategy='constant', fill_value='Missing')\n",
    "\n",
    "#referee = si.fit_transform(df[['Referee']])\n",
    "referee = oe.fit_transform(si.fit_transform(df[['Referee']]))\n",
    "df['Referee']=referee\n",
    "\n",
    "df.shape"
   ]
  },
  {
   "cell_type": "code",
   "execution_count": 3,
   "metadata": {},
   "outputs": [
    {
     "data": {
      "text/html": [
       "<div>\n",
       "<style scoped>\n",
       "    .dataframe tbody tr th:only-of-type {\n",
       "        vertical-align: middle;\n",
       "    }\n",
       "\n",
       "    .dataframe tbody tr th {\n",
       "        vertical-align: top;\n",
       "    }\n",
       "\n",
       "    .dataframe thead th {\n",
       "        text-align: right;\n",
       "    }\n",
       "</style>\n",
       "<table border=\"1\" class=\"dataframe\">\n",
       "  <thead>\n",
       "    <tr style=\"text-align: right;\">\n",
       "      <th></th>\n",
       "      <th>Date</th>\n",
       "      <th>HomeTeam</th>\n",
       "      <th>AwayTeam</th>\n",
       "      <th>FTHG</th>\n",
       "      <th>FTAG</th>\n",
       "      <th>FTR</th>\n",
       "      <th>HTHG</th>\n",
       "      <th>HTAG</th>\n",
       "      <th>HTR</th>\n",
       "      <th>Referee</th>\n",
       "      <th>...</th>\n",
       "      <th>SJA</th>\n",
       "      <th>BSH</th>\n",
       "      <th>BSD</th>\n",
       "      <th>BSA</th>\n",
       "      <th>SBH</th>\n",
       "      <th>SBD</th>\n",
       "      <th>SBA</th>\n",
       "      <th>0</th>\n",
       "      <th>1</th>\n",
       "      <th>2</th>\n",
       "    </tr>\n",
       "  </thead>\n",
       "  <tbody>\n",
       "    <tr>\n",
       "      <th>0</th>\n",
       "      <td>2018-10-08</td>\n",
       "      <td>Man United</td>\n",
       "      <td>Leicester</td>\n",
       "      <td>2.0</td>\n",
       "      <td>1.0</td>\n",
       "      <td>H</td>\n",
       "      <td>1.0</td>\n",
       "      <td>0.0</td>\n",
       "      <td>H</td>\n",
       "      <td>1.0</td>\n",
       "      <td>...</td>\n",
       "      <td>NaN</td>\n",
       "      <td>NaN</td>\n",
       "      <td>NaN</td>\n",
       "      <td>NaN</td>\n",
       "      <td>NaN</td>\n",
       "      <td>NaN</td>\n",
       "      <td>NaN</td>\n",
       "      <td>NaN</td>\n",
       "      <td>NaN</td>\n",
       "      <td>NaN</td>\n",
       "    </tr>\n",
       "    <tr>\n",
       "      <th>1</th>\n",
       "      <td>2018-11-08</td>\n",
       "      <td>Bournemouth</td>\n",
       "      <td>Cardiff</td>\n",
       "      <td>2.0</td>\n",
       "      <td>0.0</td>\n",
       "      <td>H</td>\n",
       "      <td>1.0</td>\n",
       "      <td>0.0</td>\n",
       "      <td>H</td>\n",
       "      <td>11.0</td>\n",
       "      <td>...</td>\n",
       "      <td>NaN</td>\n",
       "      <td>NaN</td>\n",
       "      <td>NaN</td>\n",
       "      <td>NaN</td>\n",
       "      <td>NaN</td>\n",
       "      <td>NaN</td>\n",
       "      <td>NaN</td>\n",
       "      <td>NaN</td>\n",
       "      <td>NaN</td>\n",
       "      <td>NaN</td>\n",
       "    </tr>\n",
       "    <tr>\n",
       "      <th>2</th>\n",
       "      <td>2018-11-08</td>\n",
       "      <td>Fulham</td>\n",
       "      <td>Crystal Palace</td>\n",
       "      <td>0.0</td>\n",
       "      <td>2.0</td>\n",
       "      <td>A</td>\n",
       "      <td>0.0</td>\n",
       "      <td>1.0</td>\n",
       "      <td>A</td>\n",
       "      <td>17.0</td>\n",
       "      <td>...</td>\n",
       "      <td>NaN</td>\n",
       "      <td>NaN</td>\n",
       "      <td>NaN</td>\n",
       "      <td>NaN</td>\n",
       "      <td>NaN</td>\n",
       "      <td>NaN</td>\n",
       "      <td>NaN</td>\n",
       "      <td>NaN</td>\n",
       "      <td>NaN</td>\n",
       "      <td>NaN</td>\n",
       "    </tr>\n",
       "    <tr>\n",
       "      <th>3</th>\n",
       "      <td>2018-11-08</td>\n",
       "      <td>Huddersfield</td>\n",
       "      <td>Chelsea</td>\n",
       "      <td>0.0</td>\n",
       "      <td>3.0</td>\n",
       "      <td>A</td>\n",
       "      <td>0.0</td>\n",
       "      <td>2.0</td>\n",
       "      <td>A</td>\n",
       "      <td>5.0</td>\n",
       "      <td>...</td>\n",
       "      <td>NaN</td>\n",
       "      <td>NaN</td>\n",
       "      <td>NaN</td>\n",
       "      <td>NaN</td>\n",
       "      <td>NaN</td>\n",
       "      <td>NaN</td>\n",
       "      <td>NaN</td>\n",
       "      <td>NaN</td>\n",
       "      <td>NaN</td>\n",
       "      <td>NaN</td>\n",
       "    </tr>\n",
       "    <tr>\n",
       "      <th>4</th>\n",
       "      <td>2018-11-08</td>\n",
       "      <td>Newcastle</td>\n",
       "      <td>Tottenham</td>\n",
       "      <td>1.0</td>\n",
       "      <td>2.0</td>\n",
       "      <td>A</td>\n",
       "      <td>1.0</td>\n",
       "      <td>2.0</td>\n",
       "      <td>A</td>\n",
       "      <td>15.0</td>\n",
       "      <td>...</td>\n",
       "      <td>NaN</td>\n",
       "      <td>NaN</td>\n",
       "      <td>NaN</td>\n",
       "      <td>NaN</td>\n",
       "      <td>NaN</td>\n",
       "      <td>NaN</td>\n",
       "      <td>NaN</td>\n",
       "      <td>NaN</td>\n",
       "      <td>NaN</td>\n",
       "      <td>NaN</td>\n",
       "    </tr>\n",
       "  </tbody>\n",
       "</table>\n",
       "<p>5 rows × 79 columns</p>\n",
       "</div>"
      ],
      "text/plain": [
       "        Date      HomeTeam        AwayTeam  FTHG  FTAG FTR  HTHG  HTAG HTR  \\\n",
       "0 2018-10-08    Man United       Leicester   2.0   1.0   H   1.0   0.0   H   \n",
       "1 2018-11-08   Bournemouth         Cardiff   2.0   0.0   H   1.0   0.0   H   \n",
       "2 2018-11-08        Fulham  Crystal Palace   0.0   2.0   A   0.0   1.0   A   \n",
       "3 2018-11-08  Huddersfield         Chelsea   0.0   3.0   A   0.0   2.0   A   \n",
       "4 2018-11-08     Newcastle       Tottenham   1.0   2.0   A   1.0   2.0   A   \n",
       "\n",
       "   Referee  ...  SJA  BSH  BSD  BSA  SBH  SBD  SBA   0   1   2  \n",
       "0      1.0  ...  NaN  NaN  NaN  NaN  NaN  NaN  NaN NaN NaN NaN  \n",
       "1     11.0  ...  NaN  NaN  NaN  NaN  NaN  NaN  NaN NaN NaN NaN  \n",
       "2     17.0  ...  NaN  NaN  NaN  NaN  NaN  NaN  NaN NaN NaN NaN  \n",
       "3      5.0  ...  NaN  NaN  NaN  NaN  NaN  NaN  NaN NaN NaN NaN  \n",
       "4     15.0  ...  NaN  NaN  NaN  NaN  NaN  NaN  NaN NaN NaN NaN  \n",
       "\n",
       "[5 rows x 79 columns]"
      ]
     },
     "execution_count": 3,
     "metadata": {},
     "output_type": "execute_result"
    }
   ],
   "source": [
    "df.head()"
   ]
  },
  {
   "cell_type": "markdown",
   "metadata": {},
   "source": [
    "# Data definition\n",
    "http://www.football-data.co.uk/notes.txt\n",
    "\n",
    "### Key to results data:\n",
    "\n",
    "- Div = League Division\n",
    "- Date = Match Date (dd/mm/yy)\n",
    "- Time = Time of match kick off\n",
    "- HomeTeam = Home Team\n",
    "- AwayTeam = Away Team\n",
    "- FTHG and HG = Full Time Home Team Goals\n",
    "- FTAG and AG = Full Time Away Team Goals\n",
    "- FTR and Res = Full Time Result (H=Home Win, D=Draw, A=Away Win)\n",
    "- HTHG = Half Time Home Team Goals\n",
    "- HTAG = Half Time Away Team Goals\n",
    "- HTR = Half Time Result (H=Home Win, D=Draw, A=Away Win)\n",
    "\n",
    "### Match Statistics (where available)\n",
    "- Attendance = Crowd Attendance\n",
    "- Referee = Match Referee\n",
    "- HS = Home Team Shots\n",
    "- AS = Away Team Shots\n",
    "- HST = Home Team Shots on Target\n",
    "- AST = Away Team Shots on Target\n",
    "- HHW = Home Team Hit Woodwork\n",
    "- AHW = Away Team Hit Woodwork\n",
    "- HC = Home Team Corners\n",
    "- AC = Away Team Corners\n",
    "- HF = Home Team Fouls Committed\n",
    "- AF = Away Team Fouls Committed\n",
    "- HFKC = Home Team Free Kicks Conceded\n",
    "- AFKC = Away Team Free Kicks Conceded\n",
    "- HO = Home Team Offsides\n",
    "- AO = Away Team Offsides\n",
    "- HY = Home Team Yellow Cards\n",
    "- AY = Away Team Yellow Cards\n",
    "- HR = Home Team Red Cards\n",
    "- AR = Away Team Red Cards\n",
    "- HBP = Home Team Bookings Points (10 = yellow, 25 = red)\n",
    "- ABP = Away Team Bookings Points (10 = yellow, 25 = red)"
   ]
  },
  {
   "cell_type": "markdown",
   "metadata": {},
   "source": [
    "### Key to 1X2 (match) betting odds data:\n",
    "\n",
    "- B365H = Bet365 home win odds\n",
    "- B365D = Bet365 draw odds\n",
    "- B365A = Bet365 away win odds\n",
    "- BSH = Blue Square home win odds\n",
    "- BSD = Blue Square draw odds\n",
    "- BSA = Blue Square away win odds\n",
    "- BWH = Bet&Win home win odds\n",
    "- BWD = Bet&Win draw odds\n",
    "- BWA = Bet&Win away win odds\n",
    "- GBH = Gamebookers home win odds\n",
    "- GBD = Gamebookers draw odds\n",
    "- GBA = Gamebookers away win odds\n",
    "- IWH = Interwetten home win odds\n",
    "- IWD = Interwetten draw odds\n",
    "- IWA = Interwetten away win odds\n",
    "- LBH = Ladbrokes home win odds\n",
    "- LBD = Ladbrokes draw odds\n",
    "- LBA = Ladbrokes away win odds\n",
    "- PSH and PH = Pinnacle home win odds\n",
    "- PSD and PD = Pinnacle draw odds\n",
    "- PSA and PA = Pinnacle away win odds\n",
    "- SOH = Sporting Odds home win odds\n",
    "- SOD = Sporting Odds draw odds\n",
    "- SOA = Sporting Odds away win odds\n",
    "- SBH = Sportingbet home win odds\n",
    "- SBD = Sportingbet draw odds\n",
    "- SBA = Sportingbet away win odds\n",
    "- SJH = Stan James home win odds\n",
    "- SJD = Stan James draw odds\n",
    "- SJA = Stan James away win odds\n",
    "- SYH = Stanleybet home win odds\n",
    "- SYD = Stanleybet draw odds\n",
    "- SYA = Stanleybet away win odds\n",
    "- VCH = VC Bet home win odds\n",
    "- VCD = VC Bet draw odds\n",
    "- VCA = VC Bet away win odds\n",
    "- WHH = William Hill home win odds\n",
    "- WHD = William Hill draw odds\n",
    "- WHA = William Hill away win odds"
   ]
  },
  {
   "cell_type": "markdown",
   "metadata": {},
   "source": [
    "## Explore the betting columns\n",
    "\n",
    "The target is to build set of pronostics [x.yy, x.yy, x.yy] which means Home, D, Away for each betting platform.\n",
    "\n",
    "Missing value will be filled with the line (other betting platform).\n",
    "\n",
    "Betting score are always in 3 features which ended by:\n",
    "- \"H\" for home\n",
    "- \"D\" for deuce\n",
    "- \"A\" for Away\n",
    "\n",
    "### Extract columns from the dataset\n",
    "\n",
    "Extract columns from dataset and build a dictionary of feature name by betting platform\n"
   ]
  },
  {
   "cell_type": "code",
   "execution_count": 4,
   "metadata": {},
   "outputs": [
    {
     "data": {
      "text/plain": [
       "{'B365': ['B365H', 'B365D', 'B365A'],\n",
       " 'BW': ['BWH', 'BWD', 'BWA'],\n",
       " 'IW': ['IWH', 'IWD', 'IWA'],\n",
       " 'PS': ['PSH', 'PSD', 'PSA'],\n",
       " 'WH': ['WHH', 'WHD', 'WHA'],\n",
       " 'VC': ['VCH', 'VCD', 'VCA'],\n",
       " 'BbMx': ['BbMxH', 'BbMxD', 'BbMxA'],\n",
       " 'BbAv': ['BbAvH', 'BbAvD', 'BbAvA'],\n",
       " 'BbA': ['BbAH', 'BbAD', 'BbAA'],\n",
       " 'BbMxAH': ['BbMxAHH', 'BbMxAHD', 'BbMxAHA'],\n",
       " 'BbAvAH': ['BbAvAHH', 'BbAvAHD', 'BbAvAHA'],\n",
       " 'PSC': ['PSCH', 'PSCD', 'PSCA'],\n",
       " 'GB': ['GBH', 'GBD', 'GBA'],\n",
       " 'LB': ['LBH', 'LBD', 'LBA'],\n",
       " 'SJ': ['SJH', 'SJD', 'SJA'],\n",
       " 'BS': ['BSH', 'BSD', 'BSA'],\n",
       " 'SB': ['SBH', 'SBD', 'SBA']}"
      ]
     },
     "execution_count": 4,
     "metadata": {},
     "output_type": "execute_result"
    }
   ],
   "source": [
    "all_betting_cols = [x for x in df.columns.tolist() if str(x).endswith(\"H\") \n",
    "                    or str(x).endswith(\"D\") or str(x).endswith(\"A\")]\n",
    "all_betting_cols\n",
    "\n",
    "# from that list extract the betting platform\n",
    "betting_platform={}\n",
    "for v in all_betting_cols:\n",
    "    bp = v[:-1]\n",
    "    if bp != 'FTR_' and bp != 'HTR_':\n",
    "        betting_platform[bp] = [f\"{bp}H\",f\"{bp}D\",f\"{bp}A\"]\n",
    "\n",
    "betting_platform"
   ]
  },
  {
   "cell_type": "markdown",
   "metadata": {},
   "source": [
    "### create the new dataset\n",
    "read each row of the original dataset and for the betting platform create a new row, the dictionary will be\n",
    "- day features such as teams and score\n",
    "- date\n",
    "- betting platform odds\n"
   ]
  },
  {
   "cell_type": "code",
   "execution_count": 5,
   "metadata": {},
   "outputs": [
    {
     "name": "stderr",
     "output_type": "stream",
     "text": [
      "/Users/dfelix/anaconda3/lib/python3.7/site-packages/pandas/core/series.py:951: FutureWarning: \n",
      "Passing list-likes to .loc or [] with any missing label will raise\n",
      "KeyError in the future, you can use .reindex() as an alternative.\n",
      "\n",
      "See the documentation here:\n",
      "https://pandas.pydata.org/pandas-docs/stable/indexing.html#deprecate-loc-reindex-listlike\n",
      "  return self.loc[key]\n"
     ]
    },
    {
     "name": "stdout",
     "output_type": "stream",
     "text": [
      "CPU times: user 1min 41s, sys: 2.47 s, total: 1min 43s\n",
      "Wall time: 1min 43s\n"
     ]
    }
   ],
   "source": [
    "%%time\n",
    "new_set = []\n",
    "for idx, r in df.iterrows():\n",
    "    static_variable = [r.HomeTeam, r.AwayTeam, r.Date, r.FTHG, r.FTAG]\n",
    "    for key in betting_platform:\n",
    "        temp = betting_platform[key]\n",
    "        temp_odds =r[temp]\n",
    "        new_set.append([static_variable[0],\n",
    "                        static_variable[1],\n",
    "                        static_variable[2],\n",
    "                        static_variable[3],\n",
    "                        static_variable[4],\n",
    "                        \n",
    "                        temp_odds[0], temp_odds[1], temp_odds[2],\n",
    "                        r.FTR]\n",
    "                        )\n"
   ]
  },
  {
   "cell_type": "code",
   "execution_count": 6,
   "metadata": {},
   "outputs": [
    {
     "data": {
      "application/javascript": [
       "\n",
       "        if (window._pyforest_update_imports_cell) { window._pyforest_update_imports_cell('import numpy as np\\nimport pandas as pd'); }\n",
       "    "
      ],
      "text/plain": [
       "<IPython.core.display.Javascript object>"
      ]
     },
     "metadata": {},
     "output_type": "display_data"
    },
    {
     "data": {
      "text/plain": [
       "(129370, 9)"
      ]
     },
     "execution_count": 6,
     "metadata": {},
     "output_type": "execute_result"
    }
   ],
   "source": [
    "bet=pd.DataFrame(new_set)\n",
    "bet.shape"
   ]
  },
  {
   "cell_type": "code",
   "execution_count": 7,
   "metadata": {},
   "outputs": [],
   "source": [
    "bet.to_csv('full_table.csv', index=False)"
   ]
  },
  {
   "cell_type": "code",
   "execution_count": 8,
   "metadata": {},
   "outputs": [
    {
     "data": {
      "text/plain": [
       "0      170\n",
       "1      170\n",
       "2      170\n",
       "3      170\n",
       "4      170\n",
       "5    23718\n",
       "6    46458\n",
       "7    31298\n",
       "8      170\n",
       "dtype: int64"
      ]
     },
     "execution_count": 8,
     "metadata": {},
     "output_type": "execute_result"
    }
   ],
   "source": [
    "bet.isnull().sum()"
   ]
  },
  {
   "cell_type": "code",
   "execution_count": 9,
   "metadata": {},
   "outputs": [
    {
     "data": {
      "text/plain": [
       "0            object\n",
       "1            object\n",
       "2    datetime64[ns]\n",
       "3           float64\n",
       "4           float64\n",
       "5           float64\n",
       "6           float64\n",
       "7           float64\n",
       "8            object\n",
       "dtype: object"
      ]
     },
     "execution_count": 9,
     "metadata": {},
     "output_type": "execute_result"
    }
   ],
   "source": [
    "bet.dtypes"
   ]
  },
  {
   "cell_type": "code",
   "execution_count": 10,
   "metadata": {},
   "outputs": [
    {
     "data": {
      "text/plain": [
       "(82912, 9)"
      ]
     },
     "execution_count": 10,
     "metadata": {},
     "output_type": "execute_result"
    }
   ],
   "source": [
    "keep=bet.iloc[:,[5,6,7]].dropna(axis=0, how='any').index.tolist()\n",
    "bet = bet.iloc[keep,:].copy()\n",
    "bet.shape"
   ]
  },
  {
   "cell_type": "code",
   "execution_count": 11,
   "metadata": {},
   "outputs": [
    {
     "data": {
      "text/plain": [
       "0    0\n",
       "1    0\n",
       "2    0\n",
       "3    0\n",
       "4    0\n",
       "5    0\n",
       "6    0\n",
       "7    0\n",
       "8    0\n",
       "dtype: int64"
      ]
     },
     "execution_count": 11,
     "metadata": {},
     "output_type": "execute_result"
    }
   ],
   "source": [
    "bet.isnull().sum()"
   ]
  },
  {
   "cell_type": "code",
   "execution_count": 12,
   "metadata": {},
   "outputs": [
    {
     "data": {
      "text/html": [
       "<div>\n",
       "<style scoped>\n",
       "    .dataframe tbody tr th:only-of-type {\n",
       "        vertical-align: middle;\n",
       "    }\n",
       "\n",
       "    .dataframe tbody tr th {\n",
       "        vertical-align: top;\n",
       "    }\n",
       "\n",
       "    .dataframe thead th {\n",
       "        text-align: right;\n",
       "    }\n",
       "</style>\n",
       "<table border=\"1\" class=\"dataframe\">\n",
       "  <thead>\n",
       "    <tr style=\"text-align: right;\">\n",
       "      <th></th>\n",
       "      <th>Hteam</th>\n",
       "      <th>Ateam</th>\n",
       "      <th>Date</th>\n",
       "      <th>FTHG</th>\n",
       "      <th>FTAG</th>\n",
       "      <th>Odd-1</th>\n",
       "      <th>Odd-N</th>\n",
       "      <th>Odd-2</th>\n",
       "      <th>Target</th>\n",
       "    </tr>\n",
       "  </thead>\n",
       "  <tbody>\n",
       "    <tr>\n",
       "      <th>0</th>\n",
       "      <td>Man United</td>\n",
       "      <td>Leicester</td>\n",
       "      <td>2018-10-08</td>\n",
       "      <td>2.0</td>\n",
       "      <td>1.0</td>\n",
       "      <td>1.57</td>\n",
       "      <td>3.90</td>\n",
       "      <td>7.50</td>\n",
       "      <td>H</td>\n",
       "    </tr>\n",
       "    <tr>\n",
       "      <th>1</th>\n",
       "      <td>Man United</td>\n",
       "      <td>Leicester</td>\n",
       "      <td>2018-10-08</td>\n",
       "      <td>2.0</td>\n",
       "      <td>1.0</td>\n",
       "      <td>1.53</td>\n",
       "      <td>4.00</td>\n",
       "      <td>7.50</td>\n",
       "      <td>H</td>\n",
       "    </tr>\n",
       "    <tr>\n",
       "      <th>2</th>\n",
       "      <td>Man United</td>\n",
       "      <td>Leicester</td>\n",
       "      <td>2018-10-08</td>\n",
       "      <td>2.0</td>\n",
       "      <td>1.0</td>\n",
       "      <td>1.55</td>\n",
       "      <td>3.80</td>\n",
       "      <td>7.00</td>\n",
       "      <td>H</td>\n",
       "    </tr>\n",
       "    <tr>\n",
       "      <th>3</th>\n",
       "      <td>Man United</td>\n",
       "      <td>Leicester</td>\n",
       "      <td>2018-10-08</td>\n",
       "      <td>2.0</td>\n",
       "      <td>1.0</td>\n",
       "      <td>1.58</td>\n",
       "      <td>3.93</td>\n",
       "      <td>7.50</td>\n",
       "      <td>H</td>\n",
       "    </tr>\n",
       "    <tr>\n",
       "      <th>4</th>\n",
       "      <td>Man United</td>\n",
       "      <td>Leicester</td>\n",
       "      <td>2018-10-08</td>\n",
       "      <td>2.0</td>\n",
       "      <td>1.0</td>\n",
       "      <td>1.57</td>\n",
       "      <td>3.80</td>\n",
       "      <td>6.00</td>\n",
       "      <td>H</td>\n",
       "    </tr>\n",
       "    <tr>\n",
       "      <th>5</th>\n",
       "      <td>Man United</td>\n",
       "      <td>Leicester</td>\n",
       "      <td>2018-10-08</td>\n",
       "      <td>2.0</td>\n",
       "      <td>1.0</td>\n",
       "      <td>1.57</td>\n",
       "      <td>4.00</td>\n",
       "      <td>7.00</td>\n",
       "      <td>H</td>\n",
       "    </tr>\n",
       "    <tr>\n",
       "      <th>6</th>\n",
       "      <td>Man United</td>\n",
       "      <td>Leicester</td>\n",
       "      <td>2018-10-08</td>\n",
       "      <td>2.0</td>\n",
       "      <td>1.0</td>\n",
       "      <td>1.60</td>\n",
       "      <td>4.20</td>\n",
       "      <td>8.05</td>\n",
       "      <td>H</td>\n",
       "    </tr>\n",
       "    <tr>\n",
       "      <th>7</th>\n",
       "      <td>Man United</td>\n",
       "      <td>Leicester</td>\n",
       "      <td>2018-10-08</td>\n",
       "      <td>2.0</td>\n",
       "      <td>1.0</td>\n",
       "      <td>1.56</td>\n",
       "      <td>3.92</td>\n",
       "      <td>7.06</td>\n",
       "      <td>H</td>\n",
       "    </tr>\n",
       "    <tr>\n",
       "      <th>11</th>\n",
       "      <td>Man United</td>\n",
       "      <td>Leicester</td>\n",
       "      <td>2018-10-08</td>\n",
       "      <td>2.0</td>\n",
       "      <td>1.0</td>\n",
       "      <td>1.55</td>\n",
       "      <td>4.07</td>\n",
       "      <td>7.69</td>\n",
       "      <td>H</td>\n",
       "    </tr>\n",
       "    <tr>\n",
       "      <th>17</th>\n",
       "      <td>Bournemouth</td>\n",
       "      <td>Cardiff</td>\n",
       "      <td>2018-11-08</td>\n",
       "      <td>2.0</td>\n",
       "      <td>0.0</td>\n",
       "      <td>1.90</td>\n",
       "      <td>3.60</td>\n",
       "      <td>4.50</td>\n",
       "      <td>H</td>\n",
       "    </tr>\n",
       "  </tbody>\n",
       "</table>\n",
       "</div>"
      ],
      "text/plain": [
       "          Hteam      Ateam       Date  FTHG  FTAG  Odd-1  Odd-N  Odd-2 Target\n",
       "0    Man United  Leicester 2018-10-08   2.0   1.0   1.57   3.90   7.50      H\n",
       "1    Man United  Leicester 2018-10-08   2.0   1.0   1.53   4.00   7.50      H\n",
       "2    Man United  Leicester 2018-10-08   2.0   1.0   1.55   3.80   7.00      H\n",
       "3    Man United  Leicester 2018-10-08   2.0   1.0   1.58   3.93   7.50      H\n",
       "4    Man United  Leicester 2018-10-08   2.0   1.0   1.57   3.80   6.00      H\n",
       "5    Man United  Leicester 2018-10-08   2.0   1.0   1.57   4.00   7.00      H\n",
       "6    Man United  Leicester 2018-10-08   2.0   1.0   1.60   4.20   8.05      H\n",
       "7    Man United  Leicester 2018-10-08   2.0   1.0   1.56   3.92   7.06      H\n",
       "11   Man United  Leicester 2018-10-08   2.0   1.0   1.55   4.07   7.69      H\n",
       "17  Bournemouth    Cardiff 2018-11-08   2.0   0.0   1.90   3.60   4.50      H"
      ]
     },
     "execution_count": 12,
     "metadata": {},
     "output_type": "execute_result"
    }
   ],
   "source": [
    "bet.columns = ['Hteam','Ateam','Date','FTHG','FTAG','Odd-1','Odd-N','Odd-2','Target']\n",
    "bet.head(10)"
   ]
  },
  {
   "cell_type": "code",
   "execution_count": 13,
   "metadata": {},
   "outputs": [
    {
     "data": {
      "text/html": [
       "<div>\n",
       "<style scoped>\n",
       "    .dataframe tbody tr th:only-of-type {\n",
       "        vertical-align: middle;\n",
       "    }\n",
       "\n",
       "    .dataframe tbody tr th {\n",
       "        vertical-align: top;\n",
       "    }\n",
       "\n",
       "    .dataframe thead th {\n",
       "        text-align: right;\n",
       "    }\n",
       "</style>\n",
       "<table border=\"1\" class=\"dataframe\">\n",
       "  <thead>\n",
       "    <tr style=\"text-align: right;\">\n",
       "      <th></th>\n",
       "      <th>Hteam</th>\n",
       "      <th>Ateam</th>\n",
       "      <th>Date</th>\n",
       "      <th>FTHG</th>\n",
       "      <th>FTAG</th>\n",
       "      <th>Odd-1</th>\n",
       "      <th>Odd-N</th>\n",
       "      <th>Odd-2</th>\n",
       "      <th>Target</th>\n",
       "    </tr>\n",
       "  </thead>\n",
       "  <tbody>\n",
       "    <tr>\n",
       "      <th>0</th>\n",
       "      <td>Man United</td>\n",
       "      <td>Leicester</td>\n",
       "      <td>2018-10-08</td>\n",
       "      <td>2.0</td>\n",
       "      <td>1.0</td>\n",
       "      <td>1.57</td>\n",
       "      <td>3.90</td>\n",
       "      <td>7.5</td>\n",
       "      <td>1</td>\n",
       "    </tr>\n",
       "    <tr>\n",
       "      <th>1</th>\n",
       "      <td>Man United</td>\n",
       "      <td>Leicester</td>\n",
       "      <td>2018-10-08</td>\n",
       "      <td>2.0</td>\n",
       "      <td>1.0</td>\n",
       "      <td>1.53</td>\n",
       "      <td>4.00</td>\n",
       "      <td>7.5</td>\n",
       "      <td>1</td>\n",
       "    </tr>\n",
       "    <tr>\n",
       "      <th>2</th>\n",
       "      <td>Man United</td>\n",
       "      <td>Leicester</td>\n",
       "      <td>2018-10-08</td>\n",
       "      <td>2.0</td>\n",
       "      <td>1.0</td>\n",
       "      <td>1.55</td>\n",
       "      <td>3.80</td>\n",
       "      <td>7.0</td>\n",
       "      <td>1</td>\n",
       "    </tr>\n",
       "    <tr>\n",
       "      <th>3</th>\n",
       "      <td>Man United</td>\n",
       "      <td>Leicester</td>\n",
       "      <td>2018-10-08</td>\n",
       "      <td>2.0</td>\n",
       "      <td>1.0</td>\n",
       "      <td>1.58</td>\n",
       "      <td>3.93</td>\n",
       "      <td>7.5</td>\n",
       "      <td>1</td>\n",
       "    </tr>\n",
       "    <tr>\n",
       "      <th>4</th>\n",
       "      <td>Man United</td>\n",
       "      <td>Leicester</td>\n",
       "      <td>2018-10-08</td>\n",
       "      <td>2.0</td>\n",
       "      <td>1.0</td>\n",
       "      <td>1.57</td>\n",
       "      <td>3.80</td>\n",
       "      <td>6.0</td>\n",
       "      <td>1</td>\n",
       "    </tr>\n",
       "  </tbody>\n",
       "</table>\n",
       "</div>"
      ],
      "text/plain": [
       "        Hteam      Ateam       Date  FTHG  FTAG  Odd-1  Odd-N  Odd-2  Target\n",
       "0  Man United  Leicester 2018-10-08   2.0   1.0   1.57   3.90    7.5       1\n",
       "1  Man United  Leicester 2018-10-08   2.0   1.0   1.53   4.00    7.5       1\n",
       "2  Man United  Leicester 2018-10-08   2.0   1.0   1.55   3.80    7.0       1\n",
       "3  Man United  Leicester 2018-10-08   2.0   1.0   1.58   3.93    7.5       1\n",
       "4  Man United  Leicester 2018-10-08   2.0   1.0   1.57   3.80    6.0       1"
      ]
     },
     "execution_count": 13,
     "metadata": {},
     "output_type": "execute_result"
    }
   ],
   "source": [
    "di = {'H':1, 'D':2, 'A':3}\n",
    "\n",
    "# The values 10 and 20 are replaced by 'A' and 'B'\n",
    "bet['Target'].replace(di, inplace=True)\n",
    "bet.head()"
   ]
  },
  {
   "cell_type": "code",
   "execution_count": 14,
   "metadata": {},
   "outputs": [
    {
     "data": {
      "text/html": [
       "<div>\n",
       "<style scoped>\n",
       "    .dataframe tbody tr th:only-of-type {\n",
       "        vertical-align: middle;\n",
       "    }\n",
       "\n",
       "    .dataframe tbody tr th {\n",
       "        vertical-align: top;\n",
       "    }\n",
       "\n",
       "    .dataframe thead th {\n",
       "        text-align: right;\n",
       "    }\n",
       "</style>\n",
       "<table border=\"1\" class=\"dataframe\">\n",
       "  <thead>\n",
       "    <tr style=\"text-align: right;\">\n",
       "      <th></th>\n",
       "      <th>Date</th>\n",
       "      <th>Hteam</th>\n",
       "      <th>Ateam</th>\n",
       "      <th>FTHG</th>\n",
       "      <th>FTAG</th>\n",
       "      <th>Odd-1</th>\n",
       "      <th>Odd-N</th>\n",
       "      <th>Odd-2</th>\n",
       "      <th>Target</th>\n",
       "    </tr>\n",
       "  </thead>\n",
       "  <tbody>\n",
       "    <tr>\n",
       "      <th>0</th>\n",
       "      <td>2009-08-15</td>\n",
       "      <td>Aston Villa</td>\n",
       "      <td>Wigan</td>\n",
       "      <td>0.0</td>\n",
       "      <td>2.0</td>\n",
       "      <td>1.673333</td>\n",
       "      <td>3.490000</td>\n",
       "      <td>5.252500</td>\n",
       "      <td>3</td>\n",
       "    </tr>\n",
       "    <tr>\n",
       "      <th>1</th>\n",
       "      <td>2009-08-15</td>\n",
       "      <td>Blackburn</td>\n",
       "      <td>Man City</td>\n",
       "      <td>0.0</td>\n",
       "      <td>2.0</td>\n",
       "      <td>3.354167</td>\n",
       "      <td>3.228333</td>\n",
       "      <td>2.143333</td>\n",
       "      <td>3</td>\n",
       "    </tr>\n",
       "    <tr>\n",
       "      <th>2</th>\n",
       "      <td>2009-08-15</td>\n",
       "      <td>Bolton</td>\n",
       "      <td>Sunderland</td>\n",
       "      <td>0.0</td>\n",
       "      <td>1.0</td>\n",
       "      <td>2.238333</td>\n",
       "      <td>3.217500</td>\n",
       "      <td>3.154167</td>\n",
       "      <td>3</td>\n",
       "    </tr>\n",
       "    <tr>\n",
       "      <th>3</th>\n",
       "      <td>2009-08-15</td>\n",
       "      <td>Chelsea</td>\n",
       "      <td>Hull</td>\n",
       "      <td>2.0</td>\n",
       "      <td>1.0</td>\n",
       "      <td>1.180833</td>\n",
       "      <td>6.143333</td>\n",
       "      <td>16.960833</td>\n",
       "      <td>1</td>\n",
       "    </tr>\n",
       "    <tr>\n",
       "      <th>4</th>\n",
       "      <td>2009-08-15</td>\n",
       "      <td>Everton</td>\n",
       "      <td>Arsenal</td>\n",
       "      <td>1.0</td>\n",
       "      <td>6.0</td>\n",
       "      <td>3.095000</td>\n",
       "      <td>3.204167</td>\n",
       "      <td>2.279167</td>\n",
       "      <td>3</td>\n",
       "    </tr>\n",
       "    <tr>\n",
       "      <th>5</th>\n",
       "      <td>2009-08-15</td>\n",
       "      <td>Portsmouth</td>\n",
       "      <td>Fulham</td>\n",
       "      <td>0.0</td>\n",
       "      <td>1.0</td>\n",
       "      <td>2.554167</td>\n",
       "      <td>3.202500</td>\n",
       "      <td>2.708333</td>\n",
       "      <td>3</td>\n",
       "    </tr>\n",
       "    <tr>\n",
       "      <th>6</th>\n",
       "      <td>2009-08-15</td>\n",
       "      <td>Stoke</td>\n",
       "      <td>Burnley</td>\n",
       "      <td>2.0</td>\n",
       "      <td>0.0</td>\n",
       "      <td>1.916667</td>\n",
       "      <td>3.275833</td>\n",
       "      <td>4.015833</td>\n",
       "      <td>1</td>\n",
       "    </tr>\n",
       "    <tr>\n",
       "      <th>7</th>\n",
       "      <td>2009-08-15</td>\n",
       "      <td>Wolves</td>\n",
       "      <td>West Ham</td>\n",
       "      <td>0.0</td>\n",
       "      <td>2.0</td>\n",
       "      <td>2.556667</td>\n",
       "      <td>3.228333</td>\n",
       "      <td>2.672500</td>\n",
       "      <td>3</td>\n",
       "    </tr>\n",
       "    <tr>\n",
       "      <th>8</th>\n",
       "      <td>2009-08-16</td>\n",
       "      <td>Man United</td>\n",
       "      <td>Birmingham</td>\n",
       "      <td>1.0</td>\n",
       "      <td>0.0</td>\n",
       "      <td>1.195000</td>\n",
       "      <td>5.810833</td>\n",
       "      <td>15.749167</td>\n",
       "      <td>1</td>\n",
       "    </tr>\n",
       "    <tr>\n",
       "      <th>9</th>\n",
       "      <td>2009-08-16</td>\n",
       "      <td>Tottenham</td>\n",
       "      <td>Liverpool</td>\n",
       "      <td>2.0</td>\n",
       "      <td>1.0</td>\n",
       "      <td>3.124167</td>\n",
       "      <td>3.218333</td>\n",
       "      <td>2.235000</td>\n",
       "      <td>1</td>\n",
       "    </tr>\n",
       "    <tr>\n",
       "      <th>10</th>\n",
       "      <td>2009-08-18</td>\n",
       "      <td>Sunderland</td>\n",
       "      <td>Chelsea</td>\n",
       "      <td>1.0</td>\n",
       "      <td>3.0</td>\n",
       "      <td>6.835833</td>\n",
       "      <td>3.774167</td>\n",
       "      <td>1.521667</td>\n",
       "      <td>3</td>\n",
       "    </tr>\n",
       "    <tr>\n",
       "      <th>11</th>\n",
       "      <td>2009-08-18</td>\n",
       "      <td>Wigan</td>\n",
       "      <td>Wolves</td>\n",
       "      <td>0.0</td>\n",
       "      <td>1.0</td>\n",
       "      <td>1.719167</td>\n",
       "      <td>3.498333</td>\n",
       "      <td>5.046667</td>\n",
       "      <td>3</td>\n",
       "    </tr>\n",
       "    <tr>\n",
       "      <th>12</th>\n",
       "      <td>2009-08-19</td>\n",
       "      <td>Birmingham</td>\n",
       "      <td>Portsmouth</td>\n",
       "      <td>1.0</td>\n",
       "      <td>0.0</td>\n",
       "      <td>2.036667</td>\n",
       "      <td>3.287500</td>\n",
       "      <td>3.650000</td>\n",
       "      <td>1</td>\n",
       "    </tr>\n",
       "    <tr>\n",
       "      <th>13</th>\n",
       "      <td>2009-08-19</td>\n",
       "      <td>Burnley</td>\n",
       "      <td>Man United</td>\n",
       "      <td>1.0</td>\n",
       "      <td>0.0</td>\n",
       "      <td>10.024167</td>\n",
       "      <td>4.762500</td>\n",
       "      <td>1.319167</td>\n",
       "      <td>1</td>\n",
       "    </tr>\n",
       "    <tr>\n",
       "      <th>14</th>\n",
       "      <td>2009-08-19</td>\n",
       "      <td>Hull</td>\n",
       "      <td>Tottenham</td>\n",
       "      <td>1.0</td>\n",
       "      <td>5.0</td>\n",
       "      <td>3.757500</td>\n",
       "      <td>3.327500</td>\n",
       "      <td>1.984167</td>\n",
       "      <td>3</td>\n",
       "    </tr>\n",
       "    <tr>\n",
       "      <th>15</th>\n",
       "      <td>2009-08-19</td>\n",
       "      <td>Liverpool</td>\n",
       "      <td>Stoke</td>\n",
       "      <td>4.0</td>\n",
       "      <td>0.0</td>\n",
       "      <td>1.252500</td>\n",
       "      <td>5.254167</td>\n",
       "      <td>12.761667</td>\n",
       "      <td>1</td>\n",
       "    </tr>\n",
       "    <tr>\n",
       "      <th>16</th>\n",
       "      <td>2009-08-22</td>\n",
       "      <td>Arsenal</td>\n",
       "      <td>Portsmouth</td>\n",
       "      <td>4.0</td>\n",
       "      <td>1.0</td>\n",
       "      <td>1.180000</td>\n",
       "      <td>6.388333</td>\n",
       "      <td>16.373333</td>\n",
       "      <td>1</td>\n",
       "    </tr>\n",
       "    <tr>\n",
       "      <th>17</th>\n",
       "      <td>2009-08-22</td>\n",
       "      <td>Birmingham</td>\n",
       "      <td>Stoke</td>\n",
       "      <td>0.0</td>\n",
       "      <td>0.0</td>\n",
       "      <td>2.245000</td>\n",
       "      <td>3.227500</td>\n",
       "      <td>3.233333</td>\n",
       "      <td>2</td>\n",
       "    </tr>\n",
       "    <tr>\n",
       "      <th>18</th>\n",
       "      <td>2009-08-22</td>\n",
       "      <td>Hull</td>\n",
       "      <td>Bolton</td>\n",
       "      <td>1.0</td>\n",
       "      <td>0.0</td>\n",
       "      <td>2.460000</td>\n",
       "      <td>3.230833</td>\n",
       "      <td>2.858333</td>\n",
       "      <td>1</td>\n",
       "    </tr>\n",
       "    <tr>\n",
       "      <th>19</th>\n",
       "      <td>2009-08-22</td>\n",
       "      <td>Man City</td>\n",
       "      <td>Wolves</td>\n",
       "      <td>1.0</td>\n",
       "      <td>0.0</td>\n",
       "      <td>1.325833</td>\n",
       "      <td>4.700833</td>\n",
       "      <td>10.201667</td>\n",
       "      <td>1</td>\n",
       "    </tr>\n",
       "    <tr>\n",
       "      <th>20</th>\n",
       "      <td>2009-08-22</td>\n",
       "      <td>Sunderland</td>\n",
       "      <td>Blackburn</td>\n",
       "      <td>2.0</td>\n",
       "      <td>1.0</td>\n",
       "      <td>2.060833</td>\n",
       "      <td>3.276667</td>\n",
       "      <td>3.600833</td>\n",
       "      <td>1</td>\n",
       "    </tr>\n",
       "    <tr>\n",
       "      <th>21</th>\n",
       "      <td>2009-08-22</td>\n",
       "      <td>Wigan</td>\n",
       "      <td>Man United</td>\n",
       "      <td>0.0</td>\n",
       "      <td>5.0</td>\n",
       "      <td>6.535833</td>\n",
       "      <td>3.846667</td>\n",
       "      <td>1.530833</td>\n",
       "      <td>3</td>\n",
       "    </tr>\n",
       "    <tr>\n",
       "      <th>22</th>\n",
       "      <td>2009-08-23</td>\n",
       "      <td>Burnley</td>\n",
       "      <td>Everton</td>\n",
       "      <td>1.0</td>\n",
       "      <td>0.0</td>\n",
       "      <td>3.226667</td>\n",
       "      <td>3.251667</td>\n",
       "      <td>2.222500</td>\n",
       "      <td>1</td>\n",
       "    </tr>\n",
       "    <tr>\n",
       "      <th>23</th>\n",
       "      <td>2009-08-23</td>\n",
       "      <td>Fulham</td>\n",
       "      <td>Chelsea</td>\n",
       "      <td>0.0</td>\n",
       "      <td>2.0</td>\n",
       "      <td>6.476667</td>\n",
       "      <td>3.689167</td>\n",
       "      <td>1.555000</td>\n",
       "      <td>3</td>\n",
       "    </tr>\n",
       "    <tr>\n",
       "      <th>24</th>\n",
       "      <td>2009-08-23</td>\n",
       "      <td>West Ham</td>\n",
       "      <td>Tottenham</td>\n",
       "      <td>1.0</td>\n",
       "      <td>2.0</td>\n",
       "      <td>3.041667</td>\n",
       "      <td>3.271667</td>\n",
       "      <td>2.320833</td>\n",
       "      <td>3</td>\n",
       "    </tr>\n",
       "    <tr>\n",
       "      <th>25</th>\n",
       "      <td>2009-08-24</td>\n",
       "      <td>Liverpool</td>\n",
       "      <td>Aston Villa</td>\n",
       "      <td>1.0</td>\n",
       "      <td>3.0</td>\n",
       "      <td>1.426667</td>\n",
       "      <td>4.155833</td>\n",
       "      <td>7.893333</td>\n",
       "      <td>3</td>\n",
       "    </tr>\n",
       "    <tr>\n",
       "      <th>26</th>\n",
       "      <td>2009-08-29</td>\n",
       "      <td>Blackburn</td>\n",
       "      <td>West Ham</td>\n",
       "      <td>0.0</td>\n",
       "      <td>0.0</td>\n",
       "      <td>2.181667</td>\n",
       "      <td>3.231667</td>\n",
       "      <td>3.294167</td>\n",
       "      <td>2</td>\n",
       "    </tr>\n",
       "    <tr>\n",
       "      <th>27</th>\n",
       "      <td>2009-08-29</td>\n",
       "      <td>Bolton</td>\n",
       "      <td>Liverpool</td>\n",
       "      <td>2.0</td>\n",
       "      <td>3.0</td>\n",
       "      <td>6.074167</td>\n",
       "      <td>3.790833</td>\n",
       "      <td>1.551667</td>\n",
       "      <td>3</td>\n",
       "    </tr>\n",
       "    <tr>\n",
       "      <th>28</th>\n",
       "      <td>2009-08-29</td>\n",
       "      <td>Chelsea</td>\n",
       "      <td>Burnley</td>\n",
       "      <td>3.0</td>\n",
       "      <td>0.0</td>\n",
       "      <td>1.139167</td>\n",
       "      <td>7.215000</td>\n",
       "      <td>17.739167</td>\n",
       "      <td>1</td>\n",
       "    </tr>\n",
       "    <tr>\n",
       "      <th>29</th>\n",
       "      <td>2009-08-29</td>\n",
       "      <td>Man United</td>\n",
       "      <td>Arsenal</td>\n",
       "      <td>2.0</td>\n",
       "      <td>1.0</td>\n",
       "      <td>2.113333</td>\n",
       "      <td>3.240833</td>\n",
       "      <td>3.441667</td>\n",
       "      <td>1</td>\n",
       "    </tr>\n",
       "    <tr>\n",
       "      <th>...</th>\n",
       "      <td>...</td>\n",
       "      <td>...</td>\n",
       "      <td>...</td>\n",
       "      <td>...</td>\n",
       "      <td>...</td>\n",
       "      <td>...</td>\n",
       "      <td>...</td>\n",
       "      <td>...</td>\n",
       "      <td>...</td>\n",
       "    </tr>\n",
       "    <tr>\n",
       "      <th>3770</th>\n",
       "      <td>2019-09-03</td>\n",
       "      <td>Crystal Palace</td>\n",
       "      <td>Brighton</td>\n",
       "      <td>1.0</td>\n",
       "      <td>2.0</td>\n",
       "      <td>1.852222</td>\n",
       "      <td>3.485556</td>\n",
       "      <td>4.874444</td>\n",
       "      <td>3</td>\n",
       "    </tr>\n",
       "    <tr>\n",
       "      <th>3771</th>\n",
       "      <td>2019-09-03</td>\n",
       "      <td>Huddersfield</td>\n",
       "      <td>Bournemouth</td>\n",
       "      <td>0.0</td>\n",
       "      <td>2.0</td>\n",
       "      <td>3.425556</td>\n",
       "      <td>3.255556</td>\n",
       "      <td>2.320000</td>\n",
       "      <td>3</td>\n",
       "    </tr>\n",
       "    <tr>\n",
       "      <th>3772</th>\n",
       "      <td>2019-09-03</td>\n",
       "      <td>Leicester</td>\n",
       "      <td>Fulham</td>\n",
       "      <td>3.0</td>\n",
       "      <td>1.0</td>\n",
       "      <td>1.597778</td>\n",
       "      <td>4.313333</td>\n",
       "      <td>5.767778</td>\n",
       "      <td>1</td>\n",
       "    </tr>\n",
       "    <tr>\n",
       "      <th>3773</th>\n",
       "      <td>2019-09-03</td>\n",
       "      <td>Man City</td>\n",
       "      <td>Watford</td>\n",
       "      <td>3.0</td>\n",
       "      <td>1.0</td>\n",
       "      <td>1.143333</td>\n",
       "      <td>9.025556</td>\n",
       "      <td>19.707778</td>\n",
       "      <td>1</td>\n",
       "    </tr>\n",
       "    <tr>\n",
       "      <th>3774</th>\n",
       "      <td>2019-09-03</td>\n",
       "      <td>Newcastle</td>\n",
       "      <td>Everton</td>\n",
       "      <td>3.0</td>\n",
       "      <td>2.0</td>\n",
       "      <td>2.797778</td>\n",
       "      <td>3.153333</td>\n",
       "      <td>2.804444</td>\n",
       "      <td>1</td>\n",
       "    </tr>\n",
       "    <tr>\n",
       "      <th>3775</th>\n",
       "      <td>2019-09-03</td>\n",
       "      <td>Southampton</td>\n",
       "      <td>Tottenham</td>\n",
       "      <td>2.0</td>\n",
       "      <td>1.0</td>\n",
       "      <td>4.366667</td>\n",
       "      <td>3.771111</td>\n",
       "      <td>1.866667</td>\n",
       "      <td>1</td>\n",
       "    </tr>\n",
       "    <tr>\n",
       "      <th>3776</th>\n",
       "      <td>2019-10-02</td>\n",
       "      <td>Man City</td>\n",
       "      <td>Chelsea</td>\n",
       "      <td>6.0</td>\n",
       "      <td>0.0</td>\n",
       "      <td>1.522222</td>\n",
       "      <td>4.481111</td>\n",
       "      <td>6.628889</td>\n",
       "      <td>1</td>\n",
       "    </tr>\n",
       "    <tr>\n",
       "      <th>3777</th>\n",
       "      <td>2019-10-02</td>\n",
       "      <td>Tottenham</td>\n",
       "      <td>Leicester</td>\n",
       "      <td>3.0</td>\n",
       "      <td>1.0</td>\n",
       "      <td>1.704444</td>\n",
       "      <td>3.847778</td>\n",
       "      <td>5.443333</td>\n",
       "      <td>1</td>\n",
       "    </tr>\n",
       "    <tr>\n",
       "      <th>3778</th>\n",
       "      <td>2019-10-03</td>\n",
       "      <td>Arsenal</td>\n",
       "      <td>Man United</td>\n",
       "      <td>2.0</td>\n",
       "      <td>0.0</td>\n",
       "      <td>2.406667</td>\n",
       "      <td>3.556667</td>\n",
       "      <td>2.982222</td>\n",
       "      <td>1</td>\n",
       "    </tr>\n",
       "    <tr>\n",
       "      <th>3779</th>\n",
       "      <td>2019-10-03</td>\n",
       "      <td>Chelsea</td>\n",
       "      <td>Wolves</td>\n",
       "      <td>1.0</td>\n",
       "      <td>1.0</td>\n",
       "      <td>1.562222</td>\n",
       "      <td>4.106667</td>\n",
       "      <td>6.877778</td>\n",
       "      <td>2</td>\n",
       "    </tr>\n",
       "    <tr>\n",
       "      <th>3780</th>\n",
       "      <td>2019-10-03</td>\n",
       "      <td>Liverpool</td>\n",
       "      <td>Burnley</td>\n",
       "      <td>4.0</td>\n",
       "      <td>2.0</td>\n",
       "      <td>1.171111</td>\n",
       "      <td>7.905556</td>\n",
       "      <td>18.687778</td>\n",
       "      <td>1</td>\n",
       "    </tr>\n",
       "    <tr>\n",
       "      <th>3781</th>\n",
       "      <td>2019-11-02</td>\n",
       "      <td>Wolves</td>\n",
       "      <td>Newcastle</td>\n",
       "      <td>1.0</td>\n",
       "      <td>1.0</td>\n",
       "      <td>1.710000</td>\n",
       "      <td>3.692222</td>\n",
       "      <td>5.691111</td>\n",
       "      <td>2</td>\n",
       "    </tr>\n",
       "    <tr>\n",
       "      <th>3782</th>\n",
       "      <td>2019-12-01</td>\n",
       "      <td>Brighton</td>\n",
       "      <td>Liverpool</td>\n",
       "      <td>0.0</td>\n",
       "      <td>1.0</td>\n",
       "      <td>10.047778</td>\n",
       "      <td>5.550000</td>\n",
       "      <td>1.325556</td>\n",
       "      <td>3</td>\n",
       "    </tr>\n",
       "    <tr>\n",
       "      <th>3783</th>\n",
       "      <td>2019-12-01</td>\n",
       "      <td>Burnley</td>\n",
       "      <td>Fulham</td>\n",
       "      <td>2.0</td>\n",
       "      <td>1.0</td>\n",
       "      <td>2.392222</td>\n",
       "      <td>3.264444</td>\n",
       "      <td>3.258889</td>\n",
       "      <td>1</td>\n",
       "    </tr>\n",
       "    <tr>\n",
       "      <th>3784</th>\n",
       "      <td>2019-12-01</td>\n",
       "      <td>Cardiff</td>\n",
       "      <td>Huddersfield</td>\n",
       "      <td>0.0</td>\n",
       "      <td>0.0</td>\n",
       "      <td>2.237778</td>\n",
       "      <td>3.174444</td>\n",
       "      <td>3.685556</td>\n",
       "      <td>2</td>\n",
       "    </tr>\n",
       "    <tr>\n",
       "      <th>3785</th>\n",
       "      <td>2019-12-01</td>\n",
       "      <td>Chelsea</td>\n",
       "      <td>Newcastle</td>\n",
       "      <td>2.0</td>\n",
       "      <td>1.0</td>\n",
       "      <td>1.224444</td>\n",
       "      <td>6.630000</td>\n",
       "      <td>15.155556</td>\n",
       "      <td>1</td>\n",
       "    </tr>\n",
       "    <tr>\n",
       "      <th>3786</th>\n",
       "      <td>2019-12-01</td>\n",
       "      <td>Crystal Palace</td>\n",
       "      <td>Watford</td>\n",
       "      <td>1.0</td>\n",
       "      <td>2.0</td>\n",
       "      <td>2.253333</td>\n",
       "      <td>3.366667</td>\n",
       "      <td>3.440000</td>\n",
       "      <td>3</td>\n",
       "    </tr>\n",
       "    <tr>\n",
       "      <th>3787</th>\n",
       "      <td>2019-12-01</td>\n",
       "      <td>Leicester</td>\n",
       "      <td>Southampton</td>\n",
       "      <td>1.0</td>\n",
       "      <td>2.0</td>\n",
       "      <td>1.934444</td>\n",
       "      <td>3.506667</td>\n",
       "      <td>4.354444</td>\n",
       "      <td>3</td>\n",
       "    </tr>\n",
       "    <tr>\n",
       "      <th>3788</th>\n",
       "      <td>2019-12-01</td>\n",
       "      <td>West Ham</td>\n",
       "      <td>Arsenal</td>\n",
       "      <td>1.0</td>\n",
       "      <td>0.0</td>\n",
       "      <td>3.482222</td>\n",
       "      <td>3.850000</td>\n",
       "      <td>2.063333</td>\n",
       "      <td>1</td>\n",
       "    </tr>\n",
       "    <tr>\n",
       "      <th>3789</th>\n",
       "      <td>2019-12-04</td>\n",
       "      <td>Leicester</td>\n",
       "      <td>Newcastle</td>\n",
       "      <td>0.0</td>\n",
       "      <td>1.0</td>\n",
       "      <td>1.657778</td>\n",
       "      <td>3.916667</td>\n",
       "      <td>5.842222</td>\n",
       "      <td>3</td>\n",
       "    </tr>\n",
       "    <tr>\n",
       "      <th>3790</th>\n",
       "      <td>2019-12-05</td>\n",
       "      <td>Brighton</td>\n",
       "      <td>Man City</td>\n",
       "      <td>1.0</td>\n",
       "      <td>4.0</td>\n",
       "      <td>17.804444</td>\n",
       "      <td>8.215556</td>\n",
       "      <td>1.164444</td>\n",
       "      <td>3</td>\n",
       "    </tr>\n",
       "    <tr>\n",
       "      <th>3791</th>\n",
       "      <td>2019-12-05</td>\n",
       "      <td>Burnley</td>\n",
       "      <td>Arsenal</td>\n",
       "      <td>1.0</td>\n",
       "      <td>3.0</td>\n",
       "      <td>3.087778</td>\n",
       "      <td>3.770000</td>\n",
       "      <td>2.272222</td>\n",
       "      <td>3</td>\n",
       "    </tr>\n",
       "    <tr>\n",
       "      <th>3792</th>\n",
       "      <td>2019-12-05</td>\n",
       "      <td>Crystal Palace</td>\n",
       "      <td>Bournemouth</td>\n",
       "      <td>5.0</td>\n",
       "      <td>3.0</td>\n",
       "      <td>1.858889</td>\n",
       "      <td>4.098889</td>\n",
       "      <td>3.958889</td>\n",
       "      <td>1</td>\n",
       "    </tr>\n",
       "    <tr>\n",
       "      <th>3793</th>\n",
       "      <td>2019-12-05</td>\n",
       "      <td>Fulham</td>\n",
       "      <td>Newcastle</td>\n",
       "      <td>0.0</td>\n",
       "      <td>4.0</td>\n",
       "      <td>2.517778</td>\n",
       "      <td>3.555556</td>\n",
       "      <td>2.818889</td>\n",
       "      <td>3</td>\n",
       "    </tr>\n",
       "    <tr>\n",
       "      <th>3794</th>\n",
       "      <td>2019-12-05</td>\n",
       "      <td>Leicester</td>\n",
       "      <td>Chelsea</td>\n",
       "      <td>0.0</td>\n",
       "      <td>0.0</td>\n",
       "      <td>2.398889</td>\n",
       "      <td>3.638889</td>\n",
       "      <td>2.920000</td>\n",
       "      <td>2</td>\n",
       "    </tr>\n",
       "    <tr>\n",
       "      <th>3795</th>\n",
       "      <td>2019-12-05</td>\n",
       "      <td>Liverpool</td>\n",
       "      <td>Wolves</td>\n",
       "      <td>2.0</td>\n",
       "      <td>0.0</td>\n",
       "      <td>1.306667</td>\n",
       "      <td>5.742222</td>\n",
       "      <td>10.443333</td>\n",
       "      <td>1</td>\n",
       "    </tr>\n",
       "    <tr>\n",
       "      <th>3796</th>\n",
       "      <td>2019-12-05</td>\n",
       "      <td>Man United</td>\n",
       "      <td>Cardiff</td>\n",
       "      <td>0.0</td>\n",
       "      <td>2.0</td>\n",
       "      <td>1.280000</td>\n",
       "      <td>6.324444</td>\n",
       "      <td>10.357778</td>\n",
       "      <td>3</td>\n",
       "    </tr>\n",
       "    <tr>\n",
       "      <th>3797</th>\n",
       "      <td>2019-12-05</td>\n",
       "      <td>Southampton</td>\n",
       "      <td>Huddersfield</td>\n",
       "      <td>1.0</td>\n",
       "      <td>1.0</td>\n",
       "      <td>1.417778</td>\n",
       "      <td>4.888889</td>\n",
       "      <td>7.983333</td>\n",
       "      <td>2</td>\n",
       "    </tr>\n",
       "    <tr>\n",
       "      <th>3798</th>\n",
       "      <td>2019-12-05</td>\n",
       "      <td>Tottenham</td>\n",
       "      <td>Everton</td>\n",
       "      <td>2.0</td>\n",
       "      <td>2.0</td>\n",
       "      <td>2.094444</td>\n",
       "      <td>3.567778</td>\n",
       "      <td>3.663333</td>\n",
       "      <td>2</td>\n",
       "    </tr>\n",
       "    <tr>\n",
       "      <th>3799</th>\n",
       "      <td>2019-12-05</td>\n",
       "      <td>Watford</td>\n",
       "      <td>West Ham</td>\n",
       "      <td>1.0</td>\n",
       "      <td>4.0</td>\n",
       "      <td>2.202222</td>\n",
       "      <td>3.776667</td>\n",
       "      <td>3.188889</td>\n",
       "      <td>3</td>\n",
       "    </tr>\n",
       "  </tbody>\n",
       "</table>\n",
       "<p>3800 rows × 9 columns</p>\n",
       "</div>"
      ],
      "text/plain": [
       "           Date           Hteam         Ateam  FTHG  FTAG      Odd-1  \\\n",
       "0    2009-08-15     Aston Villa         Wigan   0.0   2.0   1.673333   \n",
       "1    2009-08-15       Blackburn      Man City   0.0   2.0   3.354167   \n",
       "2    2009-08-15          Bolton    Sunderland   0.0   1.0   2.238333   \n",
       "3    2009-08-15         Chelsea          Hull   2.0   1.0   1.180833   \n",
       "4    2009-08-15         Everton       Arsenal   1.0   6.0   3.095000   \n",
       "5    2009-08-15      Portsmouth        Fulham   0.0   1.0   2.554167   \n",
       "6    2009-08-15           Stoke       Burnley   2.0   0.0   1.916667   \n",
       "7    2009-08-15          Wolves      West Ham   0.0   2.0   2.556667   \n",
       "8    2009-08-16      Man United    Birmingham   1.0   0.0   1.195000   \n",
       "9    2009-08-16       Tottenham     Liverpool   2.0   1.0   3.124167   \n",
       "10   2009-08-18      Sunderland       Chelsea   1.0   3.0   6.835833   \n",
       "11   2009-08-18           Wigan        Wolves   0.0   1.0   1.719167   \n",
       "12   2009-08-19      Birmingham    Portsmouth   1.0   0.0   2.036667   \n",
       "13   2009-08-19         Burnley    Man United   1.0   0.0  10.024167   \n",
       "14   2009-08-19            Hull     Tottenham   1.0   5.0   3.757500   \n",
       "15   2009-08-19       Liverpool         Stoke   4.0   0.0   1.252500   \n",
       "16   2009-08-22         Arsenal    Portsmouth   4.0   1.0   1.180000   \n",
       "17   2009-08-22      Birmingham         Stoke   0.0   0.0   2.245000   \n",
       "18   2009-08-22            Hull        Bolton   1.0   0.0   2.460000   \n",
       "19   2009-08-22        Man City        Wolves   1.0   0.0   1.325833   \n",
       "20   2009-08-22      Sunderland     Blackburn   2.0   1.0   2.060833   \n",
       "21   2009-08-22           Wigan    Man United   0.0   5.0   6.535833   \n",
       "22   2009-08-23         Burnley       Everton   1.0   0.0   3.226667   \n",
       "23   2009-08-23          Fulham       Chelsea   0.0   2.0   6.476667   \n",
       "24   2009-08-23        West Ham     Tottenham   1.0   2.0   3.041667   \n",
       "25   2009-08-24       Liverpool   Aston Villa   1.0   3.0   1.426667   \n",
       "26   2009-08-29       Blackburn      West Ham   0.0   0.0   2.181667   \n",
       "27   2009-08-29          Bolton     Liverpool   2.0   3.0   6.074167   \n",
       "28   2009-08-29         Chelsea       Burnley   3.0   0.0   1.139167   \n",
       "29   2009-08-29      Man United       Arsenal   2.0   1.0   2.113333   \n",
       "...         ...             ...           ...   ...   ...        ...   \n",
       "3770 2019-09-03  Crystal Palace      Brighton   1.0   2.0   1.852222   \n",
       "3771 2019-09-03    Huddersfield   Bournemouth   0.0   2.0   3.425556   \n",
       "3772 2019-09-03       Leicester        Fulham   3.0   1.0   1.597778   \n",
       "3773 2019-09-03        Man City       Watford   3.0   1.0   1.143333   \n",
       "3774 2019-09-03       Newcastle       Everton   3.0   2.0   2.797778   \n",
       "3775 2019-09-03     Southampton     Tottenham   2.0   1.0   4.366667   \n",
       "3776 2019-10-02        Man City       Chelsea   6.0   0.0   1.522222   \n",
       "3777 2019-10-02       Tottenham     Leicester   3.0   1.0   1.704444   \n",
       "3778 2019-10-03         Arsenal    Man United   2.0   0.0   2.406667   \n",
       "3779 2019-10-03         Chelsea        Wolves   1.0   1.0   1.562222   \n",
       "3780 2019-10-03       Liverpool       Burnley   4.0   2.0   1.171111   \n",
       "3781 2019-11-02          Wolves     Newcastle   1.0   1.0   1.710000   \n",
       "3782 2019-12-01        Brighton     Liverpool   0.0   1.0  10.047778   \n",
       "3783 2019-12-01         Burnley        Fulham   2.0   1.0   2.392222   \n",
       "3784 2019-12-01         Cardiff  Huddersfield   0.0   0.0   2.237778   \n",
       "3785 2019-12-01         Chelsea     Newcastle   2.0   1.0   1.224444   \n",
       "3786 2019-12-01  Crystal Palace       Watford   1.0   2.0   2.253333   \n",
       "3787 2019-12-01       Leicester   Southampton   1.0   2.0   1.934444   \n",
       "3788 2019-12-01        West Ham       Arsenal   1.0   0.0   3.482222   \n",
       "3789 2019-12-04       Leicester     Newcastle   0.0   1.0   1.657778   \n",
       "3790 2019-12-05        Brighton      Man City   1.0   4.0  17.804444   \n",
       "3791 2019-12-05         Burnley       Arsenal   1.0   3.0   3.087778   \n",
       "3792 2019-12-05  Crystal Palace   Bournemouth   5.0   3.0   1.858889   \n",
       "3793 2019-12-05          Fulham     Newcastle   0.0   4.0   2.517778   \n",
       "3794 2019-12-05       Leicester       Chelsea   0.0   0.0   2.398889   \n",
       "3795 2019-12-05       Liverpool        Wolves   2.0   0.0   1.306667   \n",
       "3796 2019-12-05      Man United       Cardiff   0.0   2.0   1.280000   \n",
       "3797 2019-12-05     Southampton  Huddersfield   1.0   1.0   1.417778   \n",
       "3798 2019-12-05       Tottenham       Everton   2.0   2.0   2.094444   \n",
       "3799 2019-12-05         Watford      West Ham   1.0   4.0   2.202222   \n",
       "\n",
       "         Odd-N      Odd-2  Target  \n",
       "0     3.490000   5.252500       3  \n",
       "1     3.228333   2.143333       3  \n",
       "2     3.217500   3.154167       3  \n",
       "3     6.143333  16.960833       1  \n",
       "4     3.204167   2.279167       3  \n",
       "5     3.202500   2.708333       3  \n",
       "6     3.275833   4.015833       1  \n",
       "7     3.228333   2.672500       3  \n",
       "8     5.810833  15.749167       1  \n",
       "9     3.218333   2.235000       1  \n",
       "10    3.774167   1.521667       3  \n",
       "11    3.498333   5.046667       3  \n",
       "12    3.287500   3.650000       1  \n",
       "13    4.762500   1.319167       1  \n",
       "14    3.327500   1.984167       3  \n",
       "15    5.254167  12.761667       1  \n",
       "16    6.388333  16.373333       1  \n",
       "17    3.227500   3.233333       2  \n",
       "18    3.230833   2.858333       1  \n",
       "19    4.700833  10.201667       1  \n",
       "20    3.276667   3.600833       1  \n",
       "21    3.846667   1.530833       3  \n",
       "22    3.251667   2.222500       1  \n",
       "23    3.689167   1.555000       3  \n",
       "24    3.271667   2.320833       3  \n",
       "25    4.155833   7.893333       3  \n",
       "26    3.231667   3.294167       2  \n",
       "27    3.790833   1.551667       3  \n",
       "28    7.215000  17.739167       1  \n",
       "29    3.240833   3.441667       1  \n",
       "...        ...        ...     ...  \n",
       "3770  3.485556   4.874444       3  \n",
       "3771  3.255556   2.320000       3  \n",
       "3772  4.313333   5.767778       1  \n",
       "3773  9.025556  19.707778       1  \n",
       "3774  3.153333   2.804444       1  \n",
       "3775  3.771111   1.866667       1  \n",
       "3776  4.481111   6.628889       1  \n",
       "3777  3.847778   5.443333       1  \n",
       "3778  3.556667   2.982222       1  \n",
       "3779  4.106667   6.877778       2  \n",
       "3780  7.905556  18.687778       1  \n",
       "3781  3.692222   5.691111       2  \n",
       "3782  5.550000   1.325556       3  \n",
       "3783  3.264444   3.258889       1  \n",
       "3784  3.174444   3.685556       2  \n",
       "3785  6.630000  15.155556       1  \n",
       "3786  3.366667   3.440000       3  \n",
       "3787  3.506667   4.354444       3  \n",
       "3788  3.850000   2.063333       1  \n",
       "3789  3.916667   5.842222       3  \n",
       "3790  8.215556   1.164444       3  \n",
       "3791  3.770000   2.272222       3  \n",
       "3792  4.098889   3.958889       1  \n",
       "3793  3.555556   2.818889       3  \n",
       "3794  3.638889   2.920000       2  \n",
       "3795  5.742222  10.443333       1  \n",
       "3796  6.324444  10.357778       3  \n",
       "3797  4.888889   7.983333       2  \n",
       "3798  3.567778   3.663333       2  \n",
       "3799  3.776667   3.188889       3  \n",
       "\n",
       "[3800 rows x 9 columns]"
      ]
     },
     "execution_count": 14,
     "metadata": {},
     "output_type": "execute_result"
    }
   ],
   "source": [
    "bet=bet.groupby(['Date','Hteam','Ateam']).mean().reset_index()\n",
    "bet"
   ]
  },
  {
   "cell_type": "code",
   "execution_count": 15,
   "metadata": {},
   "outputs": [],
   "source": [
    "bet.to_csv('bet.csv',index=False)"
   ]
  },
  {
   "cell_type": "code",
   "execution_count": 16,
   "metadata": {},
   "outputs": [
    {
     "data": {
      "application/javascript": [
       "\n",
       "        if (window._pyforest_update_imports_cell) { window._pyforest_update_imports_cell('import numpy as np\\nimport pandas as pd'); }\n",
       "    "
      ],
      "text/plain": [
       "<IPython.core.display.Javascript object>"
      ]
     },
     "metadata": {},
     "output_type": "display_data"
    },
    {
     "data": {
      "text/plain": [
       "array(['Arsenal', 'Aston Villa', 'Birmingham', 'Blackburn', 'Blackpool',\n",
       "       'Bolton', 'Bournemouth', 'Brighton', 'Burnley', 'Cardiff',\n",
       "       'Chelsea', 'Crystal Palace', 'Everton', 'Fulham', 'Huddersfield',\n",
       "       'Hull', 'Leicester', 'Liverpool', 'Man City', 'Man United',\n",
       "       'Middlesbrough', 'Newcastle', 'Norwich', 'Portsmouth', 'QPR',\n",
       "       'Reading', 'Southampton', 'Stoke', 'Sunderland', 'Swansea',\n",
       "       'Tottenham', 'Watford', 'West Brom', 'West Ham', 'Wigan', 'Wolves'],\n",
       "      dtype=object)"
      ]
     },
     "execution_count": 16,
     "metadata": {},
     "output_type": "execute_result"
    }
   ],
   "source": [
    "teams = bet.Hteam\n",
    "teams = np.unique(teams)\n",
    "teams"
   ]
  },
  {
   "cell_type": "code",
   "execution_count": 17,
   "metadata": {},
   "outputs": [
    {
     "data": {
      "application/javascript": [
       "\n",
       "        if (window._pyforest_update_imports_cell) { window._pyforest_update_imports_cell('import numpy as np\\nimport pandas as pd'); }\n",
       "    "
      ],
      "text/plain": [
       "<IPython.core.display.Javascript object>"
      ]
     },
     "metadata": {},
     "output_type": "display_data"
    },
    {
     "data": {
      "application/javascript": [
       "\n",
       "        if (window._pyforest_update_imports_cell) { window._pyforest_update_imports_cell('import numpy as np\\nimport pandas as pd'); }\n",
       "    "
      ],
      "text/plain": [
       "<IPython.core.display.Javascript object>"
      ]
     },
     "metadata": {},
     "output_type": "display_data"
    },
    {
     "data": {
      "application/javascript": [
       "\n",
       "        if (window._pyforest_update_imports_cell) { window._pyforest_update_imports_cell('import numpy as np\\nimport pandas as pd'); }\n",
       "    "
      ],
      "text/plain": [
       "<IPython.core.display.Javascript object>"
      ]
     },
     "metadata": {},
     "output_type": "display_data"
    },
    {
     "data": {
      "application/javascript": [
       "\n",
       "        if (window._pyforest_update_imports_cell) { window._pyforest_update_imports_cell('import numpy as np\\nimport pandas as pd'); }\n",
       "    "
      ],
      "text/plain": [
       "<IPython.core.display.Javascript object>"
      ]
     },
     "metadata": {},
     "output_type": "display_data"
    },
    {
     "data": {
      "application/javascript": [
       "\n",
       "        if (window._pyforest_update_imports_cell) { window._pyforest_update_imports_cell('import numpy as np\\nimport pandas as pd'); }\n",
       "    "
      ],
      "text/plain": [
       "<IPython.core.display.Javascript object>"
      ]
     },
     "metadata": {},
     "output_type": "display_data"
    },
    {
     "data": {
      "application/javascript": [
       "\n",
       "        if (window._pyforest_update_imports_cell) { window._pyforest_update_imports_cell('import numpy as np\\nimport pandas as pd'); }\n",
       "    "
      ],
      "text/plain": [
       "<IPython.core.display.Javascript object>"
      ]
     },
     "metadata": {},
     "output_type": "display_data"
    },
    {
     "data": {
      "application/javascript": [
       "\n",
       "        if (window._pyforest_update_imports_cell) { window._pyforest_update_imports_cell('import numpy as np\\nimport pandas as pd'); }\n",
       "    "
      ],
      "text/plain": [
       "<IPython.core.display.Javascript object>"
      ]
     },
     "metadata": {},
     "output_type": "display_data"
    },
    {
     "data": {
      "application/javascript": [
       "\n",
       "        if (window._pyforest_update_imports_cell) { window._pyforest_update_imports_cell('import numpy as np\\nimport pandas as pd'); }\n",
       "    "
      ],
      "text/plain": [
       "<IPython.core.display.Javascript object>"
      ]
     },
     "metadata": {},
     "output_type": "display_data"
    },
    {
     "data": {
      "application/javascript": [
       "\n",
       "        if (window._pyforest_update_imports_cell) { window._pyforest_update_imports_cell('import numpy as np\\nimport pandas as pd'); }\n",
       "    "
      ],
      "text/plain": [
       "<IPython.core.display.Javascript object>"
      ]
     },
     "metadata": {},
     "output_type": "display_data"
    },
    {
     "data": {
      "application/javascript": [
       "\n",
       "        if (window._pyforest_update_imports_cell) { window._pyforest_update_imports_cell('import numpy as np\\nimport pandas as pd'); }\n",
       "    "
      ],
      "text/plain": [
       "<IPython.core.display.Javascript object>"
      ]
     },
     "metadata": {},
     "output_type": "display_data"
    },
    {
     "data": {
      "application/javascript": [
       "\n",
       "        if (window._pyforest_update_imports_cell) { window._pyforest_update_imports_cell('import numpy as np\\nimport pandas as pd'); }\n",
       "    "
      ],
      "text/plain": [
       "<IPython.core.display.Javascript object>"
      ]
     },
     "metadata": {},
     "output_type": "display_data"
    },
    {
     "data": {
      "application/javascript": [
       "\n",
       "        if (window._pyforest_update_imports_cell) { window._pyforest_update_imports_cell('import numpy as np\\nimport pandas as pd'); }\n",
       "    "
      ],
      "text/plain": [
       "<IPython.core.display.Javascript object>"
      ]
     },
     "metadata": {},
     "output_type": "display_data"
    },
    {
     "data": {
      "application/javascript": [
       "\n",
       "        if (window._pyforest_update_imports_cell) { window._pyforest_update_imports_cell('import numpy as np\\nimport pandas as pd'); }\n",
       "    "
      ],
      "text/plain": [
       "<IPython.core.display.Javascript object>"
      ]
     },
     "metadata": {},
     "output_type": "display_data"
    },
    {
     "data": {
      "application/javascript": [
       "\n",
       "        if (window._pyforest_update_imports_cell) { window._pyforest_update_imports_cell('import numpy as np\\nimport pandas as pd'); }\n",
       "    "
      ],
      "text/plain": [
       "<IPython.core.display.Javascript object>"
      ]
     },
     "metadata": {},
     "output_type": "display_data"
    },
    {
     "data": {
      "application/javascript": [
       "\n",
       "        if (window._pyforest_update_imports_cell) { window._pyforest_update_imports_cell('import numpy as np\\nimport pandas as pd'); }\n",
       "    "
      ],
      "text/plain": [
       "<IPython.core.display.Javascript object>"
      ]
     },
     "metadata": {},
     "output_type": "display_data"
    },
    {
     "data": {
      "application/javascript": [
       "\n",
       "        if (window._pyforest_update_imports_cell) { window._pyforest_update_imports_cell('import numpy as np\\nimport pandas as pd'); }\n",
       "    "
      ],
      "text/plain": [
       "<IPython.core.display.Javascript object>"
      ]
     },
     "metadata": {},
     "output_type": "display_data"
    },
    {
     "data": {
      "application/javascript": [
       "\n",
       "        if (window._pyforest_update_imports_cell) { window._pyforest_update_imports_cell('import numpy as np\\nimport pandas as pd'); }\n",
       "    "
      ],
      "text/plain": [
       "<IPython.core.display.Javascript object>"
      ]
     },
     "metadata": {},
     "output_type": "display_data"
    },
    {
     "data": {
      "application/javascript": [
       "\n",
       "        if (window._pyforest_update_imports_cell) { window._pyforest_update_imports_cell('import numpy as np\\nimport pandas as pd'); }\n",
       "    "
      ],
      "text/plain": [
       "<IPython.core.display.Javascript object>"
      ]
     },
     "metadata": {},
     "output_type": "display_data"
    },
    {
     "data": {
      "application/javascript": [
       "\n",
       "        if (window._pyforest_update_imports_cell) { window._pyforest_update_imports_cell('import numpy as np\\nimport pandas as pd'); }\n",
       "    "
      ],
      "text/plain": [
       "<IPython.core.display.Javascript object>"
      ]
     },
     "metadata": {},
     "output_type": "display_data"
    },
    {
     "data": {
      "application/javascript": [
       "\n",
       "        if (window._pyforest_update_imports_cell) { window._pyforest_update_imports_cell('import numpy as np\\nimport pandas as pd'); }\n",
       "    "
      ],
      "text/plain": [
       "<IPython.core.display.Javascript object>"
      ]
     },
     "metadata": {},
     "output_type": "display_data"
    },
    {
     "data": {
      "application/javascript": [
       "\n",
       "        if (window._pyforest_update_imports_cell) { window._pyforest_update_imports_cell('import numpy as np\\nimport pandas as pd'); }\n",
       "    "
      ],
      "text/plain": [
       "<IPython.core.display.Javascript object>"
      ]
     },
     "metadata": {},
     "output_type": "display_data"
    },
    {
     "data": {
      "application/javascript": [
       "\n",
       "        if (window._pyforest_update_imports_cell) { window._pyforest_update_imports_cell('import numpy as np\\nimport pandas as pd'); }\n",
       "    "
      ],
      "text/plain": [
       "<IPython.core.display.Javascript object>"
      ]
     },
     "metadata": {},
     "output_type": "display_data"
    },
    {
     "data": {
      "application/javascript": [
       "\n",
       "        if (window._pyforest_update_imports_cell) { window._pyforest_update_imports_cell('import numpy as np\\nimport pandas as pd'); }\n",
       "    "
      ],
      "text/plain": [
       "<IPython.core.display.Javascript object>"
      ]
     },
     "metadata": {},
     "output_type": "display_data"
    },
    {
     "data": {
      "application/javascript": [
       "\n",
       "        if (window._pyforest_update_imports_cell) { window._pyforest_update_imports_cell('import numpy as np\\nimport pandas as pd'); }\n",
       "    "
      ],
      "text/plain": [
       "<IPython.core.display.Javascript object>"
      ]
     },
     "metadata": {},
     "output_type": "display_data"
    },
    {
     "data": {
      "application/javascript": [
       "\n",
       "        if (window._pyforest_update_imports_cell) { window._pyforest_update_imports_cell('import numpy as np\\nimport pandas as pd'); }\n",
       "    "
      ],
      "text/plain": [
       "<IPython.core.display.Javascript object>"
      ]
     },
     "metadata": {},
     "output_type": "display_data"
    },
    {
     "data": {
      "application/javascript": [
       "\n",
       "        if (window._pyforest_update_imports_cell) { window._pyforest_update_imports_cell('import numpy as np\\nimport pandas as pd'); }\n",
       "    "
      ],
      "text/plain": [
       "<IPython.core.display.Javascript object>"
      ]
     },
     "metadata": {},
     "output_type": "display_data"
    },
    {
     "data": {
      "application/javascript": [
       "\n",
       "        if (window._pyforest_update_imports_cell) { window._pyforest_update_imports_cell('import numpy as np\\nimport pandas as pd'); }\n",
       "    "
      ],
      "text/plain": [
       "<IPython.core.display.Javascript object>"
      ]
     },
     "metadata": {},
     "output_type": "display_data"
    },
    {
     "data": {
      "application/javascript": [
       "\n",
       "        if (window._pyforest_update_imports_cell) { window._pyforest_update_imports_cell('import numpy as np\\nimport pandas as pd'); }\n",
       "    "
      ],
      "text/plain": [
       "<IPython.core.display.Javascript object>"
      ]
     },
     "metadata": {},
     "output_type": "display_data"
    },
    {
     "data": {
      "application/javascript": [
       "\n",
       "        if (window._pyforest_update_imports_cell) { window._pyforest_update_imports_cell('import numpy as np\\nimport pandas as pd'); }\n",
       "    "
      ],
      "text/plain": [
       "<IPython.core.display.Javascript object>"
      ]
     },
     "metadata": {},
     "output_type": "display_data"
    },
    {
     "data": {
      "application/javascript": [
       "\n",
       "        if (window._pyforest_update_imports_cell) { window._pyforest_update_imports_cell('import numpy as np\\nimport pandas as pd'); }\n",
       "    "
      ],
      "text/plain": [
       "<IPython.core.display.Javascript object>"
      ]
     },
     "metadata": {},
     "output_type": "display_data"
    },
    {
     "data": {
      "application/javascript": [
       "\n",
       "        if (window._pyforest_update_imports_cell) { window._pyforest_update_imports_cell('import numpy as np\\nimport pandas as pd'); }\n",
       "    "
      ],
      "text/plain": [
       "<IPython.core.display.Javascript object>"
      ]
     },
     "metadata": {},
     "output_type": "display_data"
    },
    {
     "data": {
      "application/javascript": [
       "\n",
       "        if (window._pyforest_update_imports_cell) { window._pyforest_update_imports_cell('import numpy as np\\nimport pandas as pd'); }\n",
       "    "
      ],
      "text/plain": [
       "<IPython.core.display.Javascript object>"
      ]
     },
     "metadata": {},
     "output_type": "display_data"
    },
    {
     "data": {
      "application/javascript": [
       "\n",
       "        if (window._pyforest_update_imports_cell) { window._pyforest_update_imports_cell('import numpy as np\\nimport pandas as pd'); }\n",
       "    "
      ],
      "text/plain": [
       "<IPython.core.display.Javascript object>"
      ]
     },
     "metadata": {},
     "output_type": "display_data"
    },
    {
     "data": {
      "application/javascript": [
       "\n",
       "        if (window._pyforest_update_imports_cell) { window._pyforest_update_imports_cell('import numpy as np\\nimport pandas as pd'); }\n",
       "    "
      ],
      "text/plain": [
       "<IPython.core.display.Javascript object>"
      ]
     },
     "metadata": {},
     "output_type": "display_data"
    },
    {
     "data": {
      "application/javascript": [
       "\n",
       "        if (window._pyforest_update_imports_cell) { window._pyforest_update_imports_cell('import numpy as np\\nimport pandas as pd'); }\n",
       "    "
      ],
      "text/plain": [
       "<IPython.core.display.Javascript object>"
      ]
     },
     "metadata": {},
     "output_type": "display_data"
    },
    {
     "data": {
      "application/javascript": [
       "\n",
       "        if (window._pyforest_update_imports_cell) { window._pyforest_update_imports_cell('import numpy as np\\nimport pandas as pd'); }\n",
       "    "
      ],
      "text/plain": [
       "<IPython.core.display.Javascript object>"
      ]
     },
     "metadata": {},
     "output_type": "display_data"
    },
    {
     "data": {
      "application/javascript": [
       "\n",
       "        if (window._pyforest_update_imports_cell) { window._pyforest_update_imports_cell('import numpy as np\\nimport pandas as pd'); }\n",
       "    "
      ],
      "text/plain": [
       "<IPython.core.display.Javascript object>"
      ]
     },
     "metadata": {},
     "output_type": "display_data"
    },
    {
     "data": {
      "application/javascript": [
       "\n",
       "        if (window._pyforest_update_imports_cell) { window._pyforest_update_imports_cell('import numpy as np\\nimport pandas as pd'); }\n",
       "    "
      ],
      "text/plain": [
       "<IPython.core.display.Javascript object>"
      ]
     },
     "metadata": {},
     "output_type": "display_data"
    },
    {
     "data": {
      "application/javascript": [
       "\n",
       "        if (window._pyforest_update_imports_cell) { window._pyforest_update_imports_cell('import numpy as np\\nimport pandas as pd'); }\n",
       "    "
      ],
      "text/plain": [
       "<IPython.core.display.Javascript object>"
      ]
     },
     "metadata": {},
     "output_type": "display_data"
    },
    {
     "data": {
      "application/javascript": [
       "\n",
       "        if (window._pyforest_update_imports_cell) { window._pyforest_update_imports_cell('import numpy as np\\nimport pandas as pd'); }\n",
       "    "
      ],
      "text/plain": [
       "<IPython.core.display.Javascript object>"
      ]
     },
     "metadata": {},
     "output_type": "display_data"
    },
    {
     "data": {
      "application/javascript": [
       "\n",
       "        if (window._pyforest_update_imports_cell) { window._pyforest_update_imports_cell('import numpy as np\\nimport pandas as pd'); }\n",
       "    "
      ],
      "text/plain": [
       "<IPython.core.display.Javascript object>"
      ]
     },
     "metadata": {},
     "output_type": "display_data"
    },
    {
     "data": {
      "application/javascript": [
       "\n",
       "        if (window._pyforest_update_imports_cell) { window._pyforest_update_imports_cell('import numpy as np\\nimport pandas as pd'); }\n",
       "    "
      ],
      "text/plain": [
       "<IPython.core.display.Javascript object>"
      ]
     },
     "metadata": {},
     "output_type": "display_data"
    },
    {
     "data": {
      "application/javascript": [
       "\n",
       "        if (window._pyforest_update_imports_cell) { window._pyforest_update_imports_cell('import numpy as np\\nimport pandas as pd'); }\n",
       "    "
      ],
      "text/plain": [
       "<IPython.core.display.Javascript object>"
      ]
     },
     "metadata": {},
     "output_type": "display_data"
    },
    {
     "data": {
      "application/javascript": [
       "\n",
       "        if (window._pyforest_update_imports_cell) { window._pyforest_update_imports_cell('import numpy as np\\nimport pandas as pd'); }\n",
       "    "
      ],
      "text/plain": [
       "<IPython.core.display.Javascript object>"
      ]
     },
     "metadata": {},
     "output_type": "display_data"
    },
    {
     "data": {
      "application/javascript": [
       "\n",
       "        if (window._pyforest_update_imports_cell) { window._pyforest_update_imports_cell('import numpy as np\\nimport pandas as pd'); }\n",
       "    "
      ],
      "text/plain": [
       "<IPython.core.display.Javascript object>"
      ]
     },
     "metadata": {},
     "output_type": "display_data"
    },
    {
     "data": {
      "application/javascript": [
       "\n",
       "        if (window._pyforest_update_imports_cell) { window._pyforest_update_imports_cell('import numpy as np\\nimport pandas as pd'); }\n",
       "    "
      ],
      "text/plain": [
       "<IPython.core.display.Javascript object>"
      ]
     },
     "metadata": {},
     "output_type": "display_data"
    },
    {
     "data": {
      "application/javascript": [
       "\n",
       "        if (window._pyforest_update_imports_cell) { window._pyforest_update_imports_cell('import numpy as np\\nimport pandas as pd'); }\n",
       "    "
      ],
      "text/plain": [
       "<IPython.core.display.Javascript object>"
      ]
     },
     "metadata": {},
     "output_type": "display_data"
    },
    {
     "data": {
      "application/javascript": [
       "\n",
       "        if (window._pyforest_update_imports_cell) { window._pyforest_update_imports_cell('import numpy as np\\nimport pandas as pd'); }\n",
       "    "
      ],
      "text/plain": [
       "<IPython.core.display.Javascript object>"
      ]
     },
     "metadata": {},
     "output_type": "display_data"
    },
    {
     "data": {
      "application/javascript": [
       "\n",
       "        if (window._pyforest_update_imports_cell) { window._pyforest_update_imports_cell('import numpy as np\\nimport pandas as pd'); }\n",
       "    "
      ],
      "text/plain": [
       "<IPython.core.display.Javascript object>"
      ]
     },
     "metadata": {},
     "output_type": "display_data"
    },
    {
     "data": {
      "application/javascript": [
       "\n",
       "        if (window._pyforest_update_imports_cell) { window._pyforest_update_imports_cell('import numpy as np\\nimport pandas as pd'); }\n",
       "    "
      ],
      "text/plain": [
       "<IPython.core.display.Javascript object>"
      ]
     },
     "metadata": {},
     "output_type": "display_data"
    },
    {
     "data": {
      "application/javascript": [
       "\n",
       "        if (window._pyforest_update_imports_cell) { window._pyforest_update_imports_cell('import numpy as np\\nimport pandas as pd'); }\n",
       "    "
      ],
      "text/plain": [
       "<IPython.core.display.Javascript object>"
      ]
     },
     "metadata": {},
     "output_type": "display_data"
    },
    {
     "data": {
      "application/javascript": [
       "\n",
       "        if (window._pyforest_update_imports_cell) { window._pyforest_update_imports_cell('import numpy as np\\nimport pandas as pd'); }\n",
       "    "
      ],
      "text/plain": [
       "<IPython.core.display.Javascript object>"
      ]
     },
     "metadata": {},
     "output_type": "display_data"
    },
    {
     "data": {
      "application/javascript": [
       "\n",
       "        if (window._pyforest_update_imports_cell) { window._pyforest_update_imports_cell('import numpy as np\\nimport pandas as pd'); }\n",
       "    "
      ],
      "text/plain": [
       "<IPython.core.display.Javascript object>"
      ]
     },
     "metadata": {},
     "output_type": "display_data"
    },
    {
     "data": {
      "application/javascript": [
       "\n",
       "        if (window._pyforest_update_imports_cell) { window._pyforest_update_imports_cell('import numpy as np\\nimport pandas as pd'); }\n",
       "    "
      ],
      "text/plain": [
       "<IPython.core.display.Javascript object>"
      ]
     },
     "metadata": {},
     "output_type": "display_data"
    },
    {
     "data": {
      "application/javascript": [
       "\n",
       "        if (window._pyforest_update_imports_cell) { window._pyforest_update_imports_cell('import numpy as np\\nimport pandas as pd'); }\n",
       "    "
      ],
      "text/plain": [
       "<IPython.core.display.Javascript object>"
      ]
     },
     "metadata": {},
     "output_type": "display_data"
    },
    {
     "data": {
      "application/javascript": [
       "\n",
       "        if (window._pyforest_update_imports_cell) { window._pyforest_update_imports_cell('import numpy as np\\nimport pandas as pd'); }\n",
       "    "
      ],
      "text/plain": [
       "<IPython.core.display.Javascript object>"
      ]
     },
     "metadata": {},
     "output_type": "display_data"
    },
    {
     "data": {
      "application/javascript": [
       "\n",
       "        if (window._pyforest_update_imports_cell) { window._pyforest_update_imports_cell('import numpy as np\\nimport pandas as pd'); }\n",
       "    "
      ],
      "text/plain": [
       "<IPython.core.display.Javascript object>"
      ]
     },
     "metadata": {},
     "output_type": "display_data"
    },
    {
     "data": {
      "application/javascript": [
       "\n",
       "        if (window._pyforest_update_imports_cell) { window._pyforest_update_imports_cell('import numpy as np\\nimport pandas as pd'); }\n",
       "    "
      ],
      "text/plain": [
       "<IPython.core.display.Javascript object>"
      ]
     },
     "metadata": {},
     "output_type": "display_data"
    },
    {
     "data": {
      "application/javascript": [
       "\n",
       "        if (window._pyforest_update_imports_cell) { window._pyforest_update_imports_cell('import numpy as np\\nimport pandas as pd'); }\n",
       "    "
      ],
      "text/plain": [
       "<IPython.core.display.Javascript object>"
      ]
     },
     "metadata": {},
     "output_type": "display_data"
    },
    {
     "data": {
      "application/javascript": [
       "\n",
       "        if (window._pyforest_update_imports_cell) { window._pyforest_update_imports_cell('import numpy as np\\nimport pandas as pd'); }\n",
       "    "
      ],
      "text/plain": [
       "<IPython.core.display.Javascript object>"
      ]
     },
     "metadata": {},
     "output_type": "display_data"
    },
    {
     "data": {
      "application/javascript": [
       "\n",
       "        if (window._pyforest_update_imports_cell) { window._pyforest_update_imports_cell('import numpy as np\\nimport pandas as pd'); }\n",
       "    "
      ],
      "text/plain": [
       "<IPython.core.display.Javascript object>"
      ]
     },
     "metadata": {},
     "output_type": "display_data"
    },
    {
     "data": {
      "application/javascript": [
       "\n",
       "        if (window._pyforest_update_imports_cell) { window._pyforest_update_imports_cell('import numpy as np\\nimport pandas as pd'); }\n",
       "    "
      ],
      "text/plain": [
       "<IPython.core.display.Javascript object>"
      ]
     },
     "metadata": {},
     "output_type": "display_data"
    },
    {
     "data": {
      "application/javascript": [
       "\n",
       "        if (window._pyforest_update_imports_cell) { window._pyforest_update_imports_cell('import numpy as np\\nimport pandas as pd'); }\n",
       "    "
      ],
      "text/plain": [
       "<IPython.core.display.Javascript object>"
      ]
     },
     "metadata": {},
     "output_type": "display_data"
    },
    {
     "data": {
      "application/javascript": [
       "\n",
       "        if (window._pyforest_update_imports_cell) { window._pyforest_update_imports_cell('import numpy as np\\nimport pandas as pd'); }\n",
       "    "
      ],
      "text/plain": [
       "<IPython.core.display.Javascript object>"
      ]
     },
     "metadata": {},
     "output_type": "display_data"
    },
    {
     "data": {
      "application/javascript": [
       "\n",
       "        if (window._pyforest_update_imports_cell) { window._pyforest_update_imports_cell('import numpy as np\\nimport pandas as pd'); }\n",
       "    "
      ],
      "text/plain": [
       "<IPython.core.display.Javascript object>"
      ]
     },
     "metadata": {},
     "output_type": "display_data"
    },
    {
     "data": {
      "application/javascript": [
       "\n",
       "        if (window._pyforest_update_imports_cell) { window._pyforest_update_imports_cell('import numpy as np\\nimport pandas as pd'); }\n",
       "    "
      ],
      "text/plain": [
       "<IPython.core.display.Javascript object>"
      ]
     },
     "metadata": {},
     "output_type": "display_data"
    },
    {
     "data": {
      "application/javascript": [
       "\n",
       "        if (window._pyforest_update_imports_cell) { window._pyforest_update_imports_cell('import numpy as np\\nimport pandas as pd'); }\n",
       "    "
      ],
      "text/plain": [
       "<IPython.core.display.Javascript object>"
      ]
     },
     "metadata": {},
     "output_type": "display_data"
    },
    {
     "data": {
      "application/javascript": [
       "\n",
       "        if (window._pyforest_update_imports_cell) { window._pyforest_update_imports_cell('import numpy as np\\nimport pandas as pd'); }\n",
       "    "
      ],
      "text/plain": [
       "<IPython.core.display.Javascript object>"
      ]
     },
     "metadata": {},
     "output_type": "display_data"
    },
    {
     "data": {
      "application/javascript": [
       "\n",
       "        if (window._pyforest_update_imports_cell) { window._pyforest_update_imports_cell('import numpy as np\\nimport pandas as pd'); }\n",
       "    "
      ],
      "text/plain": [
       "<IPython.core.display.Javascript object>"
      ]
     },
     "metadata": {},
     "output_type": "display_data"
    },
    {
     "data": {
      "application/javascript": [
       "\n",
       "        if (window._pyforest_update_imports_cell) { window._pyforest_update_imports_cell('import numpy as np\\nimport pandas as pd'); }\n",
       "    "
      ],
      "text/plain": [
       "<IPython.core.display.Javascript object>"
      ]
     },
     "metadata": {},
     "output_type": "display_data"
    },
    {
     "data": {
      "application/javascript": [
       "\n",
       "        if (window._pyforest_update_imports_cell) { window._pyforest_update_imports_cell('import numpy as np\\nimport pandas as pd'); }\n",
       "    "
      ],
      "text/plain": [
       "<IPython.core.display.Javascript object>"
      ]
     },
     "metadata": {},
     "output_type": "display_data"
    },
    {
     "data": {
      "application/javascript": [
       "\n",
       "        if (window._pyforest_update_imports_cell) { window._pyforest_update_imports_cell('import numpy as np\\nimport pandas as pd'); }\n",
       "    "
      ],
      "text/plain": [
       "<IPython.core.display.Javascript object>"
      ]
     },
     "metadata": {},
     "output_type": "display_data"
    },
    {
     "data": {
      "application/javascript": [
       "\n",
       "        if (window._pyforest_update_imports_cell) { window._pyforest_update_imports_cell('import numpy as np\\nimport pandas as pd'); }\n",
       "    "
      ],
      "text/plain": [
       "<IPython.core.display.Javascript object>"
      ]
     },
     "metadata": {},
     "output_type": "display_data"
    },
    {
     "data": {
      "application/javascript": [
       "\n",
       "        if (window._pyforest_update_imports_cell) { window._pyforest_update_imports_cell('import numpy as np\\nimport pandas as pd'); }\n",
       "    "
      ],
      "text/plain": [
       "<IPython.core.display.Javascript object>"
      ]
     },
     "metadata": {},
     "output_type": "display_data"
    },
    {
     "data": {
      "application/javascript": [
       "\n",
       "        if (window._pyforest_update_imports_cell) { window._pyforest_update_imports_cell('import numpy as np\\nimport pandas as pd'); }\n",
       "    "
      ],
      "text/plain": [
       "<IPython.core.display.Javascript object>"
      ]
     },
     "metadata": {},
     "output_type": "display_data"
    },
    {
     "data": {
      "application/javascript": [
       "\n",
       "        if (window._pyforest_update_imports_cell) { window._pyforest_update_imports_cell('import numpy as np\\nimport pandas as pd'); }\n",
       "    "
      ],
      "text/plain": [
       "<IPython.core.display.Javascript object>"
      ]
     },
     "metadata": {},
     "output_type": "display_data"
    },
    {
     "data": {
      "application/javascript": [
       "\n",
       "        if (window._pyforest_update_imports_cell) { window._pyforest_update_imports_cell('import numpy as np\\nimport pandas as pd'); }\n",
       "    "
      ],
      "text/plain": [
       "<IPython.core.display.Javascript object>"
      ]
     },
     "metadata": {},
     "output_type": "display_data"
    },
    {
     "data": {
      "application/javascript": [
       "\n",
       "        if (window._pyforest_update_imports_cell) { window._pyforest_update_imports_cell('import numpy as np\\nimport pandas as pd'); }\n",
       "    "
      ],
      "text/plain": [
       "<IPython.core.display.Javascript object>"
      ]
     },
     "metadata": {},
     "output_type": "display_data"
    },
    {
     "data": {
      "application/javascript": [
       "\n",
       "        if (window._pyforest_update_imports_cell) { window._pyforest_update_imports_cell('import numpy as np\\nimport pandas as pd'); }\n",
       "    "
      ],
      "text/plain": [
       "<IPython.core.display.Javascript object>"
      ]
     },
     "metadata": {},
     "output_type": "display_data"
    },
    {
     "data": {
      "application/javascript": [
       "\n",
       "        if (window._pyforest_update_imports_cell) { window._pyforest_update_imports_cell('import numpy as np\\nimport pandas as pd'); }\n",
       "    "
      ],
      "text/plain": [
       "<IPython.core.display.Javascript object>"
      ]
     },
     "metadata": {},
     "output_type": "display_data"
    },
    {
     "data": {
      "application/javascript": [
       "\n",
       "        if (window._pyforest_update_imports_cell) { window._pyforest_update_imports_cell('import numpy as np\\nimport pandas as pd'); }\n",
       "    "
      ],
      "text/plain": [
       "<IPython.core.display.Javascript object>"
      ]
     },
     "metadata": {},
     "output_type": "display_data"
    },
    {
     "data": {
      "application/javascript": [
       "\n",
       "        if (window._pyforest_update_imports_cell) { window._pyforest_update_imports_cell('import numpy as np\\nimport pandas as pd'); }\n",
       "    "
      ],
      "text/plain": [
       "<IPython.core.display.Javascript object>"
      ]
     },
     "metadata": {},
     "output_type": "display_data"
    },
    {
     "data": {
      "application/javascript": [
       "\n",
       "        if (window._pyforest_update_imports_cell) { window._pyforest_update_imports_cell('import numpy as np\\nimport pandas as pd'); }\n",
       "    "
      ],
      "text/plain": [
       "<IPython.core.display.Javascript object>"
      ]
     },
     "metadata": {},
     "output_type": "display_data"
    },
    {
     "data": {
      "application/javascript": [
       "\n",
       "        if (window._pyforest_update_imports_cell) { window._pyforest_update_imports_cell('import numpy as np\\nimport pandas as pd'); }\n",
       "    "
      ],
      "text/plain": [
       "<IPython.core.display.Javascript object>"
      ]
     },
     "metadata": {},
     "output_type": "display_data"
    },
    {
     "data": {
      "application/javascript": [
       "\n",
       "        if (window._pyforest_update_imports_cell) { window._pyforest_update_imports_cell('import numpy as np\\nimport pandas as pd'); }\n",
       "    "
      ],
      "text/plain": [
       "<IPython.core.display.Javascript object>"
      ]
     },
     "metadata": {},
     "output_type": "display_data"
    },
    {
     "data": {
      "application/javascript": [
       "\n",
       "        if (window._pyforest_update_imports_cell) { window._pyforest_update_imports_cell('import numpy as np\\nimport pandas as pd'); }\n",
       "    "
      ],
      "text/plain": [
       "<IPython.core.display.Javascript object>"
      ]
     },
     "metadata": {},
     "output_type": "display_data"
    },
    {
     "data": {
      "application/javascript": [
       "\n",
       "        if (window._pyforest_update_imports_cell) { window._pyforest_update_imports_cell('import numpy as np\\nimport pandas as pd'); }\n",
       "    "
      ],
      "text/plain": [
       "<IPython.core.display.Javascript object>"
      ]
     },
     "metadata": {},
     "output_type": "display_data"
    },
    {
     "data": {
      "application/javascript": [
       "\n",
       "        if (window._pyforest_update_imports_cell) { window._pyforest_update_imports_cell('import numpy as np\\nimport pandas as pd'); }\n",
       "    "
      ],
      "text/plain": [
       "<IPython.core.display.Javascript object>"
      ]
     },
     "metadata": {},
     "output_type": "display_data"
    },
    {
     "data": {
      "application/javascript": [
       "\n",
       "        if (window._pyforest_update_imports_cell) { window._pyforest_update_imports_cell('import numpy as np\\nimport pandas as pd'); }\n",
       "    "
      ],
      "text/plain": [
       "<IPython.core.display.Javascript object>"
      ]
     },
     "metadata": {},
     "output_type": "display_data"
    },
    {
     "data": {
      "application/javascript": [
       "\n",
       "        if (window._pyforest_update_imports_cell) { window._pyforest_update_imports_cell('import numpy as np\\nimport pandas as pd'); }\n",
       "    "
      ],
      "text/plain": [
       "<IPython.core.display.Javascript object>"
      ]
     },
     "metadata": {},
     "output_type": "display_data"
    },
    {
     "data": {
      "application/javascript": [
       "\n",
       "        if (window._pyforest_update_imports_cell) { window._pyforest_update_imports_cell('import numpy as np\\nimport pandas as pd'); }\n",
       "    "
      ],
      "text/plain": [
       "<IPython.core.display.Javascript object>"
      ]
     },
     "metadata": {},
     "output_type": "display_data"
    },
    {
     "data": {
      "application/javascript": [
       "\n",
       "        if (window._pyforest_update_imports_cell) { window._pyforest_update_imports_cell('import numpy as np\\nimport pandas as pd'); }\n",
       "    "
      ],
      "text/plain": [
       "<IPython.core.display.Javascript object>"
      ]
     },
     "metadata": {},
     "output_type": "display_data"
    },
    {
     "data": {
      "application/javascript": [
       "\n",
       "        if (window._pyforest_update_imports_cell) { window._pyforest_update_imports_cell('import numpy as np\\nimport pandas as pd'); }\n",
       "    "
      ],
      "text/plain": [
       "<IPython.core.display.Javascript object>"
      ]
     },
     "metadata": {},
     "output_type": "display_data"
    },
    {
     "data": {
      "application/javascript": [
       "\n",
       "        if (window._pyforest_update_imports_cell) { window._pyforest_update_imports_cell('import numpy as np\\nimport pandas as pd'); }\n",
       "    "
      ],
      "text/plain": [
       "<IPython.core.display.Javascript object>"
      ]
     },
     "metadata": {},
     "output_type": "display_data"
    },
    {
     "data": {
      "application/javascript": [
       "\n",
       "        if (window._pyforest_update_imports_cell) { window._pyforest_update_imports_cell('import numpy as np\\nimport pandas as pd'); }\n",
       "    "
      ],
      "text/plain": [
       "<IPython.core.display.Javascript object>"
      ]
     },
     "metadata": {},
     "output_type": "display_data"
    },
    {
     "data": {
      "application/javascript": [
       "\n",
       "        if (window._pyforest_update_imports_cell) { window._pyforest_update_imports_cell('import numpy as np\\nimport pandas as pd'); }\n",
       "    "
      ],
      "text/plain": [
       "<IPython.core.display.Javascript object>"
      ]
     },
     "metadata": {},
     "output_type": "display_data"
    },
    {
     "data": {
      "application/javascript": [
       "\n",
       "        if (window._pyforest_update_imports_cell) { window._pyforest_update_imports_cell('import numpy as np\\nimport pandas as pd'); }\n",
       "    "
      ],
      "text/plain": [
       "<IPython.core.display.Javascript object>"
      ]
     },
     "metadata": {},
     "output_type": "display_data"
    },
    {
     "data": {
      "application/javascript": [
       "\n",
       "        if (window._pyforest_update_imports_cell) { window._pyforest_update_imports_cell('import numpy as np\\nimport pandas as pd'); }\n",
       "    "
      ],
      "text/plain": [
       "<IPython.core.display.Javascript object>"
      ]
     },
     "metadata": {},
     "output_type": "display_data"
    },
    {
     "data": {
      "application/javascript": [
       "\n",
       "        if (window._pyforest_update_imports_cell) { window._pyforest_update_imports_cell('import numpy as np\\nimport pandas as pd'); }\n",
       "    "
      ],
      "text/plain": [
       "<IPython.core.display.Javascript object>"
      ]
     },
     "metadata": {},
     "output_type": "display_data"
    },
    {
     "data": {
      "application/javascript": [
       "\n",
       "        if (window._pyforest_update_imports_cell) { window._pyforest_update_imports_cell('import numpy as np\\nimport pandas as pd'); }\n",
       "    "
      ],
      "text/plain": [
       "<IPython.core.display.Javascript object>"
      ]
     },
     "metadata": {},
     "output_type": "display_data"
    },
    {
     "data": {
      "application/javascript": [
       "\n",
       "        if (window._pyforest_update_imports_cell) { window._pyforest_update_imports_cell('import numpy as np\\nimport pandas as pd'); }\n",
       "    "
      ],
      "text/plain": [
       "<IPython.core.display.Javascript object>"
      ]
     },
     "metadata": {},
     "output_type": "display_data"
    },
    {
     "data": {
      "application/javascript": [
       "\n",
       "        if (window._pyforest_update_imports_cell) { window._pyforest_update_imports_cell('import numpy as np\\nimport pandas as pd'); }\n",
       "    "
      ],
      "text/plain": [
       "<IPython.core.display.Javascript object>"
      ]
     },
     "metadata": {},
     "output_type": "display_data"
    },
    {
     "data": {
      "application/javascript": [
       "\n",
       "        if (window._pyforest_update_imports_cell) { window._pyforest_update_imports_cell('import numpy as np\\nimport pandas as pd'); }\n",
       "    "
      ],
      "text/plain": [
       "<IPython.core.display.Javascript object>"
      ]
     },
     "metadata": {},
     "output_type": "display_data"
    },
    {
     "data": {
      "application/javascript": [
       "\n",
       "        if (window._pyforest_update_imports_cell) { window._pyforest_update_imports_cell('import numpy as np\\nimport pandas as pd'); }\n",
       "    "
      ],
      "text/plain": [
       "<IPython.core.display.Javascript object>"
      ]
     },
     "metadata": {},
     "output_type": "display_data"
    },
    {
     "data": {
      "application/javascript": [
       "\n",
       "        if (window._pyforest_update_imports_cell) { window._pyforest_update_imports_cell('import numpy as np\\nimport pandas as pd'); }\n",
       "    "
      ],
      "text/plain": [
       "<IPython.core.display.Javascript object>"
      ]
     },
     "metadata": {},
     "output_type": "display_data"
    },
    {
     "data": {
      "application/javascript": [
       "\n",
       "        if (window._pyforest_update_imports_cell) { window._pyforest_update_imports_cell('import numpy as np\\nimport pandas as pd'); }\n",
       "    "
      ],
      "text/plain": [
       "<IPython.core.display.Javascript object>"
      ]
     },
     "metadata": {},
     "output_type": "display_data"
    },
    {
     "data": {
      "application/javascript": [
       "\n",
       "        if (window._pyforest_update_imports_cell) { window._pyforest_update_imports_cell('import numpy as np\\nimport pandas as pd'); }\n",
       "    "
      ],
      "text/plain": [
       "<IPython.core.display.Javascript object>"
      ]
     },
     "metadata": {},
     "output_type": "display_data"
    },
    {
     "data": {
      "application/javascript": [
       "\n",
       "        if (window._pyforest_update_imports_cell) { window._pyforest_update_imports_cell('import numpy as np\\nimport pandas as pd'); }\n",
       "    "
      ],
      "text/plain": [
       "<IPython.core.display.Javascript object>"
      ]
     },
     "metadata": {},
     "output_type": "display_data"
    },
    {
     "data": {
      "application/javascript": [
       "\n",
       "        if (window._pyforest_update_imports_cell) { window._pyforest_update_imports_cell('import numpy as np\\nimport pandas as pd'); }\n",
       "    "
      ],
      "text/plain": [
       "<IPython.core.display.Javascript object>"
      ]
     },
     "metadata": {},
     "output_type": "display_data"
    },
    {
     "data": {
      "application/javascript": [
       "\n",
       "        if (window._pyforest_update_imports_cell) { window._pyforest_update_imports_cell('import numpy as np\\nimport pandas as pd'); }\n",
       "    "
      ],
      "text/plain": [
       "<IPython.core.display.Javascript object>"
      ]
     },
     "metadata": {},
     "output_type": "display_data"
    },
    {
     "data": {
      "application/javascript": [
       "\n",
       "        if (window._pyforest_update_imports_cell) { window._pyforest_update_imports_cell('import numpy as np\\nimport pandas as pd'); }\n",
       "    "
      ],
      "text/plain": [
       "<IPython.core.display.Javascript object>"
      ]
     },
     "metadata": {},
     "output_type": "display_data"
    },
    {
     "data": {
      "application/javascript": [
       "\n",
       "        if (window._pyforest_update_imports_cell) { window._pyforest_update_imports_cell('import numpy as np\\nimport pandas as pd'); }\n",
       "    "
      ],
      "text/plain": [
       "<IPython.core.display.Javascript object>"
      ]
     },
     "metadata": {},
     "output_type": "display_data"
    },
    {
     "data": {
      "application/javascript": [
       "\n",
       "        if (window._pyforest_update_imports_cell) { window._pyforest_update_imports_cell('import numpy as np\\nimport pandas as pd'); }\n",
       "    "
      ],
      "text/plain": [
       "<IPython.core.display.Javascript object>"
      ]
     },
     "metadata": {},
     "output_type": "display_data"
    },
    {
     "data": {
      "application/javascript": [
       "\n",
       "        if (window._pyforest_update_imports_cell) { window._pyforest_update_imports_cell('import numpy as np\\nimport pandas as pd'); }\n",
       "    "
      ],
      "text/plain": [
       "<IPython.core.display.Javascript object>"
      ]
     },
     "metadata": {},
     "output_type": "display_data"
    },
    {
     "data": {
      "application/javascript": [
       "\n",
       "        if (window._pyforest_update_imports_cell) { window._pyforest_update_imports_cell('import numpy as np\\nimport pandas as pd'); }\n",
       "    "
      ],
      "text/plain": [
       "<IPython.core.display.Javascript object>"
      ]
     },
     "metadata": {},
     "output_type": "display_data"
    },
    {
     "data": {
      "application/javascript": [
       "\n",
       "        if (window._pyforest_update_imports_cell) { window._pyforest_update_imports_cell('import numpy as np\\nimport pandas as pd'); }\n",
       "    "
      ],
      "text/plain": [
       "<IPython.core.display.Javascript object>"
      ]
     },
     "metadata": {},
     "output_type": "display_data"
    },
    {
     "data": {
      "application/javascript": [
       "\n",
       "        if (window._pyforest_update_imports_cell) { window._pyforest_update_imports_cell('import numpy as np\\nimport pandas as pd'); }\n",
       "    "
      ],
      "text/plain": [
       "<IPython.core.display.Javascript object>"
      ]
     },
     "metadata": {},
     "output_type": "display_data"
    },
    {
     "data": {
      "application/javascript": [
       "\n",
       "        if (window._pyforest_update_imports_cell) { window._pyforest_update_imports_cell('import numpy as np\\nimport pandas as pd'); }\n",
       "    "
      ],
      "text/plain": [
       "<IPython.core.display.Javascript object>"
      ]
     },
     "metadata": {},
     "output_type": "display_data"
    },
    {
     "data": {
      "application/javascript": [
       "\n",
       "        if (window._pyforest_update_imports_cell) { window._pyforest_update_imports_cell('import numpy as np\\nimport pandas as pd'); }\n",
       "    "
      ],
      "text/plain": [
       "<IPython.core.display.Javascript object>"
      ]
     },
     "metadata": {},
     "output_type": "display_data"
    },
    {
     "data": {
      "application/javascript": [
       "\n",
       "        if (window._pyforest_update_imports_cell) { window._pyforest_update_imports_cell('import numpy as np\\nimport pandas as pd'); }\n",
       "    "
      ],
      "text/plain": [
       "<IPython.core.display.Javascript object>"
      ]
     },
     "metadata": {},
     "output_type": "display_data"
    },
    {
     "data": {
      "application/javascript": [
       "\n",
       "        if (window._pyforest_update_imports_cell) { window._pyforest_update_imports_cell('import numpy as np\\nimport pandas as pd'); }\n",
       "    "
      ],
      "text/plain": [
       "<IPython.core.display.Javascript object>"
      ]
     },
     "metadata": {},
     "output_type": "display_data"
    },
    {
     "data": {
      "application/javascript": [
       "\n",
       "        if (window._pyforest_update_imports_cell) { window._pyforest_update_imports_cell('import numpy as np\\nimport pandas as pd'); }\n",
       "    "
      ],
      "text/plain": [
       "<IPython.core.display.Javascript object>"
      ]
     },
     "metadata": {},
     "output_type": "display_data"
    },
    {
     "data": {
      "application/javascript": [
       "\n",
       "        if (window._pyforest_update_imports_cell) { window._pyforest_update_imports_cell('import numpy as np\\nimport pandas as pd'); }\n",
       "    "
      ],
      "text/plain": [
       "<IPython.core.display.Javascript object>"
      ]
     },
     "metadata": {},
     "output_type": "display_data"
    },
    {
     "data": {
      "application/javascript": [
       "\n",
       "        if (window._pyforest_update_imports_cell) { window._pyforest_update_imports_cell('import numpy as np\\nimport pandas as pd'); }\n",
       "    "
      ],
      "text/plain": [
       "<IPython.core.display.Javascript object>"
      ]
     },
     "metadata": {},
     "output_type": "display_data"
    },
    {
     "data": {
      "application/javascript": [
       "\n",
       "        if (window._pyforest_update_imports_cell) { window._pyforest_update_imports_cell('import numpy as np\\nimport pandas as pd'); }\n",
       "    "
      ],
      "text/plain": [
       "<IPython.core.display.Javascript object>"
      ]
     },
     "metadata": {},
     "output_type": "display_data"
    },
    {
     "data": {
      "application/javascript": [
       "\n",
       "        if (window._pyforest_update_imports_cell) { window._pyforest_update_imports_cell('import numpy as np\\nimport pandas as pd'); }\n",
       "    "
      ],
      "text/plain": [
       "<IPython.core.display.Javascript object>"
      ]
     },
     "metadata": {},
     "output_type": "display_data"
    },
    {
     "data": {
      "application/javascript": [
       "\n",
       "        if (window._pyforest_update_imports_cell) { window._pyforest_update_imports_cell('import numpy as np\\nimport pandas as pd'); }\n",
       "    "
      ],
      "text/plain": [
       "<IPython.core.display.Javascript object>"
      ]
     },
     "metadata": {},
     "output_type": "display_data"
    },
    {
     "data": {
      "application/javascript": [
       "\n",
       "        if (window._pyforest_update_imports_cell) { window._pyforest_update_imports_cell('import numpy as np\\nimport pandas as pd'); }\n",
       "    "
      ],
      "text/plain": [
       "<IPython.core.display.Javascript object>"
      ]
     },
     "metadata": {},
     "output_type": "display_data"
    },
    {
     "data": {
      "application/javascript": [
       "\n",
       "        if (window._pyforest_update_imports_cell) { window._pyforest_update_imports_cell('import numpy as np\\nimport pandas as pd'); }\n",
       "    "
      ],
      "text/plain": [
       "<IPython.core.display.Javascript object>"
      ]
     },
     "metadata": {},
     "output_type": "display_data"
    },
    {
     "data": {
      "application/javascript": [
       "\n",
       "        if (window._pyforest_update_imports_cell) { window._pyforest_update_imports_cell('import numpy as np\\nimport pandas as pd'); }\n",
       "    "
      ],
      "text/plain": [
       "<IPython.core.display.Javascript object>"
      ]
     },
     "metadata": {},
     "output_type": "display_data"
    },
    {
     "data": {
      "application/javascript": [
       "\n",
       "        if (window._pyforest_update_imports_cell) { window._pyforest_update_imports_cell('import numpy as np\\nimport pandas as pd'); }\n",
       "    "
      ],
      "text/plain": [
       "<IPython.core.display.Javascript object>"
      ]
     },
     "metadata": {},
     "output_type": "display_data"
    },
    {
     "data": {
      "application/javascript": [
       "\n",
       "        if (window._pyforest_update_imports_cell) { window._pyforest_update_imports_cell('import numpy as np\\nimport pandas as pd'); }\n",
       "    "
      ],
      "text/plain": [
       "<IPython.core.display.Javascript object>"
      ]
     },
     "metadata": {},
     "output_type": "display_data"
    },
    {
     "data": {
      "application/javascript": [
       "\n",
       "        if (window._pyforest_update_imports_cell) { window._pyforest_update_imports_cell('import numpy as np\\nimport pandas as pd'); }\n",
       "    "
      ],
      "text/plain": [
       "<IPython.core.display.Javascript object>"
      ]
     },
     "metadata": {},
     "output_type": "display_data"
    },
    {
     "data": {
      "application/javascript": [
       "\n",
       "        if (window._pyforest_update_imports_cell) { window._pyforest_update_imports_cell('import numpy as np\\nimport pandas as pd'); }\n",
       "    "
      ],
      "text/plain": [
       "<IPython.core.display.Javascript object>"
      ]
     },
     "metadata": {},
     "output_type": "display_data"
    },
    {
     "data": {
      "application/javascript": [
       "\n",
       "        if (window._pyforest_update_imports_cell) { window._pyforest_update_imports_cell('import numpy as np\\nimport pandas as pd'); }\n",
       "    "
      ],
      "text/plain": [
       "<IPython.core.display.Javascript object>"
      ]
     },
     "metadata": {},
     "output_type": "display_data"
    },
    {
     "data": {
      "application/javascript": [
       "\n",
       "        if (window._pyforest_update_imports_cell) { window._pyforest_update_imports_cell('import numpy as np\\nimport pandas as pd'); }\n",
       "    "
      ],
      "text/plain": [
       "<IPython.core.display.Javascript object>"
      ]
     },
     "metadata": {},
     "output_type": "display_data"
    },
    {
     "data": {
      "application/javascript": [
       "\n",
       "        if (window._pyforest_update_imports_cell) { window._pyforest_update_imports_cell('import numpy as np\\nimport pandas as pd'); }\n",
       "    "
      ],
      "text/plain": [
       "<IPython.core.display.Javascript object>"
      ]
     },
     "metadata": {},
     "output_type": "display_data"
    },
    {
     "data": {
      "application/javascript": [
       "\n",
       "        if (window._pyforest_update_imports_cell) { window._pyforest_update_imports_cell('import numpy as np\\nimport pandas as pd'); }\n",
       "    "
      ],
      "text/plain": [
       "<IPython.core.display.Javascript object>"
      ]
     },
     "metadata": {},
     "output_type": "display_data"
    },
    {
     "data": {
      "application/javascript": [
       "\n",
       "        if (window._pyforest_update_imports_cell) { window._pyforest_update_imports_cell('import numpy as np\\nimport pandas as pd'); }\n",
       "    "
      ],
      "text/plain": [
       "<IPython.core.display.Javascript object>"
      ]
     },
     "metadata": {},
     "output_type": "display_data"
    },
    {
     "data": {
      "application/javascript": [
       "\n",
       "        if (window._pyforest_update_imports_cell) { window._pyforest_update_imports_cell('import numpy as np\\nimport pandas as pd'); }\n",
       "    "
      ],
      "text/plain": [
       "<IPython.core.display.Javascript object>"
      ]
     },
     "metadata": {},
     "output_type": "display_data"
    },
    {
     "data": {
      "application/javascript": [
       "\n",
       "        if (window._pyforest_update_imports_cell) { window._pyforest_update_imports_cell('import numpy as np\\nimport pandas as pd'); }\n",
       "    "
      ],
      "text/plain": [
       "<IPython.core.display.Javascript object>"
      ]
     },
     "metadata": {},
     "output_type": "display_data"
    },
    {
     "data": {
      "application/javascript": [
       "\n",
       "        if (window._pyforest_update_imports_cell) { window._pyforest_update_imports_cell('import numpy as np\\nimport pandas as pd'); }\n",
       "    "
      ],
      "text/plain": [
       "<IPython.core.display.Javascript object>"
      ]
     },
     "metadata": {},
     "output_type": "display_data"
    },
    {
     "data": {
      "application/javascript": [
       "\n",
       "        if (window._pyforest_update_imports_cell) { window._pyforest_update_imports_cell('import numpy as np\\nimport pandas as pd'); }\n",
       "    "
      ],
      "text/plain": [
       "<IPython.core.display.Javascript object>"
      ]
     },
     "metadata": {},
     "output_type": "display_data"
    },
    {
     "data": {
      "application/javascript": [
       "\n",
       "        if (window._pyforest_update_imports_cell) { window._pyforest_update_imports_cell('import numpy as np\\nimport pandas as pd'); }\n",
       "    "
      ],
      "text/plain": [
       "<IPython.core.display.Javascript object>"
      ]
     },
     "metadata": {},
     "output_type": "display_data"
    },
    {
     "data": {
      "application/javascript": [
       "\n",
       "        if (window._pyforest_update_imports_cell) { window._pyforest_update_imports_cell('import numpy as np\\nimport pandas as pd'); }\n",
       "    "
      ],
      "text/plain": [
       "<IPython.core.display.Javascript object>"
      ]
     },
     "metadata": {},
     "output_type": "display_data"
    },
    {
     "name": "stdout",
     "output_type": "stream",
     "text": [
      "CPU times: user 17 s, sys: 371 ms, total: 17.3 s\n",
      "Wall time: 17.1 s\n"
     ]
    }
   ],
   "source": [
    "%%time\n",
    "all_teams=pd.DataFrame()\n",
    "for team in teams:\n",
    "    #team = 'Tottenham'\n",
    "    q = 'Ateam == @team or Hteam == @team'\n",
    "    temp = bet.query(q).fillna(0)\n",
    "\n",
    "    # goal score by the team\n",
    "    temp[team]=np.nan\n",
    "\n",
    "    #bet.query(q).fillna(0).head(10)\n",
    "    for idx, r in temp.iterrows():\n",
    "        if r.Hteam == team:\n",
    "            temp.loc[idx,team]=r.FTHG\n",
    "        else:\n",
    "            temp.loc[idx,team]=r.FTAG\n",
    "\n",
    "\n",
    "    temp['L3GG'] = temp[team].rolling(3).sum().shift()\n",
    "\n",
    "    # goal against the team\n",
    "    temp[team]=np.nan\n",
    "    #bet.query(q).fillna(0).head(10)\n",
    "    for idx, r in temp.iterrows():\n",
    "        if r.Hteam == team:\n",
    "            temp.loc[idx,team]=r.FTAG\n",
    "        else:\n",
    "            temp.loc[idx,team]=r.FTHG\n",
    "    temp['L3GX'] = temp[team].rolling(3).sum().shift()\n",
    "\n",
    "    # add a colum with the points per game\n",
    "    temp['Points']=np.nan\n",
    "    for idx, r in temp.iterrows():\n",
    "        if r.Hteam == team and r.Target == 1:\n",
    "            temp.loc[idx,'Points']=3\n",
    "        elif r.Hteam == team and r.Target == 3:\n",
    "            temp.loc[idx,'Points']=0\n",
    "        elif r.Target == 2:\n",
    "            temp.loc[idx,'Points']=1\n",
    "        elif r.Ateam == team and r.Target == 3:\n",
    "            temp.loc[idx,'Points']=3\n",
    "        else:\n",
    "            temp.loc[idx,'Points']=0\n",
    "\n",
    "    temp['L3PT'] = temp.Points.rolling(3).sum().shift()\n",
    "    temp=temp.fillna(((temp.mean())))\n",
    "    temp=temp[['Date','L3GG','L3GX','L3PT']]\n",
    "    temp['Team']=team\n",
    "    all_teams = pd.concat([all_teams,temp])\n",
    "    #temp"
   ]
  },
  {
   "cell_type": "code",
   "execution_count": 18,
   "metadata": {},
   "outputs": [
    {
     "data": {
      "text/plain": [
       "(7600, 5)"
      ]
     },
     "execution_count": 18,
     "metadata": {},
     "output_type": "execute_result"
    }
   ],
   "source": [
    "all_teams.shape\n"
   ]
  },
  {
   "cell_type": "code",
   "execution_count": 19,
   "metadata": {},
   "outputs": [
    {
     "data": {
      "text/html": [
       "<div>\n",
       "<style scoped>\n",
       "    .dataframe tbody tr th:only-of-type {\n",
       "        vertical-align: middle;\n",
       "    }\n",
       "\n",
       "    .dataframe tbody tr th {\n",
       "        vertical-align: top;\n",
       "    }\n",
       "\n",
       "    .dataframe thead th {\n",
       "        text-align: right;\n",
       "    }\n",
       "</style>\n",
       "<table border=\"1\" class=\"dataframe\">\n",
       "  <thead>\n",
       "    <tr style=\"text-align: right;\">\n",
       "      <th></th>\n",
       "      <th>Date</th>\n",
       "      <th>L3GG</th>\n",
       "      <th>L3GX</th>\n",
       "      <th>L3PT</th>\n",
       "      <th>Team</th>\n",
       "    </tr>\n",
       "  </thead>\n",
       "  <tbody>\n",
       "    <tr>\n",
       "      <th>2430</th>\n",
       "      <td>2015-12-12</td>\n",
       "      <td>6.0</td>\n",
       "      <td>8.0</td>\n",
       "      <td>2.0</td>\n",
       "      <td>Bournemouth</td>\n",
       "    </tr>\n",
       "    <tr>\n",
       "      <th>1906</th>\n",
       "      <td>2014-08-11</td>\n",
       "      <td>3.0</td>\n",
       "      <td>2.0</td>\n",
       "      <td>4.0</td>\n",
       "      <td>Crystal Palace</td>\n",
       "    </tr>\n",
       "    <tr>\n",
       "      <th>1771</th>\n",
       "      <td>2014-02-12</td>\n",
       "      <td>4.0</td>\n",
       "      <td>4.0</td>\n",
       "      <td>4.0</td>\n",
       "      <td>Swansea</td>\n",
       "    </tr>\n",
       "    <tr>\n",
       "      <th>1908</th>\n",
       "      <td>2014-08-11</td>\n",
       "      <td>3.0</td>\n",
       "      <td>3.0</td>\n",
       "      <td>4.0</td>\n",
       "      <td>Southampton</td>\n",
       "    </tr>\n",
       "    <tr>\n",
       "      <th>498</th>\n",
       "      <td>2010-10-31</td>\n",
       "      <td>3.0</td>\n",
       "      <td>4.0</td>\n",
       "      <td>4.0</td>\n",
       "      <td>Liverpool</td>\n",
       "    </tr>\n",
       "    <tr>\n",
       "      <th>1173</th>\n",
       "      <td>2012-08-26</td>\n",
       "      <td>6.0</td>\n",
       "      <td>3.0</td>\n",
       "      <td>6.0</td>\n",
       "      <td>Man City</td>\n",
       "    </tr>\n",
       "  </tbody>\n",
       "</table>\n",
       "</div>"
      ],
      "text/plain": [
       "           Date  L3GG  L3GX  L3PT            Team\n",
       "2430 2015-12-12   6.0   8.0   2.0     Bournemouth\n",
       "1906 2014-08-11   3.0   2.0   4.0  Crystal Palace\n",
       "1771 2014-02-12   4.0   4.0   4.0         Swansea\n",
       "1908 2014-08-11   3.0   3.0   4.0     Southampton\n",
       "498  2010-10-31   3.0   4.0   4.0       Liverpool\n",
       "1173 2012-08-26   6.0   3.0   6.0        Man City"
      ]
     },
     "execution_count": 19,
     "metadata": {},
     "output_type": "execute_result"
    }
   ],
   "source": [
    "all_teams.sample(6)"
   ]
  },
  {
   "cell_type": "code",
   "execution_count": 20,
   "metadata": {},
   "outputs": [
    {
     "data": {
      "text/plain": [
       "(3800, 9)"
      ]
     },
     "execution_count": 20,
     "metadata": {},
     "output_type": "execute_result"
    }
   ],
   "source": [
    "bet.shape"
   ]
  },
  {
   "cell_type": "code",
   "execution_count": 21,
   "metadata": {},
   "outputs": [],
   "source": [
    "bet.to_csv('bet.csv', index=False)"
   ]
  },
  {
   "cell_type": "code",
   "execution_count": 27,
   "metadata": {},
   "outputs": [
    {
     "data": {
      "text/html": [
       "<div>\n",
       "<style scoped>\n",
       "    .dataframe tbody tr th:only-of-type {\n",
       "        vertical-align: middle;\n",
       "    }\n",
       "\n",
       "    .dataframe tbody tr th {\n",
       "        vertical-align: top;\n",
       "    }\n",
       "\n",
       "    .dataframe thead th {\n",
       "        text-align: right;\n",
       "    }\n",
       "</style>\n",
       "<table border=\"1\" class=\"dataframe\">\n",
       "  <thead>\n",
       "    <tr style=\"text-align: right;\">\n",
       "      <th></th>\n",
       "      <th>Date</th>\n",
       "      <th>Hteam</th>\n",
       "      <th>Ateam</th>\n",
       "      <th>FTHG</th>\n",
       "      <th>FTAG</th>\n",
       "      <th>Odd-1</th>\n",
       "      <th>Odd-N</th>\n",
       "      <th>Odd-2</th>\n",
       "      <th>Target</th>\n",
       "      <th>Date_H_x</th>\n",
       "      <th>...</th>\n",
       "      <th>Date_H_y</th>\n",
       "      <th>H_L3GG_y</th>\n",
       "      <th>H_L3GX_y</th>\n",
       "      <th>H_L3PT_y</th>\n",
       "      <th>Team_H_y</th>\n",
       "      <th>Date_A_y</th>\n",
       "      <th>A_L3GG_y</th>\n",
       "      <th>A_L3GX_y</th>\n",
       "      <th>A_L3PT_y</th>\n",
       "      <th>Team_A_y</th>\n",
       "    </tr>\n",
       "  </thead>\n",
       "  <tbody>\n",
       "    <tr>\n",
       "      <th>0</th>\n",
       "      <td>2009-08-15</td>\n",
       "      <td>Aston Villa</td>\n",
       "      <td>Wigan</td>\n",
       "      <td>0.0</td>\n",
       "      <td>2.0</td>\n",
       "      <td>1.673333</td>\n",
       "      <td>3.490000</td>\n",
       "      <td>5.252500</td>\n",
       "      <td>3</td>\n",
       "      <td>2009-08-15</td>\n",
       "      <td>...</td>\n",
       "      <td>2009-08-15</td>\n",
       "      <td>3.174905</td>\n",
       "      <td>4.688213</td>\n",
       "      <td>3.190114</td>\n",
       "      <td>Aston Villa</td>\n",
       "      <td>2009-08-15</td>\n",
       "      <td>3.268456</td>\n",
       "      <td>5.436242</td>\n",
       "      <td>3.100671</td>\n",
       "      <td>Wigan</td>\n",
       "    </tr>\n",
       "    <tr>\n",
       "      <th>1</th>\n",
       "      <td>2009-08-15</td>\n",
       "      <td>Blackburn</td>\n",
       "      <td>Man City</td>\n",
       "      <td>0.0</td>\n",
       "      <td>2.0</td>\n",
       "      <td>3.354167</td>\n",
       "      <td>3.228333</td>\n",
       "      <td>2.143333</td>\n",
       "      <td>3</td>\n",
       "      <td>2009-08-15</td>\n",
       "      <td>...</td>\n",
       "      <td>2009-08-15</td>\n",
       "      <td>3.504505</td>\n",
       "      <td>5.027027</td>\n",
       "      <td>3.243243</td>\n",
       "      <td>Blackburn</td>\n",
       "      <td>2009-08-15</td>\n",
       "      <td>6.511936</td>\n",
       "      <td>2.742706</td>\n",
       "      <td>6.389920</td>\n",
       "      <td>Man City</td>\n",
       "    </tr>\n",
       "    <tr>\n",
       "      <th>2</th>\n",
       "      <td>2009-08-15</td>\n",
       "      <td>Bolton</td>\n",
       "      <td>Sunderland</td>\n",
       "      <td>0.0</td>\n",
       "      <td>1.0</td>\n",
       "      <td>2.238333</td>\n",
       "      <td>3.217500</td>\n",
       "      <td>3.154167</td>\n",
       "      <td>3</td>\n",
       "      <td>2009-08-15</td>\n",
       "      <td>...</td>\n",
       "      <td>2009-08-15</td>\n",
       "      <td>3.720721</td>\n",
       "      <td>5.288288</td>\n",
       "      <td>3.216216</td>\n",
       "      <td>Bolton</td>\n",
       "      <td>2009-08-15</td>\n",
       "      <td>3.252492</td>\n",
       "      <td>4.475083</td>\n",
       "      <td>3.099668</td>\n",
       "      <td>Sunderland</td>\n",
       "    </tr>\n",
       "    <tr>\n",
       "      <th>3</th>\n",
       "      <td>2009-08-15</td>\n",
       "      <td>Chelsea</td>\n",
       "      <td>Hull</td>\n",
       "      <td>2.0</td>\n",
       "      <td>1.0</td>\n",
       "      <td>1.180833</td>\n",
       "      <td>6.143333</td>\n",
       "      <td>16.960833</td>\n",
       "      <td>1</td>\n",
       "      <td>2009-08-15</td>\n",
       "      <td>...</td>\n",
       "      <td>2009-08-15</td>\n",
       "      <td>5.737401</td>\n",
       "      <td>2.944297</td>\n",
       "      <td>5.917772</td>\n",
       "      <td>Chelsea</td>\n",
       "      <td>2009-08-15</td>\n",
       "      <td>2.791946</td>\n",
       "      <td>5.087248</td>\n",
       "      <td>2.677852</td>\n",
       "      <td>Hull</td>\n",
       "    </tr>\n",
       "    <tr>\n",
       "      <th>4</th>\n",
       "      <td>2009-08-15</td>\n",
       "      <td>Everton</td>\n",
       "      <td>Arsenal</td>\n",
       "      <td>1.0</td>\n",
       "      <td>6.0</td>\n",
       "      <td>3.095000</td>\n",
       "      <td>3.204167</td>\n",
       "      <td>2.279167</td>\n",
       "      <td>3</td>\n",
       "      <td>2009-08-15</td>\n",
       "      <td>...</td>\n",
       "      <td>2009-08-15</td>\n",
       "      <td>4.297082</td>\n",
       "      <td>3.639257</td>\n",
       "      <td>4.480106</td>\n",
       "      <td>Everton</td>\n",
       "      <td>2009-08-15</td>\n",
       "      <td>5.729443</td>\n",
       "      <td>3.392573</td>\n",
       "      <td>5.665782</td>\n",
       "      <td>Arsenal</td>\n",
       "    </tr>\n",
       "    <tr>\n",
       "      <th>5</th>\n",
       "      <td>2009-08-15</td>\n",
       "      <td>Portsmouth</td>\n",
       "      <td>Fulham</td>\n",
       "      <td>0.0</td>\n",
       "      <td>1.0</td>\n",
       "      <td>2.554167</td>\n",
       "      <td>3.202500</td>\n",
       "      <td>2.708333</td>\n",
       "      <td>3</td>\n",
       "      <td>2009-08-15</td>\n",
       "      <td>...</td>\n",
       "      <td>2009-08-15</td>\n",
       "      <td>2.685714</td>\n",
       "      <td>5.371429</td>\n",
       "      <td>2.200000</td>\n",
       "      <td>Portsmouth</td>\n",
       "      <td>2009-08-15</td>\n",
       "      <td>3.444444</td>\n",
       "      <td>4.786667</td>\n",
       "      <td>3.280000</td>\n",
       "      <td>Fulham</td>\n",
       "    </tr>\n",
       "    <tr>\n",
       "      <th>6</th>\n",
       "      <td>2009-08-15</td>\n",
       "      <td>Stoke</td>\n",
       "      <td>Burnley</td>\n",
       "      <td>2.0</td>\n",
       "      <td>0.0</td>\n",
       "      <td>1.916667</td>\n",
       "      <td>3.275833</td>\n",
       "      <td>4.015833</td>\n",
       "      <td>1</td>\n",
       "      <td>2009-08-15</td>\n",
       "      <td>...</td>\n",
       "      <td>2009-08-15</td>\n",
       "      <td>3.165192</td>\n",
       "      <td>4.117994</td>\n",
       "      <td>3.622419</td>\n",
       "      <td>Stoke</td>\n",
       "      <td>2009-08-15</td>\n",
       "      <td>2.994652</td>\n",
       "      <td>4.663102</td>\n",
       "      <td>3.112299</td>\n",
       "      <td>Burnley</td>\n",
       "    </tr>\n",
       "    <tr>\n",
       "      <th>7</th>\n",
       "      <td>2009-08-15</td>\n",
       "      <td>Wolves</td>\n",
       "      <td>West Ham</td>\n",
       "      <td>0.0</td>\n",
       "      <td>2.0</td>\n",
       "      <td>2.556667</td>\n",
       "      <td>3.228333</td>\n",
       "      <td>2.672500</td>\n",
       "      <td>3</td>\n",
       "      <td>2009-08-15</td>\n",
       "      <td>...</td>\n",
       "      <td>2009-08-15</td>\n",
       "      <td>3.295302</td>\n",
       "      <td>4.946309</td>\n",
       "      <td>3.181208</td>\n",
       "      <td>Wolves</td>\n",
       "      <td>2009-08-15</td>\n",
       "      <td>3.758112</td>\n",
       "      <td>4.625369</td>\n",
       "      <td>3.495575</td>\n",
       "      <td>West Ham</td>\n",
       "    </tr>\n",
       "    <tr>\n",
       "      <th>8</th>\n",
       "      <td>2009-08-16</td>\n",
       "      <td>Man United</td>\n",
       "      <td>Birmingham</td>\n",
       "      <td>1.0</td>\n",
       "      <td>0.0</td>\n",
       "      <td>1.195000</td>\n",
       "      <td>5.810833</td>\n",
       "      <td>15.749167</td>\n",
       "      <td>1</td>\n",
       "      <td>2009-08-16</td>\n",
       "      <td>...</td>\n",
       "      <td>2009-08-16</td>\n",
       "      <td>5.564987</td>\n",
       "      <td>2.891247</td>\n",
       "      <td>6.015915</td>\n",
       "      <td>Man United</td>\n",
       "      <td>2009-08-16</td>\n",
       "      <td>2.986301</td>\n",
       "      <td>4.246575</td>\n",
       "      <td>3.452055</td>\n",
       "      <td>Birmingham</td>\n",
       "    </tr>\n",
       "    <tr>\n",
       "      <th>9</th>\n",
       "      <td>2009-08-16</td>\n",
       "      <td>Tottenham</td>\n",
       "      <td>Liverpool</td>\n",
       "      <td>2.0</td>\n",
       "      <td>1.0</td>\n",
       "      <td>3.124167</td>\n",
       "      <td>3.218333</td>\n",
       "      <td>2.235000</td>\n",
       "      <td>1</td>\n",
       "      <td>2009-08-16</td>\n",
       "      <td>...</td>\n",
       "      <td>2009-08-16</td>\n",
       "      <td>5.217507</td>\n",
       "      <td>3.259947</td>\n",
       "      <td>5.602122</td>\n",
       "      <td>Tottenham</td>\n",
       "      <td>2009-08-16</td>\n",
       "      <td>5.562334</td>\n",
       "      <td>3.262599</td>\n",
       "      <td>5.419098</td>\n",
       "      <td>Liverpool</td>\n",
       "    </tr>\n",
       "    <tr>\n",
       "      <th>10</th>\n",
       "      <td>2009-08-18</td>\n",
       "      <td>Sunderland</td>\n",
       "      <td>Chelsea</td>\n",
       "      <td>1.0</td>\n",
       "      <td>3.0</td>\n",
       "      <td>6.835833</td>\n",
       "      <td>3.774167</td>\n",
       "      <td>1.521667</td>\n",
       "      <td>3</td>\n",
       "      <td>2009-08-18</td>\n",
       "      <td>...</td>\n",
       "      <td>2009-08-18</td>\n",
       "      <td>3.252492</td>\n",
       "      <td>4.475083</td>\n",
       "      <td>3.099668</td>\n",
       "      <td>Sunderland</td>\n",
       "      <td>2009-08-18</td>\n",
       "      <td>5.737401</td>\n",
       "      <td>2.944297</td>\n",
       "      <td>5.917772</td>\n",
       "      <td>Chelsea</td>\n",
       "    </tr>\n",
       "    <tr>\n",
       "      <th>11</th>\n",
       "      <td>2009-08-18</td>\n",
       "      <td>Wigan</td>\n",
       "      <td>Wolves</td>\n",
       "      <td>0.0</td>\n",
       "      <td>1.0</td>\n",
       "      <td>1.719167</td>\n",
       "      <td>3.498333</td>\n",
       "      <td>5.046667</td>\n",
       "      <td>3</td>\n",
       "      <td>2009-08-18</td>\n",
       "      <td>...</td>\n",
       "      <td>2009-08-18</td>\n",
       "      <td>3.268456</td>\n",
       "      <td>5.436242</td>\n",
       "      <td>3.100671</td>\n",
       "      <td>Wigan</td>\n",
       "      <td>2009-08-18</td>\n",
       "      <td>3.295302</td>\n",
       "      <td>4.946309</td>\n",
       "      <td>3.181208</td>\n",
       "      <td>Wolves</td>\n",
       "    </tr>\n",
       "    <tr>\n",
       "      <th>12</th>\n",
       "      <td>2009-08-19</td>\n",
       "      <td>Birmingham</td>\n",
       "      <td>Portsmouth</td>\n",
       "      <td>1.0</td>\n",
       "      <td>0.0</td>\n",
       "      <td>2.036667</td>\n",
       "      <td>3.287500</td>\n",
       "      <td>3.650000</td>\n",
       "      <td>1</td>\n",
       "      <td>2009-08-19</td>\n",
       "      <td>...</td>\n",
       "      <td>2009-08-19</td>\n",
       "      <td>2.986301</td>\n",
       "      <td>4.246575</td>\n",
       "      <td>3.452055</td>\n",
       "      <td>Birmingham</td>\n",
       "      <td>2009-08-19</td>\n",
       "      <td>2.685714</td>\n",
       "      <td>5.371429</td>\n",
       "      <td>2.200000</td>\n",
       "      <td>Portsmouth</td>\n",
       "    </tr>\n",
       "    <tr>\n",
       "      <th>13</th>\n",
       "      <td>2009-08-19</td>\n",
       "      <td>Burnley</td>\n",
       "      <td>Man United</td>\n",
       "      <td>1.0</td>\n",
       "      <td>0.0</td>\n",
       "      <td>10.024167</td>\n",
       "      <td>4.762500</td>\n",
       "      <td>1.319167</td>\n",
       "      <td>1</td>\n",
       "      <td>2009-08-19</td>\n",
       "      <td>...</td>\n",
       "      <td>2009-08-19</td>\n",
       "      <td>2.994652</td>\n",
       "      <td>4.663102</td>\n",
       "      <td>3.112299</td>\n",
       "      <td>Burnley</td>\n",
       "      <td>2009-08-19</td>\n",
       "      <td>5.564987</td>\n",
       "      <td>2.891247</td>\n",
       "      <td>6.015915</td>\n",
       "      <td>Man United</td>\n",
       "    </tr>\n",
       "    <tr>\n",
       "      <th>14</th>\n",
       "      <td>2009-08-19</td>\n",
       "      <td>Hull</td>\n",
       "      <td>Tottenham</td>\n",
       "      <td>1.0</td>\n",
       "      <td>5.0</td>\n",
       "      <td>3.757500</td>\n",
       "      <td>3.327500</td>\n",
       "      <td>1.984167</td>\n",
       "      <td>3</td>\n",
       "      <td>2009-08-19</td>\n",
       "      <td>...</td>\n",
       "      <td>2009-08-19</td>\n",
       "      <td>2.791946</td>\n",
       "      <td>5.087248</td>\n",
       "      <td>2.677852</td>\n",
       "      <td>Hull</td>\n",
       "      <td>2009-08-19</td>\n",
       "      <td>5.217507</td>\n",
       "      <td>3.259947</td>\n",
       "      <td>5.602122</td>\n",
       "      <td>Tottenham</td>\n",
       "    </tr>\n",
       "    <tr>\n",
       "      <th>15</th>\n",
       "      <td>2009-08-19</td>\n",
       "      <td>Liverpool</td>\n",
       "      <td>Stoke</td>\n",
       "      <td>4.0</td>\n",
       "      <td>0.0</td>\n",
       "      <td>1.252500</td>\n",
       "      <td>5.254167</td>\n",
       "      <td>12.761667</td>\n",
       "      <td>1</td>\n",
       "      <td>2009-08-19</td>\n",
       "      <td>...</td>\n",
       "      <td>2009-08-19</td>\n",
       "      <td>5.562334</td>\n",
       "      <td>3.262599</td>\n",
       "      <td>5.419098</td>\n",
       "      <td>Liverpool</td>\n",
       "      <td>2009-08-19</td>\n",
       "      <td>3.165192</td>\n",
       "      <td>4.117994</td>\n",
       "      <td>3.622419</td>\n",
       "      <td>Stoke</td>\n",
       "    </tr>\n",
       "    <tr>\n",
       "      <th>16</th>\n",
       "      <td>2009-08-22</td>\n",
       "      <td>Arsenal</td>\n",
       "      <td>Portsmouth</td>\n",
       "      <td>4.0</td>\n",
       "      <td>1.0</td>\n",
       "      <td>1.180000</td>\n",
       "      <td>6.388333</td>\n",
       "      <td>16.373333</td>\n",
       "      <td>1</td>\n",
       "      <td>2009-08-22</td>\n",
       "      <td>...</td>\n",
       "      <td>2009-08-22</td>\n",
       "      <td>5.729443</td>\n",
       "      <td>3.392573</td>\n",
       "      <td>5.665782</td>\n",
       "      <td>Arsenal</td>\n",
       "      <td>2009-08-22</td>\n",
       "      <td>2.685714</td>\n",
       "      <td>5.371429</td>\n",
       "      <td>2.200000</td>\n",
       "      <td>Portsmouth</td>\n",
       "    </tr>\n",
       "    <tr>\n",
       "      <th>17</th>\n",
       "      <td>2009-08-22</td>\n",
       "      <td>Birmingham</td>\n",
       "      <td>Stoke</td>\n",
       "      <td>0.0</td>\n",
       "      <td>0.0</td>\n",
       "      <td>2.245000</td>\n",
       "      <td>3.227500</td>\n",
       "      <td>3.233333</td>\n",
       "      <td>2</td>\n",
       "      <td>2009-08-22</td>\n",
       "      <td>...</td>\n",
       "      <td>2009-08-22</td>\n",
       "      <td>2.986301</td>\n",
       "      <td>4.246575</td>\n",
       "      <td>3.452055</td>\n",
       "      <td>Birmingham</td>\n",
       "      <td>2009-08-22</td>\n",
       "      <td>3.165192</td>\n",
       "      <td>4.117994</td>\n",
       "      <td>3.622419</td>\n",
       "      <td>Stoke</td>\n",
       "    </tr>\n",
       "    <tr>\n",
       "      <th>18</th>\n",
       "      <td>2009-08-22</td>\n",
       "      <td>Hull</td>\n",
       "      <td>Bolton</td>\n",
       "      <td>1.0</td>\n",
       "      <td>0.0</td>\n",
       "      <td>2.460000</td>\n",
       "      <td>3.230833</td>\n",
       "      <td>2.858333</td>\n",
       "      <td>1</td>\n",
       "      <td>2009-08-22</td>\n",
       "      <td>...</td>\n",
       "      <td>2009-08-22</td>\n",
       "      <td>2.791946</td>\n",
       "      <td>5.087248</td>\n",
       "      <td>2.677852</td>\n",
       "      <td>Hull</td>\n",
       "      <td>2009-08-22</td>\n",
       "      <td>3.720721</td>\n",
       "      <td>5.288288</td>\n",
       "      <td>3.216216</td>\n",
       "      <td>Bolton</td>\n",
       "    </tr>\n",
       "    <tr>\n",
       "      <th>19</th>\n",
       "      <td>2009-08-22</td>\n",
       "      <td>Man City</td>\n",
       "      <td>Wolves</td>\n",
       "      <td>1.0</td>\n",
       "      <td>0.0</td>\n",
       "      <td>1.325833</td>\n",
       "      <td>4.700833</td>\n",
       "      <td>10.201667</td>\n",
       "      <td>1</td>\n",
       "      <td>2009-08-22</td>\n",
       "      <td>...</td>\n",
       "      <td>2009-08-22</td>\n",
       "      <td>6.511936</td>\n",
       "      <td>2.742706</td>\n",
       "      <td>6.389920</td>\n",
       "      <td>Man City</td>\n",
       "      <td>2009-08-22</td>\n",
       "      <td>3.295302</td>\n",
       "      <td>4.946309</td>\n",
       "      <td>3.181208</td>\n",
       "      <td>Wolves</td>\n",
       "    </tr>\n",
       "    <tr>\n",
       "      <th>20</th>\n",
       "      <td>2009-08-22</td>\n",
       "      <td>Sunderland</td>\n",
       "      <td>Blackburn</td>\n",
       "      <td>2.0</td>\n",
       "      <td>1.0</td>\n",
       "      <td>2.060833</td>\n",
       "      <td>3.276667</td>\n",
       "      <td>3.600833</td>\n",
       "      <td>1</td>\n",
       "      <td>2009-08-22</td>\n",
       "      <td>...</td>\n",
       "      <td>2009-08-22</td>\n",
       "      <td>3.252492</td>\n",
       "      <td>4.475083</td>\n",
       "      <td>3.099668</td>\n",
       "      <td>Sunderland</td>\n",
       "      <td>2009-08-22</td>\n",
       "      <td>3.504505</td>\n",
       "      <td>5.027027</td>\n",
       "      <td>3.243243</td>\n",
       "      <td>Blackburn</td>\n",
       "    </tr>\n",
       "    <tr>\n",
       "      <th>21</th>\n",
       "      <td>2009-08-22</td>\n",
       "      <td>Wigan</td>\n",
       "      <td>Man United</td>\n",
       "      <td>0.0</td>\n",
       "      <td>5.0</td>\n",
       "      <td>6.535833</td>\n",
       "      <td>3.846667</td>\n",
       "      <td>1.530833</td>\n",
       "      <td>3</td>\n",
       "      <td>2009-08-22</td>\n",
       "      <td>...</td>\n",
       "      <td>2009-08-22</td>\n",
       "      <td>3.268456</td>\n",
       "      <td>5.436242</td>\n",
       "      <td>3.100671</td>\n",
       "      <td>Wigan</td>\n",
       "      <td>2009-08-22</td>\n",
       "      <td>5.564987</td>\n",
       "      <td>2.891247</td>\n",
       "      <td>6.015915</td>\n",
       "      <td>Man United</td>\n",
       "    </tr>\n",
       "    <tr>\n",
       "      <th>22</th>\n",
       "      <td>2009-08-23</td>\n",
       "      <td>Burnley</td>\n",
       "      <td>Everton</td>\n",
       "      <td>1.0</td>\n",
       "      <td>0.0</td>\n",
       "      <td>3.226667</td>\n",
       "      <td>3.251667</td>\n",
       "      <td>2.222500</td>\n",
       "      <td>1</td>\n",
       "      <td>2009-08-23</td>\n",
       "      <td>...</td>\n",
       "      <td>2009-08-23</td>\n",
       "      <td>2.994652</td>\n",
       "      <td>4.663102</td>\n",
       "      <td>3.112299</td>\n",
       "      <td>Burnley</td>\n",
       "      <td>2009-08-23</td>\n",
       "      <td>4.297082</td>\n",
       "      <td>3.639257</td>\n",
       "      <td>4.480106</td>\n",
       "      <td>Everton</td>\n",
       "    </tr>\n",
       "    <tr>\n",
       "      <th>23</th>\n",
       "      <td>2009-08-23</td>\n",
       "      <td>Fulham</td>\n",
       "      <td>Chelsea</td>\n",
       "      <td>0.0</td>\n",
       "      <td>2.0</td>\n",
       "      <td>6.476667</td>\n",
       "      <td>3.689167</td>\n",
       "      <td>1.555000</td>\n",
       "      <td>3</td>\n",
       "      <td>2009-08-23</td>\n",
       "      <td>...</td>\n",
       "      <td>2009-08-23</td>\n",
       "      <td>3.444444</td>\n",
       "      <td>4.786667</td>\n",
       "      <td>3.280000</td>\n",
       "      <td>Fulham</td>\n",
       "      <td>2009-08-23</td>\n",
       "      <td>5.737401</td>\n",
       "      <td>2.944297</td>\n",
       "      <td>5.917772</td>\n",
       "      <td>Chelsea</td>\n",
       "    </tr>\n",
       "    <tr>\n",
       "      <th>24</th>\n",
       "      <td>2009-08-23</td>\n",
       "      <td>West Ham</td>\n",
       "      <td>Tottenham</td>\n",
       "      <td>1.0</td>\n",
       "      <td>2.0</td>\n",
       "      <td>3.041667</td>\n",
       "      <td>3.271667</td>\n",
       "      <td>2.320833</td>\n",
       "      <td>3</td>\n",
       "      <td>2009-08-23</td>\n",
       "      <td>...</td>\n",
       "      <td>2009-08-23</td>\n",
       "      <td>3.758112</td>\n",
       "      <td>4.625369</td>\n",
       "      <td>3.495575</td>\n",
       "      <td>West Ham</td>\n",
       "      <td>2009-08-23</td>\n",
       "      <td>5.217507</td>\n",
       "      <td>3.259947</td>\n",
       "      <td>5.602122</td>\n",
       "      <td>Tottenham</td>\n",
       "    </tr>\n",
       "    <tr>\n",
       "      <th>25</th>\n",
       "      <td>2009-08-24</td>\n",
       "      <td>Liverpool</td>\n",
       "      <td>Aston Villa</td>\n",
       "      <td>1.0</td>\n",
       "      <td>3.0</td>\n",
       "      <td>1.426667</td>\n",
       "      <td>4.155833</td>\n",
       "      <td>7.893333</td>\n",
       "      <td>3</td>\n",
       "      <td>2009-08-24</td>\n",
       "      <td>...</td>\n",
       "      <td>2009-08-24</td>\n",
       "      <td>5.562334</td>\n",
       "      <td>3.262599</td>\n",
       "      <td>5.419098</td>\n",
       "      <td>Liverpool</td>\n",
       "      <td>2009-08-24</td>\n",
       "      <td>3.174905</td>\n",
       "      <td>4.688213</td>\n",
       "      <td>3.190114</td>\n",
       "      <td>Aston Villa</td>\n",
       "    </tr>\n",
       "    <tr>\n",
       "      <th>26</th>\n",
       "      <td>2009-08-29</td>\n",
       "      <td>Blackburn</td>\n",
       "      <td>West Ham</td>\n",
       "      <td>0.0</td>\n",
       "      <td>0.0</td>\n",
       "      <td>2.181667</td>\n",
       "      <td>3.231667</td>\n",
       "      <td>3.294167</td>\n",
       "      <td>2</td>\n",
       "      <td>2009-08-29</td>\n",
       "      <td>...</td>\n",
       "      <td>2009-08-29</td>\n",
       "      <td>3.504505</td>\n",
       "      <td>5.027027</td>\n",
       "      <td>3.243243</td>\n",
       "      <td>Blackburn</td>\n",
       "      <td>2009-08-29</td>\n",
       "      <td>3.758112</td>\n",
       "      <td>4.625369</td>\n",
       "      <td>3.495575</td>\n",
       "      <td>West Ham</td>\n",
       "    </tr>\n",
       "    <tr>\n",
       "      <th>27</th>\n",
       "      <td>2009-08-29</td>\n",
       "      <td>Bolton</td>\n",
       "      <td>Liverpool</td>\n",
       "      <td>2.0</td>\n",
       "      <td>3.0</td>\n",
       "      <td>6.074167</td>\n",
       "      <td>3.790833</td>\n",
       "      <td>1.551667</td>\n",
       "      <td>3</td>\n",
       "      <td>2009-08-29</td>\n",
       "      <td>...</td>\n",
       "      <td>2009-08-29</td>\n",
       "      <td>3.720721</td>\n",
       "      <td>5.288288</td>\n",
       "      <td>3.216216</td>\n",
       "      <td>Bolton</td>\n",
       "      <td>2009-08-29</td>\n",
       "      <td>6.000000</td>\n",
       "      <td>5.000000</td>\n",
       "      <td>3.000000</td>\n",
       "      <td>Liverpool</td>\n",
       "    </tr>\n",
       "    <tr>\n",
       "      <th>28</th>\n",
       "      <td>2009-08-29</td>\n",
       "      <td>Chelsea</td>\n",
       "      <td>Burnley</td>\n",
       "      <td>3.0</td>\n",
       "      <td>0.0</td>\n",
       "      <td>1.139167</td>\n",
       "      <td>7.215000</td>\n",
       "      <td>17.739167</td>\n",
       "      <td>1</td>\n",
       "      <td>2009-08-29</td>\n",
       "      <td>...</td>\n",
       "      <td>2009-08-29</td>\n",
       "      <td>7.000000</td>\n",
       "      <td>2.000000</td>\n",
       "      <td>9.000000</td>\n",
       "      <td>Chelsea</td>\n",
       "      <td>2009-08-29</td>\n",
       "      <td>2.000000</td>\n",
       "      <td>2.000000</td>\n",
       "      <td>6.000000</td>\n",
       "      <td>Burnley</td>\n",
       "    </tr>\n",
       "    <tr>\n",
       "      <th>29</th>\n",
       "      <td>2009-08-29</td>\n",
       "      <td>Man United</td>\n",
       "      <td>Arsenal</td>\n",
       "      <td>2.0</td>\n",
       "      <td>1.0</td>\n",
       "      <td>2.113333</td>\n",
       "      <td>3.240833</td>\n",
       "      <td>3.441667</td>\n",
       "      <td>1</td>\n",
       "      <td>2009-08-29</td>\n",
       "      <td>...</td>\n",
       "      <td>2009-08-29</td>\n",
       "      <td>6.000000</td>\n",
       "      <td>1.000000</td>\n",
       "      <td>6.000000</td>\n",
       "      <td>Man United</td>\n",
       "      <td>2009-08-29</td>\n",
       "      <td>5.729443</td>\n",
       "      <td>3.392573</td>\n",
       "      <td>5.665782</td>\n",
       "      <td>Arsenal</td>\n",
       "    </tr>\n",
       "    <tr>\n",
       "      <th>...</th>\n",
       "      <td>...</td>\n",
       "      <td>...</td>\n",
       "      <td>...</td>\n",
       "      <td>...</td>\n",
       "      <td>...</td>\n",
       "      <td>...</td>\n",
       "      <td>...</td>\n",
       "      <td>...</td>\n",
       "      <td>...</td>\n",
       "      <td>...</td>\n",
       "      <td>...</td>\n",
       "      <td>...</td>\n",
       "      <td>...</td>\n",
       "      <td>...</td>\n",
       "      <td>...</td>\n",
       "      <td>...</td>\n",
       "      <td>...</td>\n",
       "      <td>...</td>\n",
       "      <td>...</td>\n",
       "      <td>...</td>\n",
       "      <td>...</td>\n",
       "    </tr>\n",
       "    <tr>\n",
       "      <th>3869</th>\n",
       "      <td>2019-09-03</td>\n",
       "      <td>Crystal Palace</td>\n",
       "      <td>Brighton</td>\n",
       "      <td>1.0</td>\n",
       "      <td>2.0</td>\n",
       "      <td>1.852222</td>\n",
       "      <td>3.485556</td>\n",
       "      <td>4.874444</td>\n",
       "      <td>3</td>\n",
       "      <td>2019-09-03</td>\n",
       "      <td>...</td>\n",
       "      <td>2019-09-03</td>\n",
       "      <td>2.000000</td>\n",
       "      <td>1.000000</td>\n",
       "      <td>5.000000</td>\n",
       "      <td>Crystal Palace</td>\n",
       "      <td>2019-09-03</td>\n",
       "      <td>3.000000</td>\n",
       "      <td>5.000000</td>\n",
       "      <td>2.000000</td>\n",
       "      <td>Brighton</td>\n",
       "    </tr>\n",
       "    <tr>\n",
       "      <th>3870</th>\n",
       "      <td>2019-09-03</td>\n",
       "      <td>Huddersfield</td>\n",
       "      <td>Bournemouth</td>\n",
       "      <td>0.0</td>\n",
       "      <td>2.0</td>\n",
       "      <td>3.425556</td>\n",
       "      <td>3.255556</td>\n",
       "      <td>2.320000</td>\n",
       "      <td>3</td>\n",
       "      <td>2019-09-03</td>\n",
       "      <td>...</td>\n",
       "      <td>2019-09-03</td>\n",
       "      <td>3.000000</td>\n",
       "      <td>7.000000</td>\n",
       "      <td>1.000000</td>\n",
       "      <td>Huddersfield</td>\n",
       "      <td>2019-09-03</td>\n",
       "      <td>4.000000</td>\n",
       "      <td>9.000000</td>\n",
       "      <td>1.000000</td>\n",
       "      <td>Bournemouth</td>\n",
       "    </tr>\n",
       "    <tr>\n",
       "      <th>3871</th>\n",
       "      <td>2019-09-03</td>\n",
       "      <td>Leicester</td>\n",
       "      <td>Fulham</td>\n",
       "      <td>3.0</td>\n",
       "      <td>1.0</td>\n",
       "      <td>1.597778</td>\n",
       "      <td>4.313333</td>\n",
       "      <td>5.767778</td>\n",
       "      <td>1</td>\n",
       "      <td>2019-09-03</td>\n",
       "      <td>...</td>\n",
       "      <td>2019-09-03</td>\n",
       "      <td>7.000000</td>\n",
       "      <td>2.000000</td>\n",
       "      <td>6.000000</td>\n",
       "      <td>Leicester</td>\n",
       "      <td>2019-09-03</td>\n",
       "      <td>2.000000</td>\n",
       "      <td>3.000000</td>\n",
       "      <td>6.000000</td>\n",
       "      <td>Fulham</td>\n",
       "    </tr>\n",
       "    <tr>\n",
       "      <th>3872</th>\n",
       "      <td>2019-09-03</td>\n",
       "      <td>Man City</td>\n",
       "      <td>Watford</td>\n",
       "      <td>3.0</td>\n",
       "      <td>1.0</td>\n",
       "      <td>1.143333</td>\n",
       "      <td>9.025556</td>\n",
       "      <td>19.707778</td>\n",
       "      <td>1</td>\n",
       "      <td>2019-09-03</td>\n",
       "      <td>...</td>\n",
       "      <td>2019-09-03</td>\n",
       "      <td>4.000000</td>\n",
       "      <td>0.000000</td>\n",
       "      <td>9.000000</td>\n",
       "      <td>Man City</td>\n",
       "      <td>2019-09-03</td>\n",
       "      <td>2.000000</td>\n",
       "      <td>5.000000</td>\n",
       "      <td>3.000000</td>\n",
       "      <td>Watford</td>\n",
       "    </tr>\n",
       "    <tr>\n",
       "      <th>3873</th>\n",
       "      <td>2019-09-03</td>\n",
       "      <td>Newcastle</td>\n",
       "      <td>Everton</td>\n",
       "      <td>3.0</td>\n",
       "      <td>2.0</td>\n",
       "      <td>2.797778</td>\n",
       "      <td>3.153333</td>\n",
       "      <td>2.804444</td>\n",
       "      <td>1</td>\n",
       "      <td>2019-09-03</td>\n",
       "      <td>...</td>\n",
       "      <td>2019-09-03</td>\n",
       "      <td>4.000000</td>\n",
       "      <td>3.000000</td>\n",
       "      <td>4.000000</td>\n",
       "      <td>Newcastle</td>\n",
       "      <td>2019-09-03</td>\n",
       "      <td>1.000000</td>\n",
       "      <td>3.000000</td>\n",
       "      <td>3.000000</td>\n",
       "      <td>Everton</td>\n",
       "    </tr>\n",
       "    <tr>\n",
       "      <th>3874</th>\n",
       "      <td>2019-09-03</td>\n",
       "      <td>Southampton</td>\n",
       "      <td>Tottenham</td>\n",
       "      <td>2.0</td>\n",
       "      <td>1.0</td>\n",
       "      <td>4.366667</td>\n",
       "      <td>3.771111</td>\n",
       "      <td>1.866667</td>\n",
       "      <td>1</td>\n",
       "      <td>2019-09-03</td>\n",
       "      <td>...</td>\n",
       "      <td>2019-09-03</td>\n",
       "      <td>5.000000</td>\n",
       "      <td>8.000000</td>\n",
       "      <td>1.000000</td>\n",
       "      <td>Southampton</td>\n",
       "      <td>2019-09-03</td>\n",
       "      <td>1.000000</td>\n",
       "      <td>2.000000</td>\n",
       "      <td>3.000000</td>\n",
       "      <td>Tottenham</td>\n",
       "    </tr>\n",
       "    <tr>\n",
       "      <th>3875</th>\n",
       "      <td>2019-10-02</td>\n",
       "      <td>Man City</td>\n",
       "      <td>Chelsea</td>\n",
       "      <td>6.0</td>\n",
       "      <td>0.0</td>\n",
       "      <td>1.522222</td>\n",
       "      <td>4.481111</td>\n",
       "      <td>6.628889</td>\n",
       "      <td>1</td>\n",
       "      <td>2019-10-02</td>\n",
       "      <td>...</td>\n",
       "      <td>2019-10-02</td>\n",
       "      <td>6.000000</td>\n",
       "      <td>1.000000</td>\n",
       "      <td>9.000000</td>\n",
       "      <td>Man City</td>\n",
       "      <td>2019-10-02</td>\n",
       "      <td>6.000000</td>\n",
       "      <td>1.000000</td>\n",
       "      <td>7.000000</td>\n",
       "      <td>Chelsea</td>\n",
       "    </tr>\n",
       "    <tr>\n",
       "      <th>3876</th>\n",
       "      <td>2019-10-02</td>\n",
       "      <td>Tottenham</td>\n",
       "      <td>Leicester</td>\n",
       "      <td>3.0</td>\n",
       "      <td>1.0</td>\n",
       "      <td>1.704444</td>\n",
       "      <td>3.847778</td>\n",
       "      <td>5.443333</td>\n",
       "      <td>1</td>\n",
       "      <td>2019-10-02</td>\n",
       "      <td>...</td>\n",
       "      <td>2019-10-02</td>\n",
       "      <td>2.000000</td>\n",
       "      <td>3.000000</td>\n",
       "      <td>3.000000</td>\n",
       "      <td>Tottenham</td>\n",
       "      <td>2019-10-02</td>\n",
       "      <td>7.000000</td>\n",
       "      <td>3.000000</td>\n",
       "      <td>6.000000</td>\n",
       "      <td>Leicester</td>\n",
       "    </tr>\n",
       "    <tr>\n",
       "      <th>3877</th>\n",
       "      <td>2019-10-03</td>\n",
       "      <td>Arsenal</td>\n",
       "      <td>Man United</td>\n",
       "      <td>2.0</td>\n",
       "      <td>0.0</td>\n",
       "      <td>2.406667</td>\n",
       "      <td>3.556667</td>\n",
       "      <td>2.982222</td>\n",
       "      <td>1</td>\n",
       "      <td>2019-10-03</td>\n",
       "      <td>...</td>\n",
       "      <td>2019-10-03</td>\n",
       "      <td>3.000000</td>\n",
       "      <td>3.000000</td>\n",
       "      <td>4.000000</td>\n",
       "      <td>Arsenal</td>\n",
       "      <td>2019-10-03</td>\n",
       "      <td>5.000000</td>\n",
       "      <td>2.000000</td>\n",
       "      <td>5.000000</td>\n",
       "      <td>Man United</td>\n",
       "    </tr>\n",
       "    <tr>\n",
       "      <th>3878</th>\n",
       "      <td>2019-10-03</td>\n",
       "      <td>Chelsea</td>\n",
       "      <td>Wolves</td>\n",
       "      <td>1.0</td>\n",
       "      <td>1.0</td>\n",
       "      <td>1.562222</td>\n",
       "      <td>4.106667</td>\n",
       "      <td>6.877778</td>\n",
       "      <td>2</td>\n",
       "      <td>2019-10-03</td>\n",
       "      <td>...</td>\n",
       "      <td>2019-10-03</td>\n",
       "      <td>5.000000</td>\n",
       "      <td>6.000000</td>\n",
       "      <td>6.000000</td>\n",
       "      <td>Chelsea</td>\n",
       "      <td>2019-10-03</td>\n",
       "      <td>5.000000</td>\n",
       "      <td>2.000000</td>\n",
       "      <td>7.000000</td>\n",
       "      <td>Wolves</td>\n",
       "    </tr>\n",
       "    <tr>\n",
       "      <th>3879</th>\n",
       "      <td>2019-10-03</td>\n",
       "      <td>Liverpool</td>\n",
       "      <td>Burnley</td>\n",
       "      <td>4.0</td>\n",
       "      <td>2.0</td>\n",
       "      <td>1.171111</td>\n",
       "      <td>7.905556</td>\n",
       "      <td>18.687778</td>\n",
       "      <td>1</td>\n",
       "      <td>2019-10-03</td>\n",
       "      <td>...</td>\n",
       "      <td>2019-10-03</td>\n",
       "      <td>11.000000</td>\n",
       "      <td>1.000000</td>\n",
       "      <td>9.000000</td>\n",
       "      <td>Liverpool</td>\n",
       "      <td>2019-10-03</td>\n",
       "      <td>6.000000</td>\n",
       "      <td>3.000000</td>\n",
       "      <td>6.000000</td>\n",
       "      <td>Burnley</td>\n",
       "    </tr>\n",
       "    <tr>\n",
       "      <th>3880</th>\n",
       "      <td>2019-11-02</td>\n",
       "      <td>Wolves</td>\n",
       "      <td>Newcastle</td>\n",
       "      <td>1.0</td>\n",
       "      <td>1.0</td>\n",
       "      <td>1.710000</td>\n",
       "      <td>3.692222</td>\n",
       "      <td>5.691111</td>\n",
       "      <td>2</td>\n",
       "      <td>2019-11-02</td>\n",
       "      <td>...</td>\n",
       "      <td>2019-11-02</td>\n",
       "      <td>6.000000</td>\n",
       "      <td>3.000000</td>\n",
       "      <td>7.000000</td>\n",
       "      <td>Wolves</td>\n",
       "      <td>2019-11-02</td>\n",
       "      <td>4.000000</td>\n",
       "      <td>4.000000</td>\n",
       "      <td>4.000000</td>\n",
       "      <td>Newcastle</td>\n",
       "    </tr>\n",
       "    <tr>\n",
       "      <th>3881</th>\n",
       "      <td>2019-12-01</td>\n",
       "      <td>Brighton</td>\n",
       "      <td>Liverpool</td>\n",
       "      <td>0.0</td>\n",
       "      <td>1.0</td>\n",
       "      <td>10.047778</td>\n",
       "      <td>5.550000</td>\n",
       "      <td>1.325556</td>\n",
       "      <td>3</td>\n",
       "      <td>2019-12-01</td>\n",
       "      <td>...</td>\n",
       "      <td>2019-12-01</td>\n",
       "      <td>4.000000</td>\n",
       "      <td>5.000000</td>\n",
       "      <td>4.000000</td>\n",
       "      <td>Brighton</td>\n",
       "      <td>2019-12-01</td>\n",
       "      <td>10.000000</td>\n",
       "      <td>3.000000</td>\n",
       "      <td>9.000000</td>\n",
       "      <td>Liverpool</td>\n",
       "    </tr>\n",
       "    <tr>\n",
       "      <th>3882</th>\n",
       "      <td>2019-12-01</td>\n",
       "      <td>Burnley</td>\n",
       "      <td>Fulham</td>\n",
       "      <td>2.0</td>\n",
       "      <td>1.0</td>\n",
       "      <td>2.392222</td>\n",
       "      <td>3.264444</td>\n",
       "      <td>3.258889</td>\n",
       "      <td>1</td>\n",
       "      <td>2019-12-01</td>\n",
       "      <td>...</td>\n",
       "      <td>2019-12-01</td>\n",
       "      <td>8.000000</td>\n",
       "      <td>6.000000</td>\n",
       "      <td>6.000000</td>\n",
       "      <td>Burnley</td>\n",
       "      <td>2019-12-01</td>\n",
       "      <td>2.000000</td>\n",
       "      <td>6.000000</td>\n",
       "      <td>3.000000</td>\n",
       "      <td>Fulham</td>\n",
       "    </tr>\n",
       "    <tr>\n",
       "      <th>3883</th>\n",
       "      <td>2019-12-01</td>\n",
       "      <td>Cardiff</td>\n",
       "      <td>Huddersfield</td>\n",
       "      <td>0.0</td>\n",
       "      <td>0.0</td>\n",
       "      <td>2.237778</td>\n",
       "      <td>3.174444</td>\n",
       "      <td>3.685556</td>\n",
       "      <td>2</td>\n",
       "      <td>2019-12-01</td>\n",
       "      <td>...</td>\n",
       "      <td>2019-12-01</td>\n",
       "      <td>4.000000</td>\n",
       "      <td>2.000000</td>\n",
       "      <td>6.000000</td>\n",
       "      <td>Cardiff</td>\n",
       "      <td>2019-12-01</td>\n",
       "      <td>2.000000</td>\n",
       "      <td>8.000000</td>\n",
       "      <td>0.000000</td>\n",
       "      <td>Huddersfield</td>\n",
       "    </tr>\n",
       "    <tr>\n",
       "      <th>3884</th>\n",
       "      <td>2019-12-01</td>\n",
       "      <td>Chelsea</td>\n",
       "      <td>Newcastle</td>\n",
       "      <td>2.0</td>\n",
       "      <td>1.0</td>\n",
       "      <td>1.224444</td>\n",
       "      <td>6.630000</td>\n",
       "      <td>15.155556</td>\n",
       "      <td>1</td>\n",
       "      <td>2019-12-01</td>\n",
       "      <td>...</td>\n",
       "      <td>2019-12-01</td>\n",
       "      <td>3.000000</td>\n",
       "      <td>7.000000</td>\n",
       "      <td>4.000000</td>\n",
       "      <td>Chelsea</td>\n",
       "      <td>2019-12-01</td>\n",
       "      <td>4.000000</td>\n",
       "      <td>4.000000</td>\n",
       "      <td>4.000000</td>\n",
       "      <td>Newcastle</td>\n",
       "    </tr>\n",
       "    <tr>\n",
       "      <th>3885</th>\n",
       "      <td>2019-12-01</td>\n",
       "      <td>Crystal Palace</td>\n",
       "      <td>Watford</td>\n",
       "      <td>1.0</td>\n",
       "      <td>2.0</td>\n",
       "      <td>2.253333</td>\n",
       "      <td>3.366667</td>\n",
       "      <td>3.440000</td>\n",
       "      <td>3</td>\n",
       "      <td>2019-12-01</td>\n",
       "      <td>...</td>\n",
       "      <td>2019-12-01</td>\n",
       "      <td>3.000000</td>\n",
       "      <td>3.000000</td>\n",
       "      <td>4.000000</td>\n",
       "      <td>Crystal Palace</td>\n",
       "      <td>2019-12-01</td>\n",
       "      <td>2.000000</td>\n",
       "      <td>6.000000</td>\n",
       "      <td>3.000000</td>\n",
       "      <td>Watford</td>\n",
       "    </tr>\n",
       "    <tr>\n",
       "      <th>3886</th>\n",
       "      <td>2019-12-01</td>\n",
       "      <td>Leicester</td>\n",
       "      <td>Southampton</td>\n",
       "      <td>1.0</td>\n",
       "      <td>2.0</td>\n",
       "      <td>1.934444</td>\n",
       "      <td>3.506667</td>\n",
       "      <td>4.354444</td>\n",
       "      <td>3</td>\n",
       "      <td>2019-12-01</td>\n",
       "      <td>...</td>\n",
       "      <td>2019-12-01</td>\n",
       "      <td>4.000000</td>\n",
       "      <td>5.000000</td>\n",
       "      <td>3.000000</td>\n",
       "      <td>Leicester</td>\n",
       "      <td>2019-12-01</td>\n",
       "      <td>4.000000</td>\n",
       "      <td>6.000000</td>\n",
       "      <td>3.000000</td>\n",
       "      <td>Southampton</td>\n",
       "    </tr>\n",
       "    <tr>\n",
       "      <th>3887</th>\n",
       "      <td>2019-12-01</td>\n",
       "      <td>West Ham</td>\n",
       "      <td>Arsenal</td>\n",
       "      <td>1.0</td>\n",
       "      <td>0.0</td>\n",
       "      <td>3.482222</td>\n",
       "      <td>3.850000</td>\n",
       "      <td>2.063333</td>\n",
       "      <td>1</td>\n",
       "      <td>2019-12-01</td>\n",
       "      <td>...</td>\n",
       "      <td>2019-12-01</td>\n",
       "      <td>1.000000</td>\n",
       "      <td>5.000000</td>\n",
       "      <td>1.000000</td>\n",
       "      <td>West Ham</td>\n",
       "      <td>2019-12-01</td>\n",
       "      <td>4.000000</td>\n",
       "      <td>2.000000</td>\n",
       "      <td>6.000000</td>\n",
       "      <td>Arsenal</td>\n",
       "    </tr>\n",
       "    <tr>\n",
       "      <th>3888</th>\n",
       "      <td>2019-12-04</td>\n",
       "      <td>Leicester</td>\n",
       "      <td>Newcastle</td>\n",
       "      <td>0.0</td>\n",
       "      <td>1.0</td>\n",
       "      <td>1.657778</td>\n",
       "      <td>3.916667</td>\n",
       "      <td>5.842222</td>\n",
       "      <td>3</td>\n",
       "      <td>2019-12-04</td>\n",
       "      <td>...</td>\n",
       "      <td>2019-12-04</td>\n",
       "      <td>5.000000</td>\n",
       "      <td>6.000000</td>\n",
       "      <td>3.000000</td>\n",
       "      <td>Leicester</td>\n",
       "      <td>2019-12-04</td>\n",
       "      <td>5.000000</td>\n",
       "      <td>5.000000</td>\n",
       "      <td>4.000000</td>\n",
       "      <td>Newcastle</td>\n",
       "    </tr>\n",
       "    <tr>\n",
       "      <th>3889</th>\n",
       "      <td>2019-12-05</td>\n",
       "      <td>Brighton</td>\n",
       "      <td>Man City</td>\n",
       "      <td>1.0</td>\n",
       "      <td>4.0</td>\n",
       "      <td>17.804444</td>\n",
       "      <td>8.215556</td>\n",
       "      <td>1.164444</td>\n",
       "      <td>3</td>\n",
       "      <td>2019-12-05</td>\n",
       "      <td>...</td>\n",
       "      <td>2019-12-05</td>\n",
       "      <td>3.000000</td>\n",
       "      <td>5.000000</td>\n",
       "      <td>3.000000</td>\n",
       "      <td>Brighton</td>\n",
       "      <td>2019-12-05</td>\n",
       "      <td>10.000000</td>\n",
       "      <td>1.000000</td>\n",
       "      <td>9.000000</td>\n",
       "      <td>Man City</td>\n",
       "    </tr>\n",
       "    <tr>\n",
       "      <th>3890</th>\n",
       "      <td>2019-12-05</td>\n",
       "      <td>Burnley</td>\n",
       "      <td>Arsenal</td>\n",
       "      <td>1.0</td>\n",
       "      <td>3.0</td>\n",
       "      <td>3.087778</td>\n",
       "      <td>3.770000</td>\n",
       "      <td>2.272222</td>\n",
       "      <td>3</td>\n",
       "      <td>2019-12-05</td>\n",
       "      <td>...</td>\n",
       "      <td>2019-12-05</td>\n",
       "      <td>7.000000</td>\n",
       "      <td>6.000000</td>\n",
       "      <td>6.000000</td>\n",
       "      <td>Burnley</td>\n",
       "      <td>2019-12-05</td>\n",
       "      <td>4.000000</td>\n",
       "      <td>2.000000</td>\n",
       "      <td>6.000000</td>\n",
       "      <td>Arsenal</td>\n",
       "    </tr>\n",
       "    <tr>\n",
       "      <th>3891</th>\n",
       "      <td>2019-12-05</td>\n",
       "      <td>Crystal Palace</td>\n",
       "      <td>Bournemouth</td>\n",
       "      <td>5.0</td>\n",
       "      <td>3.0</td>\n",
       "      <td>1.858889</td>\n",
       "      <td>4.098889</td>\n",
       "      <td>3.958889</td>\n",
       "      <td>1</td>\n",
       "      <td>2019-12-05</td>\n",
       "      <td>...</td>\n",
       "      <td>2019-12-05</td>\n",
       "      <td>3.000000</td>\n",
       "      <td>5.000000</td>\n",
       "      <td>1.000000</td>\n",
       "      <td>Crystal Palace</td>\n",
       "      <td>2019-12-05</td>\n",
       "      <td>3.000000</td>\n",
       "      <td>6.000000</td>\n",
       "      <td>3.000000</td>\n",
       "      <td>Bournemouth</td>\n",
       "    </tr>\n",
       "    <tr>\n",
       "      <th>3892</th>\n",
       "      <td>2019-12-05</td>\n",
       "      <td>Fulham</td>\n",
       "      <td>Newcastle</td>\n",
       "      <td>0.0</td>\n",
       "      <td>4.0</td>\n",
       "      <td>2.517778</td>\n",
       "      <td>3.555556</td>\n",
       "      <td>2.818889</td>\n",
       "      <td>3</td>\n",
       "      <td>2019-12-05</td>\n",
       "      <td>...</td>\n",
       "      <td>2019-12-05</td>\n",
       "      <td>2.000000</td>\n",
       "      <td>8.000000</td>\n",
       "      <td>0.000000</td>\n",
       "      <td>Fulham</td>\n",
       "      <td>2019-12-05</td>\n",
       "      <td>3.000000</td>\n",
       "      <td>3.000000</td>\n",
       "      <td>4.000000</td>\n",
       "      <td>Newcastle</td>\n",
       "    </tr>\n",
       "    <tr>\n",
       "      <th>3893</th>\n",
       "      <td>2019-12-05</td>\n",
       "      <td>Leicester</td>\n",
       "      <td>Chelsea</td>\n",
       "      <td>0.0</td>\n",
       "      <td>0.0</td>\n",
       "      <td>2.398889</td>\n",
       "      <td>3.638889</td>\n",
       "      <td>2.920000</td>\n",
       "      <td>2</td>\n",
       "      <td>2019-12-05</td>\n",
       "      <td>...</td>\n",
       "      <td>2019-12-05</td>\n",
       "      <td>2.000000</td>\n",
       "      <td>6.000000</td>\n",
       "      <td>0.000000</td>\n",
       "      <td>Leicester</td>\n",
       "      <td>2019-12-05</td>\n",
       "      <td>3.000000</td>\n",
       "      <td>8.000000</td>\n",
       "      <td>4.000000</td>\n",
       "      <td>Chelsea</td>\n",
       "    </tr>\n",
       "    <tr>\n",
       "      <th>3894</th>\n",
       "      <td>2019-12-05</td>\n",
       "      <td>Liverpool</td>\n",
       "      <td>Wolves</td>\n",
       "      <td>2.0</td>\n",
       "      <td>0.0</td>\n",
       "      <td>1.306667</td>\n",
       "      <td>5.742222</td>\n",
       "      <td>10.443333</td>\n",
       "      <td>1</td>\n",
       "      <td>2019-12-05</td>\n",
       "      <td>...</td>\n",
       "      <td>2019-12-05</td>\n",
       "      <td>8.000000</td>\n",
       "      <td>2.000000</td>\n",
       "      <td>9.000000</td>\n",
       "      <td>Liverpool</td>\n",
       "      <td>2019-12-05</td>\n",
       "      <td>4.000000</td>\n",
       "      <td>3.000000</td>\n",
       "      <td>5.000000</td>\n",
       "      <td>Wolves</td>\n",
       "    </tr>\n",
       "    <tr>\n",
       "      <th>3895</th>\n",
       "      <td>2019-12-05</td>\n",
       "      <td>Man United</td>\n",
       "      <td>Cardiff</td>\n",
       "      <td>0.0</td>\n",
       "      <td>2.0</td>\n",
       "      <td>1.280000</td>\n",
       "      <td>6.324444</td>\n",
       "      <td>10.357778</td>\n",
       "      <td>3</td>\n",
       "      <td>2019-12-05</td>\n",
       "      <td>...</td>\n",
       "      <td>2019-12-05</td>\n",
       "      <td>4.000000</td>\n",
       "      <td>3.000000</td>\n",
       "      <td>4.000000</td>\n",
       "      <td>Man United</td>\n",
       "      <td>2019-12-05</td>\n",
       "      <td>4.000000</td>\n",
       "      <td>1.000000</td>\n",
       "      <td>7.000000</td>\n",
       "      <td>Cardiff</td>\n",
       "    </tr>\n",
       "    <tr>\n",
       "      <th>3896</th>\n",
       "      <td>2019-12-05</td>\n",
       "      <td>Southampton</td>\n",
       "      <td>Huddersfield</td>\n",
       "      <td>1.0</td>\n",
       "      <td>1.0</td>\n",
       "      <td>1.417778</td>\n",
       "      <td>4.888889</td>\n",
       "      <td>7.983333</td>\n",
       "      <td>2</td>\n",
       "      <td>2019-12-05</td>\n",
       "      <td>...</td>\n",
       "      <td>2019-12-05</td>\n",
       "      <td>5.000000</td>\n",
       "      <td>4.000000</td>\n",
       "      <td>6.000000</td>\n",
       "      <td>Southampton</td>\n",
       "      <td>2019-12-05</td>\n",
       "      <td>1.000000</td>\n",
       "      <td>4.000000</td>\n",
       "      <td>1.000000</td>\n",
       "      <td>Huddersfield</td>\n",
       "    </tr>\n",
       "    <tr>\n",
       "      <th>3897</th>\n",
       "      <td>2019-12-05</td>\n",
       "      <td>Tottenham</td>\n",
       "      <td>Everton</td>\n",
       "      <td>2.0</td>\n",
       "      <td>2.0</td>\n",
       "      <td>2.094444</td>\n",
       "      <td>3.567778</td>\n",
       "      <td>3.663333</td>\n",
       "      <td>2</td>\n",
       "      <td>2019-12-05</td>\n",
       "      <td>...</td>\n",
       "      <td>2019-12-05</td>\n",
       "      <td>4.000000</td>\n",
       "      <td>4.000000</td>\n",
       "      <td>3.000000</td>\n",
       "      <td>Tottenham</td>\n",
       "      <td>2019-12-05</td>\n",
       "      <td>3.000000</td>\n",
       "      <td>4.000000</td>\n",
       "      <td>3.000000</td>\n",
       "      <td>Everton</td>\n",
       "    </tr>\n",
       "    <tr>\n",
       "      <th>3898</th>\n",
       "      <td>2019-12-05</td>\n",
       "      <td>Watford</td>\n",
       "      <td>West Ham</td>\n",
       "      <td>1.0</td>\n",
       "      <td>4.0</td>\n",
       "      <td>2.202222</td>\n",
       "      <td>3.776667</td>\n",
       "      <td>3.188889</td>\n",
       "      <td>3</td>\n",
       "      <td>2019-12-05</td>\n",
       "      <td>...</td>\n",
       "      <td>2019-12-05</td>\n",
       "      <td>4.000000</td>\n",
       "      <td>4.000000</td>\n",
       "      <td>6.000000</td>\n",
       "      <td>Watford</td>\n",
       "      <td>2019-12-05</td>\n",
       "      <td>2.000000</td>\n",
       "      <td>3.000000</td>\n",
       "      <td>4.000000</td>\n",
       "      <td>West Ham</td>\n",
       "    </tr>\n",
       "  </tbody>\n",
       "</table>\n",
       "<p>3899 rows × 29 columns</p>\n",
       "</div>"
      ],
      "text/plain": [
       "           Date           Hteam         Ateam  FTHG  FTAG      Odd-1  \\\n",
       "0    2009-08-15     Aston Villa         Wigan   0.0   2.0   1.673333   \n",
       "1    2009-08-15       Blackburn      Man City   0.0   2.0   3.354167   \n",
       "2    2009-08-15          Bolton    Sunderland   0.0   1.0   2.238333   \n",
       "3    2009-08-15         Chelsea          Hull   2.0   1.0   1.180833   \n",
       "4    2009-08-15         Everton       Arsenal   1.0   6.0   3.095000   \n",
       "5    2009-08-15      Portsmouth        Fulham   0.0   1.0   2.554167   \n",
       "6    2009-08-15           Stoke       Burnley   2.0   0.0   1.916667   \n",
       "7    2009-08-15          Wolves      West Ham   0.0   2.0   2.556667   \n",
       "8    2009-08-16      Man United    Birmingham   1.0   0.0   1.195000   \n",
       "9    2009-08-16       Tottenham     Liverpool   2.0   1.0   3.124167   \n",
       "10   2009-08-18      Sunderland       Chelsea   1.0   3.0   6.835833   \n",
       "11   2009-08-18           Wigan        Wolves   0.0   1.0   1.719167   \n",
       "12   2009-08-19      Birmingham    Portsmouth   1.0   0.0   2.036667   \n",
       "13   2009-08-19         Burnley    Man United   1.0   0.0  10.024167   \n",
       "14   2009-08-19            Hull     Tottenham   1.0   5.0   3.757500   \n",
       "15   2009-08-19       Liverpool         Stoke   4.0   0.0   1.252500   \n",
       "16   2009-08-22         Arsenal    Portsmouth   4.0   1.0   1.180000   \n",
       "17   2009-08-22      Birmingham         Stoke   0.0   0.0   2.245000   \n",
       "18   2009-08-22            Hull        Bolton   1.0   0.0   2.460000   \n",
       "19   2009-08-22        Man City        Wolves   1.0   0.0   1.325833   \n",
       "20   2009-08-22      Sunderland     Blackburn   2.0   1.0   2.060833   \n",
       "21   2009-08-22           Wigan    Man United   0.0   5.0   6.535833   \n",
       "22   2009-08-23         Burnley       Everton   1.0   0.0   3.226667   \n",
       "23   2009-08-23          Fulham       Chelsea   0.0   2.0   6.476667   \n",
       "24   2009-08-23        West Ham     Tottenham   1.0   2.0   3.041667   \n",
       "25   2009-08-24       Liverpool   Aston Villa   1.0   3.0   1.426667   \n",
       "26   2009-08-29       Blackburn      West Ham   0.0   0.0   2.181667   \n",
       "27   2009-08-29          Bolton     Liverpool   2.0   3.0   6.074167   \n",
       "28   2009-08-29         Chelsea       Burnley   3.0   0.0   1.139167   \n",
       "29   2009-08-29      Man United       Arsenal   2.0   1.0   2.113333   \n",
       "...         ...             ...           ...   ...   ...        ...   \n",
       "3869 2019-09-03  Crystal Palace      Brighton   1.0   2.0   1.852222   \n",
       "3870 2019-09-03    Huddersfield   Bournemouth   0.0   2.0   3.425556   \n",
       "3871 2019-09-03       Leicester        Fulham   3.0   1.0   1.597778   \n",
       "3872 2019-09-03        Man City       Watford   3.0   1.0   1.143333   \n",
       "3873 2019-09-03       Newcastle       Everton   3.0   2.0   2.797778   \n",
       "3874 2019-09-03     Southampton     Tottenham   2.0   1.0   4.366667   \n",
       "3875 2019-10-02        Man City       Chelsea   6.0   0.0   1.522222   \n",
       "3876 2019-10-02       Tottenham     Leicester   3.0   1.0   1.704444   \n",
       "3877 2019-10-03         Arsenal    Man United   2.0   0.0   2.406667   \n",
       "3878 2019-10-03         Chelsea        Wolves   1.0   1.0   1.562222   \n",
       "3879 2019-10-03       Liverpool       Burnley   4.0   2.0   1.171111   \n",
       "3880 2019-11-02          Wolves     Newcastle   1.0   1.0   1.710000   \n",
       "3881 2019-12-01        Brighton     Liverpool   0.0   1.0  10.047778   \n",
       "3882 2019-12-01         Burnley        Fulham   2.0   1.0   2.392222   \n",
       "3883 2019-12-01         Cardiff  Huddersfield   0.0   0.0   2.237778   \n",
       "3884 2019-12-01         Chelsea     Newcastle   2.0   1.0   1.224444   \n",
       "3885 2019-12-01  Crystal Palace       Watford   1.0   2.0   2.253333   \n",
       "3886 2019-12-01       Leicester   Southampton   1.0   2.0   1.934444   \n",
       "3887 2019-12-01        West Ham       Arsenal   1.0   0.0   3.482222   \n",
       "3888 2019-12-04       Leicester     Newcastle   0.0   1.0   1.657778   \n",
       "3889 2019-12-05        Brighton      Man City   1.0   4.0  17.804444   \n",
       "3890 2019-12-05         Burnley       Arsenal   1.0   3.0   3.087778   \n",
       "3891 2019-12-05  Crystal Palace   Bournemouth   5.0   3.0   1.858889   \n",
       "3892 2019-12-05          Fulham     Newcastle   0.0   4.0   2.517778   \n",
       "3893 2019-12-05       Leicester       Chelsea   0.0   0.0   2.398889   \n",
       "3894 2019-12-05       Liverpool        Wolves   2.0   0.0   1.306667   \n",
       "3895 2019-12-05      Man United       Cardiff   0.0   2.0   1.280000   \n",
       "3896 2019-12-05     Southampton  Huddersfield   1.0   1.0   1.417778   \n",
       "3897 2019-12-05       Tottenham       Everton   2.0   2.0   2.094444   \n",
       "3898 2019-12-05         Watford      West Ham   1.0   4.0   2.202222   \n",
       "\n",
       "         Odd-N      Odd-2  Target   Date_H_x  ...   Date_H_y   H_L3GG_y  \\\n",
       "0     3.490000   5.252500       3 2009-08-15  ... 2009-08-15   3.174905   \n",
       "1     3.228333   2.143333       3 2009-08-15  ... 2009-08-15   3.504505   \n",
       "2     3.217500   3.154167       3 2009-08-15  ... 2009-08-15   3.720721   \n",
       "3     6.143333  16.960833       1 2009-08-15  ... 2009-08-15   5.737401   \n",
       "4     3.204167   2.279167       3 2009-08-15  ... 2009-08-15   4.297082   \n",
       "5     3.202500   2.708333       3 2009-08-15  ... 2009-08-15   2.685714   \n",
       "6     3.275833   4.015833       1 2009-08-15  ... 2009-08-15   3.165192   \n",
       "7     3.228333   2.672500       3 2009-08-15  ... 2009-08-15   3.295302   \n",
       "8     5.810833  15.749167       1 2009-08-16  ... 2009-08-16   5.564987   \n",
       "9     3.218333   2.235000       1 2009-08-16  ... 2009-08-16   5.217507   \n",
       "10    3.774167   1.521667       3 2009-08-18  ... 2009-08-18   3.252492   \n",
       "11    3.498333   5.046667       3 2009-08-18  ... 2009-08-18   3.268456   \n",
       "12    3.287500   3.650000       1 2009-08-19  ... 2009-08-19   2.986301   \n",
       "13    4.762500   1.319167       1 2009-08-19  ... 2009-08-19   2.994652   \n",
       "14    3.327500   1.984167       3 2009-08-19  ... 2009-08-19   2.791946   \n",
       "15    5.254167  12.761667       1 2009-08-19  ... 2009-08-19   5.562334   \n",
       "16    6.388333  16.373333       1 2009-08-22  ... 2009-08-22   5.729443   \n",
       "17    3.227500   3.233333       2 2009-08-22  ... 2009-08-22   2.986301   \n",
       "18    3.230833   2.858333       1 2009-08-22  ... 2009-08-22   2.791946   \n",
       "19    4.700833  10.201667       1 2009-08-22  ... 2009-08-22   6.511936   \n",
       "20    3.276667   3.600833       1 2009-08-22  ... 2009-08-22   3.252492   \n",
       "21    3.846667   1.530833       3 2009-08-22  ... 2009-08-22   3.268456   \n",
       "22    3.251667   2.222500       1 2009-08-23  ... 2009-08-23   2.994652   \n",
       "23    3.689167   1.555000       3 2009-08-23  ... 2009-08-23   3.444444   \n",
       "24    3.271667   2.320833       3 2009-08-23  ... 2009-08-23   3.758112   \n",
       "25    4.155833   7.893333       3 2009-08-24  ... 2009-08-24   5.562334   \n",
       "26    3.231667   3.294167       2 2009-08-29  ... 2009-08-29   3.504505   \n",
       "27    3.790833   1.551667       3 2009-08-29  ... 2009-08-29   3.720721   \n",
       "28    7.215000  17.739167       1 2009-08-29  ... 2009-08-29   7.000000   \n",
       "29    3.240833   3.441667       1 2009-08-29  ... 2009-08-29   6.000000   \n",
       "...        ...        ...     ...        ...  ...        ...        ...   \n",
       "3869  3.485556   4.874444       3 2019-09-03  ... 2019-09-03   2.000000   \n",
       "3870  3.255556   2.320000       3 2019-09-03  ... 2019-09-03   3.000000   \n",
       "3871  4.313333   5.767778       1 2019-09-03  ... 2019-09-03   7.000000   \n",
       "3872  9.025556  19.707778       1 2019-09-03  ... 2019-09-03   4.000000   \n",
       "3873  3.153333   2.804444       1 2019-09-03  ... 2019-09-03   4.000000   \n",
       "3874  3.771111   1.866667       1 2019-09-03  ... 2019-09-03   5.000000   \n",
       "3875  4.481111   6.628889       1 2019-10-02  ... 2019-10-02   6.000000   \n",
       "3876  3.847778   5.443333       1 2019-10-02  ... 2019-10-02   2.000000   \n",
       "3877  3.556667   2.982222       1 2019-10-03  ... 2019-10-03   3.000000   \n",
       "3878  4.106667   6.877778       2 2019-10-03  ... 2019-10-03   5.000000   \n",
       "3879  7.905556  18.687778       1 2019-10-03  ... 2019-10-03  11.000000   \n",
       "3880  3.692222   5.691111       2 2019-11-02  ... 2019-11-02   6.000000   \n",
       "3881  5.550000   1.325556       3 2019-12-01  ... 2019-12-01   4.000000   \n",
       "3882  3.264444   3.258889       1 2019-12-01  ... 2019-12-01   8.000000   \n",
       "3883  3.174444   3.685556       2 2019-12-01  ... 2019-12-01   4.000000   \n",
       "3884  6.630000  15.155556       1 2019-12-01  ... 2019-12-01   3.000000   \n",
       "3885  3.366667   3.440000       3 2019-12-01  ... 2019-12-01   3.000000   \n",
       "3886  3.506667   4.354444       3 2019-12-01  ... 2019-12-01   4.000000   \n",
       "3887  3.850000   2.063333       1 2019-12-01  ... 2019-12-01   1.000000   \n",
       "3888  3.916667   5.842222       3 2019-12-04  ... 2019-12-04   5.000000   \n",
       "3889  8.215556   1.164444       3 2019-12-05  ... 2019-12-05   3.000000   \n",
       "3890  3.770000   2.272222       3 2019-12-05  ... 2019-12-05   7.000000   \n",
       "3891  4.098889   3.958889       1 2019-12-05  ... 2019-12-05   3.000000   \n",
       "3892  3.555556   2.818889       3 2019-12-05  ... 2019-12-05   2.000000   \n",
       "3893  3.638889   2.920000       2 2019-12-05  ... 2019-12-05   2.000000   \n",
       "3894  5.742222  10.443333       1 2019-12-05  ... 2019-12-05   8.000000   \n",
       "3895  6.324444  10.357778       3 2019-12-05  ... 2019-12-05   4.000000   \n",
       "3896  4.888889   7.983333       2 2019-12-05  ... 2019-12-05   5.000000   \n",
       "3897  3.567778   3.663333       2 2019-12-05  ... 2019-12-05   4.000000   \n",
       "3898  3.776667   3.188889       3 2019-12-05  ... 2019-12-05   4.000000   \n",
       "\n",
       "      H_L3GX_y  H_L3PT_y        Team_H_y   Date_A_y   A_L3GG_y  A_L3GX_y  \\\n",
       "0     4.688213  3.190114     Aston Villa 2009-08-15   3.268456  5.436242   \n",
       "1     5.027027  3.243243       Blackburn 2009-08-15   6.511936  2.742706   \n",
       "2     5.288288  3.216216          Bolton 2009-08-15   3.252492  4.475083   \n",
       "3     2.944297  5.917772         Chelsea 2009-08-15   2.791946  5.087248   \n",
       "4     3.639257  4.480106         Everton 2009-08-15   5.729443  3.392573   \n",
       "5     5.371429  2.200000      Portsmouth 2009-08-15   3.444444  4.786667   \n",
       "6     4.117994  3.622419           Stoke 2009-08-15   2.994652  4.663102   \n",
       "7     4.946309  3.181208          Wolves 2009-08-15   3.758112  4.625369   \n",
       "8     2.891247  6.015915      Man United 2009-08-16   2.986301  4.246575   \n",
       "9     3.259947  5.602122       Tottenham 2009-08-16   5.562334  3.262599   \n",
       "10    4.475083  3.099668      Sunderland 2009-08-18   5.737401  2.944297   \n",
       "11    5.436242  3.100671           Wigan 2009-08-18   3.295302  4.946309   \n",
       "12    4.246575  3.452055      Birmingham 2009-08-19   2.685714  5.371429   \n",
       "13    4.663102  3.112299         Burnley 2009-08-19   5.564987  2.891247   \n",
       "14    5.087248  2.677852            Hull 2009-08-19   5.217507  3.259947   \n",
       "15    3.262599  5.419098       Liverpool 2009-08-19   3.165192  4.117994   \n",
       "16    3.392573  5.665782         Arsenal 2009-08-22   2.685714  5.371429   \n",
       "17    4.246575  3.452055      Birmingham 2009-08-22   3.165192  4.117994   \n",
       "18    5.087248  2.677852            Hull 2009-08-22   3.720721  5.288288   \n",
       "19    2.742706  6.389920        Man City 2009-08-22   3.295302  4.946309   \n",
       "20    4.475083  3.099668      Sunderland 2009-08-22   3.504505  5.027027   \n",
       "21    5.436242  3.100671           Wigan 2009-08-22   5.564987  2.891247   \n",
       "22    4.663102  3.112299         Burnley 2009-08-23   4.297082  3.639257   \n",
       "23    4.786667  3.280000          Fulham 2009-08-23   5.737401  2.944297   \n",
       "24    4.625369  3.495575        West Ham 2009-08-23   5.217507  3.259947   \n",
       "25    3.262599  5.419098       Liverpool 2009-08-24   3.174905  4.688213   \n",
       "26    5.027027  3.243243       Blackburn 2009-08-29   3.758112  4.625369   \n",
       "27    5.288288  3.216216          Bolton 2009-08-29   6.000000  5.000000   \n",
       "28    2.000000  9.000000         Chelsea 2009-08-29   2.000000  2.000000   \n",
       "29    1.000000  6.000000      Man United 2009-08-29   5.729443  3.392573   \n",
       "...        ...       ...             ...        ...        ...       ...   \n",
       "3869  1.000000  5.000000  Crystal Palace 2019-09-03   3.000000  5.000000   \n",
       "3870  7.000000  1.000000    Huddersfield 2019-09-03   4.000000  9.000000   \n",
       "3871  2.000000  6.000000       Leicester 2019-09-03   2.000000  3.000000   \n",
       "3872  0.000000  9.000000        Man City 2019-09-03   2.000000  5.000000   \n",
       "3873  3.000000  4.000000       Newcastle 2019-09-03   1.000000  3.000000   \n",
       "3874  8.000000  1.000000     Southampton 2019-09-03   1.000000  2.000000   \n",
       "3875  1.000000  9.000000        Man City 2019-10-02   6.000000  1.000000   \n",
       "3876  3.000000  3.000000       Tottenham 2019-10-02   7.000000  3.000000   \n",
       "3877  3.000000  4.000000         Arsenal 2019-10-03   5.000000  2.000000   \n",
       "3878  6.000000  6.000000         Chelsea 2019-10-03   5.000000  2.000000   \n",
       "3879  1.000000  9.000000       Liverpool 2019-10-03   6.000000  3.000000   \n",
       "3880  3.000000  7.000000          Wolves 2019-11-02   4.000000  4.000000   \n",
       "3881  5.000000  4.000000        Brighton 2019-12-01  10.000000  3.000000   \n",
       "3882  6.000000  6.000000         Burnley 2019-12-01   2.000000  6.000000   \n",
       "3883  2.000000  6.000000         Cardiff 2019-12-01   2.000000  8.000000   \n",
       "3884  7.000000  4.000000         Chelsea 2019-12-01   4.000000  4.000000   \n",
       "3885  3.000000  4.000000  Crystal Palace 2019-12-01   2.000000  6.000000   \n",
       "3886  5.000000  3.000000       Leicester 2019-12-01   4.000000  6.000000   \n",
       "3887  5.000000  1.000000        West Ham 2019-12-01   4.000000  2.000000   \n",
       "3888  6.000000  3.000000       Leicester 2019-12-04   5.000000  5.000000   \n",
       "3889  5.000000  3.000000        Brighton 2019-12-05  10.000000  1.000000   \n",
       "3890  6.000000  6.000000         Burnley 2019-12-05   4.000000  2.000000   \n",
       "3891  5.000000  1.000000  Crystal Palace 2019-12-05   3.000000  6.000000   \n",
       "3892  8.000000  0.000000          Fulham 2019-12-05   3.000000  3.000000   \n",
       "3893  6.000000  0.000000       Leicester 2019-12-05   3.000000  8.000000   \n",
       "3894  2.000000  9.000000       Liverpool 2019-12-05   4.000000  3.000000   \n",
       "3895  3.000000  4.000000      Man United 2019-12-05   4.000000  1.000000   \n",
       "3896  4.000000  6.000000     Southampton 2019-12-05   1.000000  4.000000   \n",
       "3897  4.000000  3.000000       Tottenham 2019-12-05   3.000000  4.000000   \n",
       "3898  4.000000  6.000000         Watford 2019-12-05   2.000000  3.000000   \n",
       "\n",
       "      A_L3PT_y      Team_A_y  \n",
       "0     3.100671         Wigan  \n",
       "1     6.389920      Man City  \n",
       "2     3.099668    Sunderland  \n",
       "3     2.677852          Hull  \n",
       "4     5.665782       Arsenal  \n",
       "5     3.280000        Fulham  \n",
       "6     3.112299       Burnley  \n",
       "7     3.495575      West Ham  \n",
       "8     3.452055    Birmingham  \n",
       "9     5.419098     Liverpool  \n",
       "10    5.917772       Chelsea  \n",
       "11    3.181208        Wolves  \n",
       "12    2.200000    Portsmouth  \n",
       "13    6.015915    Man United  \n",
       "14    5.602122     Tottenham  \n",
       "15    3.622419         Stoke  \n",
       "16    2.200000    Portsmouth  \n",
       "17    3.622419         Stoke  \n",
       "18    3.216216        Bolton  \n",
       "19    3.181208        Wolves  \n",
       "20    3.243243     Blackburn  \n",
       "21    6.015915    Man United  \n",
       "22    4.480106       Everton  \n",
       "23    5.917772       Chelsea  \n",
       "24    5.602122     Tottenham  \n",
       "25    3.190114   Aston Villa  \n",
       "26    3.495575      West Ham  \n",
       "27    3.000000     Liverpool  \n",
       "28    6.000000       Burnley  \n",
       "29    5.665782       Arsenal  \n",
       "...        ...           ...  \n",
       "3869  2.000000      Brighton  \n",
       "3870  1.000000   Bournemouth  \n",
       "3871  6.000000        Fulham  \n",
       "3872  3.000000       Watford  \n",
       "3873  3.000000       Everton  \n",
       "3874  3.000000     Tottenham  \n",
       "3875  7.000000       Chelsea  \n",
       "3876  6.000000     Leicester  \n",
       "3877  5.000000    Man United  \n",
       "3878  7.000000        Wolves  \n",
       "3879  6.000000       Burnley  \n",
       "3880  4.000000     Newcastle  \n",
       "3881  9.000000     Liverpool  \n",
       "3882  3.000000        Fulham  \n",
       "3883  0.000000  Huddersfield  \n",
       "3884  4.000000     Newcastle  \n",
       "3885  3.000000       Watford  \n",
       "3886  3.000000   Southampton  \n",
       "3887  6.000000       Arsenal  \n",
       "3888  4.000000     Newcastle  \n",
       "3889  9.000000      Man City  \n",
       "3890  6.000000       Arsenal  \n",
       "3891  3.000000   Bournemouth  \n",
       "3892  4.000000     Newcastle  \n",
       "3893  4.000000       Chelsea  \n",
       "3894  5.000000        Wolves  \n",
       "3895  7.000000       Cardiff  \n",
       "3896  1.000000  Huddersfield  \n",
       "3897  3.000000       Everton  \n",
       "3898  4.000000      West Ham  \n",
       "\n",
       "[3899 rows x 29 columns]"
      ]
     },
     "execution_count": 27,
     "metadata": {},
     "output_type": "execute_result"
    }
   ],
   "source": [
    "all_teams.columns = ['Date_H','H_L3GG','H_L3GX','H_L3PT','Team_H']\n",
    "bet=bet.merge(all_teams, how='left', left_on=['Hteam','Date'], right_on=['Team_H','Date_H'])\n",
    "\n",
    "all_teams.columns = ['Date_A','A_L3GG','A_L3GX','A_L3PT','Team_A']\n",
    "bet=bet.merge(all_teams, how='left', left_on=['Ateam','Date'], right_on=['Team_A','Date_A'])\n",
    "\n",
    "bet"
   ]
  },
  {
   "cell_type": "code",
   "execution_count": 28,
   "metadata": {},
   "outputs": [
    {
     "data": {
      "text/plain": [
       "Index(['Date', 'Hteam', 'Ateam', 'FTHG', 'FTAG', 'Odd-1', 'Odd-N', 'Odd-2',\n",
       "       'Target', 'Date_H_x', 'H_L3GG_x', 'H_L3GX_x', 'H_L3PT_x', 'Team_H_x',\n",
       "       'Date_A_x', 'A_L3GG_x', 'A_L3GX_x', 'A_L3PT_x', 'Team_A_x', 'Date_H_y',\n",
       "       'H_L3GG_y', 'H_L3GX_y', 'H_L3PT_y', 'Team_H_y', 'Date_A_y', 'A_L3GG_y',\n",
       "       'A_L3GX_y', 'A_L3PT_y', 'Team_A_y'],\n",
       "      dtype='object')"
      ]
     },
     "execution_count": 28,
     "metadata": {},
     "output_type": "execute_result"
    }
   ],
   "source": [
    "bet.columns"
   ]
  },
  {
   "cell_type": "code",
   "execution_count": 29,
   "metadata": {},
   "outputs": [],
   "source": [
    "bet = bet[['Date', 'Hteam', 'Ateam',\n",
    "           'Odd-1', 'Odd-N', 'Odd-2',\n",
    "           'H_L3GG_x', 'H_L3GX_x', 'H_L3PT_x',\n",
    "           'A_L3GG_x', 'A_L3GX_x', 'A_L3PT_x',\n",
    "       'Target']]"
   ]
  },
  {
   "cell_type": "code",
   "execution_count": 30,
   "metadata": {},
   "outputs": [
    {
     "data": {
      "text/html": [
       "<div>\n",
       "<style scoped>\n",
       "    .dataframe tbody tr th:only-of-type {\n",
       "        vertical-align: middle;\n",
       "    }\n",
       "\n",
       "    .dataframe tbody tr th {\n",
       "        vertical-align: top;\n",
       "    }\n",
       "\n",
       "    .dataframe thead th {\n",
       "        text-align: right;\n",
       "    }\n",
       "</style>\n",
       "<table border=\"1\" class=\"dataframe\">\n",
       "  <thead>\n",
       "    <tr style=\"text-align: right;\">\n",
       "      <th></th>\n",
       "      <th>Date</th>\n",
       "      <th>Hteam</th>\n",
       "      <th>Ateam</th>\n",
       "      <th>Odd-1</th>\n",
       "      <th>Odd-N</th>\n",
       "      <th>Odd-2</th>\n",
       "      <th>H_L3GG_x</th>\n",
       "      <th>H_L3GX_x</th>\n",
       "      <th>H_L3PT_x</th>\n",
       "      <th>A_L3GG_x</th>\n",
       "      <th>A_L3GX_x</th>\n",
       "      <th>A_L3PT_x</th>\n",
       "      <th>Target</th>\n",
       "    </tr>\n",
       "  </thead>\n",
       "  <tbody>\n",
       "    <tr>\n",
       "      <th>0</th>\n",
       "      <td>2009-08-15</td>\n",
       "      <td>Aston Villa</td>\n",
       "      <td>Wigan</td>\n",
       "      <td>1.673333</td>\n",
       "      <td>3.490000</td>\n",
       "      <td>5.252500</td>\n",
       "      <td>3.174905</td>\n",
       "      <td>4.688213</td>\n",
       "      <td>3.190114</td>\n",
       "      <td>3.174905</td>\n",
       "      <td>4.688213</td>\n",
       "      <td>3.190114</td>\n",
       "      <td>3</td>\n",
       "    </tr>\n",
       "    <tr>\n",
       "      <th>1</th>\n",
       "      <td>2009-08-15</td>\n",
       "      <td>Blackburn</td>\n",
       "      <td>Man City</td>\n",
       "      <td>3.354167</td>\n",
       "      <td>3.228333</td>\n",
       "      <td>2.143333</td>\n",
       "      <td>3.504505</td>\n",
       "      <td>5.027027</td>\n",
       "      <td>3.243243</td>\n",
       "      <td>3.504505</td>\n",
       "      <td>5.027027</td>\n",
       "      <td>3.243243</td>\n",
       "      <td>3</td>\n",
       "    </tr>\n",
       "    <tr>\n",
       "      <th>2</th>\n",
       "      <td>2009-08-15</td>\n",
       "      <td>Bolton</td>\n",
       "      <td>Sunderland</td>\n",
       "      <td>2.238333</td>\n",
       "      <td>3.217500</td>\n",
       "      <td>3.154167</td>\n",
       "      <td>3.720721</td>\n",
       "      <td>5.288288</td>\n",
       "      <td>3.216216</td>\n",
       "      <td>3.720721</td>\n",
       "      <td>5.288288</td>\n",
       "      <td>3.216216</td>\n",
       "      <td>3</td>\n",
       "    </tr>\n",
       "    <tr>\n",
       "      <th>3</th>\n",
       "      <td>2009-08-15</td>\n",
       "      <td>Chelsea</td>\n",
       "      <td>Hull</td>\n",
       "      <td>1.180833</td>\n",
       "      <td>6.143333</td>\n",
       "      <td>16.960833</td>\n",
       "      <td>5.737401</td>\n",
       "      <td>2.944297</td>\n",
       "      <td>5.917772</td>\n",
       "      <td>5.737401</td>\n",
       "      <td>2.944297</td>\n",
       "      <td>5.917772</td>\n",
       "      <td>1</td>\n",
       "    </tr>\n",
       "    <tr>\n",
       "      <th>4</th>\n",
       "      <td>2009-08-15</td>\n",
       "      <td>Everton</td>\n",
       "      <td>Arsenal</td>\n",
       "      <td>3.095000</td>\n",
       "      <td>3.204167</td>\n",
       "      <td>2.279167</td>\n",
       "      <td>4.297082</td>\n",
       "      <td>3.639257</td>\n",
       "      <td>4.480106</td>\n",
       "      <td>4.297082</td>\n",
       "      <td>3.639257</td>\n",
       "      <td>4.480106</td>\n",
       "      <td>3</td>\n",
       "    </tr>\n",
       "    <tr>\n",
       "      <th>5</th>\n",
       "      <td>2009-08-15</td>\n",
       "      <td>Portsmouth</td>\n",
       "      <td>Fulham</td>\n",
       "      <td>2.554167</td>\n",
       "      <td>3.202500</td>\n",
       "      <td>2.708333</td>\n",
       "      <td>2.685714</td>\n",
       "      <td>5.371429</td>\n",
       "      <td>2.200000</td>\n",
       "      <td>2.685714</td>\n",
       "      <td>5.371429</td>\n",
       "      <td>2.200000</td>\n",
       "      <td>3</td>\n",
       "    </tr>\n",
       "    <tr>\n",
       "      <th>6</th>\n",
       "      <td>2009-08-15</td>\n",
       "      <td>Stoke</td>\n",
       "      <td>Burnley</td>\n",
       "      <td>1.916667</td>\n",
       "      <td>3.275833</td>\n",
       "      <td>4.015833</td>\n",
       "      <td>3.165192</td>\n",
       "      <td>4.117994</td>\n",
       "      <td>3.622419</td>\n",
       "      <td>3.165192</td>\n",
       "      <td>4.117994</td>\n",
       "      <td>3.622419</td>\n",
       "      <td>1</td>\n",
       "    </tr>\n",
       "    <tr>\n",
       "      <th>7</th>\n",
       "      <td>2009-08-15</td>\n",
       "      <td>Wolves</td>\n",
       "      <td>West Ham</td>\n",
       "      <td>2.556667</td>\n",
       "      <td>3.228333</td>\n",
       "      <td>2.672500</td>\n",
       "      <td>3.295302</td>\n",
       "      <td>4.946309</td>\n",
       "      <td>3.181208</td>\n",
       "      <td>3.295302</td>\n",
       "      <td>4.946309</td>\n",
       "      <td>3.181208</td>\n",
       "      <td>3</td>\n",
       "    </tr>\n",
       "    <tr>\n",
       "      <th>8</th>\n",
       "      <td>2009-08-16</td>\n",
       "      <td>Man United</td>\n",
       "      <td>Birmingham</td>\n",
       "      <td>1.195000</td>\n",
       "      <td>5.810833</td>\n",
       "      <td>15.749167</td>\n",
       "      <td>5.564987</td>\n",
       "      <td>2.891247</td>\n",
       "      <td>6.015915</td>\n",
       "      <td>5.564987</td>\n",
       "      <td>2.891247</td>\n",
       "      <td>6.015915</td>\n",
       "      <td>1</td>\n",
       "    </tr>\n",
       "    <tr>\n",
       "      <th>9</th>\n",
       "      <td>2009-08-16</td>\n",
       "      <td>Tottenham</td>\n",
       "      <td>Liverpool</td>\n",
       "      <td>3.124167</td>\n",
       "      <td>3.218333</td>\n",
       "      <td>2.235000</td>\n",
       "      <td>5.217507</td>\n",
       "      <td>3.259947</td>\n",
       "      <td>5.602122</td>\n",
       "      <td>5.217507</td>\n",
       "      <td>3.259947</td>\n",
       "      <td>5.602122</td>\n",
       "      <td>1</td>\n",
       "    </tr>\n",
       "    <tr>\n",
       "      <th>10</th>\n",
       "      <td>2009-08-18</td>\n",
       "      <td>Sunderland</td>\n",
       "      <td>Chelsea</td>\n",
       "      <td>6.835833</td>\n",
       "      <td>3.774167</td>\n",
       "      <td>1.521667</td>\n",
       "      <td>3.252492</td>\n",
       "      <td>4.475083</td>\n",
       "      <td>3.099668</td>\n",
       "      <td>3.252492</td>\n",
       "      <td>4.475083</td>\n",
       "      <td>3.099668</td>\n",
       "      <td>3</td>\n",
       "    </tr>\n",
       "    <tr>\n",
       "      <th>11</th>\n",
       "      <td>2009-08-18</td>\n",
       "      <td>Wigan</td>\n",
       "      <td>Wolves</td>\n",
       "      <td>1.719167</td>\n",
       "      <td>3.498333</td>\n",
       "      <td>5.046667</td>\n",
       "      <td>3.268456</td>\n",
       "      <td>5.436242</td>\n",
       "      <td>3.100671</td>\n",
       "      <td>3.268456</td>\n",
       "      <td>5.436242</td>\n",
       "      <td>3.100671</td>\n",
       "      <td>3</td>\n",
       "    </tr>\n",
       "    <tr>\n",
       "      <th>12</th>\n",
       "      <td>2009-08-19</td>\n",
       "      <td>Birmingham</td>\n",
       "      <td>Portsmouth</td>\n",
       "      <td>2.036667</td>\n",
       "      <td>3.287500</td>\n",
       "      <td>3.650000</td>\n",
       "      <td>2.986301</td>\n",
       "      <td>4.246575</td>\n",
       "      <td>3.452055</td>\n",
       "      <td>2.986301</td>\n",
       "      <td>4.246575</td>\n",
       "      <td>3.452055</td>\n",
       "      <td>1</td>\n",
       "    </tr>\n",
       "    <tr>\n",
       "      <th>13</th>\n",
       "      <td>2009-08-19</td>\n",
       "      <td>Burnley</td>\n",
       "      <td>Man United</td>\n",
       "      <td>10.024167</td>\n",
       "      <td>4.762500</td>\n",
       "      <td>1.319167</td>\n",
       "      <td>2.994652</td>\n",
       "      <td>4.663102</td>\n",
       "      <td>3.112299</td>\n",
       "      <td>2.994652</td>\n",
       "      <td>4.663102</td>\n",
       "      <td>3.112299</td>\n",
       "      <td>1</td>\n",
       "    </tr>\n",
       "    <tr>\n",
       "      <th>14</th>\n",
       "      <td>2009-08-19</td>\n",
       "      <td>Hull</td>\n",
       "      <td>Tottenham</td>\n",
       "      <td>3.757500</td>\n",
       "      <td>3.327500</td>\n",
       "      <td>1.984167</td>\n",
       "      <td>2.791946</td>\n",
       "      <td>5.087248</td>\n",
       "      <td>2.677852</td>\n",
       "      <td>2.791946</td>\n",
       "      <td>5.087248</td>\n",
       "      <td>2.677852</td>\n",
       "      <td>3</td>\n",
       "    </tr>\n",
       "    <tr>\n",
       "      <th>15</th>\n",
       "      <td>2009-08-19</td>\n",
       "      <td>Liverpool</td>\n",
       "      <td>Stoke</td>\n",
       "      <td>1.252500</td>\n",
       "      <td>5.254167</td>\n",
       "      <td>12.761667</td>\n",
       "      <td>5.562334</td>\n",
       "      <td>3.262599</td>\n",
       "      <td>5.419098</td>\n",
       "      <td>5.562334</td>\n",
       "      <td>3.262599</td>\n",
       "      <td>5.419098</td>\n",
       "      <td>1</td>\n",
       "    </tr>\n",
       "    <tr>\n",
       "      <th>16</th>\n",
       "      <td>2009-08-22</td>\n",
       "      <td>Arsenal</td>\n",
       "      <td>Portsmouth</td>\n",
       "      <td>1.180000</td>\n",
       "      <td>6.388333</td>\n",
       "      <td>16.373333</td>\n",
       "      <td>5.729443</td>\n",
       "      <td>3.392573</td>\n",
       "      <td>5.665782</td>\n",
       "      <td>5.729443</td>\n",
       "      <td>3.392573</td>\n",
       "      <td>5.665782</td>\n",
       "      <td>1</td>\n",
       "    </tr>\n",
       "    <tr>\n",
       "      <th>17</th>\n",
       "      <td>2009-08-22</td>\n",
       "      <td>Birmingham</td>\n",
       "      <td>Stoke</td>\n",
       "      <td>2.245000</td>\n",
       "      <td>3.227500</td>\n",
       "      <td>3.233333</td>\n",
       "      <td>2.986301</td>\n",
       "      <td>4.246575</td>\n",
       "      <td>3.452055</td>\n",
       "      <td>2.986301</td>\n",
       "      <td>4.246575</td>\n",
       "      <td>3.452055</td>\n",
       "      <td>2</td>\n",
       "    </tr>\n",
       "    <tr>\n",
       "      <th>18</th>\n",
       "      <td>2009-08-22</td>\n",
       "      <td>Hull</td>\n",
       "      <td>Bolton</td>\n",
       "      <td>2.460000</td>\n",
       "      <td>3.230833</td>\n",
       "      <td>2.858333</td>\n",
       "      <td>2.791946</td>\n",
       "      <td>5.087248</td>\n",
       "      <td>2.677852</td>\n",
       "      <td>2.791946</td>\n",
       "      <td>5.087248</td>\n",
       "      <td>2.677852</td>\n",
       "      <td>1</td>\n",
       "    </tr>\n",
       "    <tr>\n",
       "      <th>19</th>\n",
       "      <td>2009-08-22</td>\n",
       "      <td>Man City</td>\n",
       "      <td>Wolves</td>\n",
       "      <td>1.325833</td>\n",
       "      <td>4.700833</td>\n",
       "      <td>10.201667</td>\n",
       "      <td>6.511936</td>\n",
       "      <td>2.742706</td>\n",
       "      <td>6.389920</td>\n",
       "      <td>6.511936</td>\n",
       "      <td>2.742706</td>\n",
       "      <td>6.389920</td>\n",
       "      <td>1</td>\n",
       "    </tr>\n",
       "    <tr>\n",
       "      <th>20</th>\n",
       "      <td>2009-08-22</td>\n",
       "      <td>Sunderland</td>\n",
       "      <td>Blackburn</td>\n",
       "      <td>2.060833</td>\n",
       "      <td>3.276667</td>\n",
       "      <td>3.600833</td>\n",
       "      <td>3.252492</td>\n",
       "      <td>4.475083</td>\n",
       "      <td>3.099668</td>\n",
       "      <td>3.252492</td>\n",
       "      <td>4.475083</td>\n",
       "      <td>3.099668</td>\n",
       "      <td>1</td>\n",
       "    </tr>\n",
       "    <tr>\n",
       "      <th>21</th>\n",
       "      <td>2009-08-22</td>\n",
       "      <td>Wigan</td>\n",
       "      <td>Man United</td>\n",
       "      <td>6.535833</td>\n",
       "      <td>3.846667</td>\n",
       "      <td>1.530833</td>\n",
       "      <td>3.268456</td>\n",
       "      <td>5.436242</td>\n",
       "      <td>3.100671</td>\n",
       "      <td>3.268456</td>\n",
       "      <td>5.436242</td>\n",
       "      <td>3.100671</td>\n",
       "      <td>3</td>\n",
       "    </tr>\n",
       "    <tr>\n",
       "      <th>22</th>\n",
       "      <td>2009-08-23</td>\n",
       "      <td>Burnley</td>\n",
       "      <td>Everton</td>\n",
       "      <td>3.226667</td>\n",
       "      <td>3.251667</td>\n",
       "      <td>2.222500</td>\n",
       "      <td>2.994652</td>\n",
       "      <td>4.663102</td>\n",
       "      <td>3.112299</td>\n",
       "      <td>2.994652</td>\n",
       "      <td>4.663102</td>\n",
       "      <td>3.112299</td>\n",
       "      <td>1</td>\n",
       "    </tr>\n",
       "    <tr>\n",
       "      <th>23</th>\n",
       "      <td>2009-08-23</td>\n",
       "      <td>Fulham</td>\n",
       "      <td>Chelsea</td>\n",
       "      <td>6.476667</td>\n",
       "      <td>3.689167</td>\n",
       "      <td>1.555000</td>\n",
       "      <td>3.444444</td>\n",
       "      <td>4.786667</td>\n",
       "      <td>3.280000</td>\n",
       "      <td>3.444444</td>\n",
       "      <td>4.786667</td>\n",
       "      <td>3.280000</td>\n",
       "      <td>3</td>\n",
       "    </tr>\n",
       "    <tr>\n",
       "      <th>24</th>\n",
       "      <td>2009-08-23</td>\n",
       "      <td>West Ham</td>\n",
       "      <td>Tottenham</td>\n",
       "      <td>3.041667</td>\n",
       "      <td>3.271667</td>\n",
       "      <td>2.320833</td>\n",
       "      <td>3.758112</td>\n",
       "      <td>4.625369</td>\n",
       "      <td>3.495575</td>\n",
       "      <td>3.758112</td>\n",
       "      <td>4.625369</td>\n",
       "      <td>3.495575</td>\n",
       "      <td>3</td>\n",
       "    </tr>\n",
       "    <tr>\n",
       "      <th>25</th>\n",
       "      <td>2009-08-24</td>\n",
       "      <td>Liverpool</td>\n",
       "      <td>Aston Villa</td>\n",
       "      <td>1.426667</td>\n",
       "      <td>4.155833</td>\n",
       "      <td>7.893333</td>\n",
       "      <td>5.562334</td>\n",
       "      <td>3.262599</td>\n",
       "      <td>5.419098</td>\n",
       "      <td>5.562334</td>\n",
       "      <td>3.262599</td>\n",
       "      <td>5.419098</td>\n",
       "      <td>3</td>\n",
       "    </tr>\n",
       "    <tr>\n",
       "      <th>26</th>\n",
       "      <td>2009-08-29</td>\n",
       "      <td>Blackburn</td>\n",
       "      <td>West Ham</td>\n",
       "      <td>2.181667</td>\n",
       "      <td>3.231667</td>\n",
       "      <td>3.294167</td>\n",
       "      <td>3.504505</td>\n",
       "      <td>5.027027</td>\n",
       "      <td>3.243243</td>\n",
       "      <td>3.504505</td>\n",
       "      <td>5.027027</td>\n",
       "      <td>3.243243</td>\n",
       "      <td>2</td>\n",
       "    </tr>\n",
       "    <tr>\n",
       "      <th>27</th>\n",
       "      <td>2009-08-29</td>\n",
       "      <td>Bolton</td>\n",
       "      <td>Liverpool</td>\n",
       "      <td>6.074167</td>\n",
       "      <td>3.790833</td>\n",
       "      <td>1.551667</td>\n",
       "      <td>3.720721</td>\n",
       "      <td>5.288288</td>\n",
       "      <td>3.216216</td>\n",
       "      <td>3.720721</td>\n",
       "      <td>5.288288</td>\n",
       "      <td>3.216216</td>\n",
       "      <td>3</td>\n",
       "    </tr>\n",
       "    <tr>\n",
       "      <th>28</th>\n",
       "      <td>2009-08-29</td>\n",
       "      <td>Chelsea</td>\n",
       "      <td>Burnley</td>\n",
       "      <td>1.139167</td>\n",
       "      <td>7.215000</td>\n",
       "      <td>17.739167</td>\n",
       "      <td>7.000000</td>\n",
       "      <td>2.000000</td>\n",
       "      <td>9.000000</td>\n",
       "      <td>7.000000</td>\n",
       "      <td>2.000000</td>\n",
       "      <td>9.000000</td>\n",
       "      <td>1</td>\n",
       "    </tr>\n",
       "    <tr>\n",
       "      <th>29</th>\n",
       "      <td>2009-08-29</td>\n",
       "      <td>Man United</td>\n",
       "      <td>Arsenal</td>\n",
       "      <td>2.113333</td>\n",
       "      <td>3.240833</td>\n",
       "      <td>3.441667</td>\n",
       "      <td>6.000000</td>\n",
       "      <td>1.000000</td>\n",
       "      <td>6.000000</td>\n",
       "      <td>6.000000</td>\n",
       "      <td>1.000000</td>\n",
       "      <td>6.000000</td>\n",
       "      <td>1</td>\n",
       "    </tr>\n",
       "    <tr>\n",
       "      <th>...</th>\n",
       "      <td>...</td>\n",
       "      <td>...</td>\n",
       "      <td>...</td>\n",
       "      <td>...</td>\n",
       "      <td>...</td>\n",
       "      <td>...</td>\n",
       "      <td>...</td>\n",
       "      <td>...</td>\n",
       "      <td>...</td>\n",
       "      <td>...</td>\n",
       "      <td>...</td>\n",
       "      <td>...</td>\n",
       "      <td>...</td>\n",
       "    </tr>\n",
       "    <tr>\n",
       "      <th>3869</th>\n",
       "      <td>2019-09-03</td>\n",
       "      <td>Crystal Palace</td>\n",
       "      <td>Brighton</td>\n",
       "      <td>1.852222</td>\n",
       "      <td>3.485556</td>\n",
       "      <td>4.874444</td>\n",
       "      <td>2.000000</td>\n",
       "      <td>1.000000</td>\n",
       "      <td>5.000000</td>\n",
       "      <td>2.000000</td>\n",
       "      <td>1.000000</td>\n",
       "      <td>5.000000</td>\n",
       "      <td>3</td>\n",
       "    </tr>\n",
       "    <tr>\n",
       "      <th>3870</th>\n",
       "      <td>2019-09-03</td>\n",
       "      <td>Huddersfield</td>\n",
       "      <td>Bournemouth</td>\n",
       "      <td>3.425556</td>\n",
       "      <td>3.255556</td>\n",
       "      <td>2.320000</td>\n",
       "      <td>3.000000</td>\n",
       "      <td>7.000000</td>\n",
       "      <td>1.000000</td>\n",
       "      <td>3.000000</td>\n",
       "      <td>7.000000</td>\n",
       "      <td>1.000000</td>\n",
       "      <td>3</td>\n",
       "    </tr>\n",
       "    <tr>\n",
       "      <th>3871</th>\n",
       "      <td>2019-09-03</td>\n",
       "      <td>Leicester</td>\n",
       "      <td>Fulham</td>\n",
       "      <td>1.597778</td>\n",
       "      <td>4.313333</td>\n",
       "      <td>5.767778</td>\n",
       "      <td>7.000000</td>\n",
       "      <td>2.000000</td>\n",
       "      <td>6.000000</td>\n",
       "      <td>7.000000</td>\n",
       "      <td>2.000000</td>\n",
       "      <td>6.000000</td>\n",
       "      <td>1</td>\n",
       "    </tr>\n",
       "    <tr>\n",
       "      <th>3872</th>\n",
       "      <td>2019-09-03</td>\n",
       "      <td>Man City</td>\n",
       "      <td>Watford</td>\n",
       "      <td>1.143333</td>\n",
       "      <td>9.025556</td>\n",
       "      <td>19.707778</td>\n",
       "      <td>4.000000</td>\n",
       "      <td>0.000000</td>\n",
       "      <td>9.000000</td>\n",
       "      <td>4.000000</td>\n",
       "      <td>0.000000</td>\n",
       "      <td>9.000000</td>\n",
       "      <td>1</td>\n",
       "    </tr>\n",
       "    <tr>\n",
       "      <th>3873</th>\n",
       "      <td>2019-09-03</td>\n",
       "      <td>Newcastle</td>\n",
       "      <td>Everton</td>\n",
       "      <td>2.797778</td>\n",
       "      <td>3.153333</td>\n",
       "      <td>2.804444</td>\n",
       "      <td>4.000000</td>\n",
       "      <td>3.000000</td>\n",
       "      <td>4.000000</td>\n",
       "      <td>4.000000</td>\n",
       "      <td>3.000000</td>\n",
       "      <td>4.000000</td>\n",
       "      <td>1</td>\n",
       "    </tr>\n",
       "    <tr>\n",
       "      <th>3874</th>\n",
       "      <td>2019-09-03</td>\n",
       "      <td>Southampton</td>\n",
       "      <td>Tottenham</td>\n",
       "      <td>4.366667</td>\n",
       "      <td>3.771111</td>\n",
       "      <td>1.866667</td>\n",
       "      <td>5.000000</td>\n",
       "      <td>8.000000</td>\n",
       "      <td>1.000000</td>\n",
       "      <td>5.000000</td>\n",
       "      <td>8.000000</td>\n",
       "      <td>1.000000</td>\n",
       "      <td>1</td>\n",
       "    </tr>\n",
       "    <tr>\n",
       "      <th>3875</th>\n",
       "      <td>2019-10-02</td>\n",
       "      <td>Man City</td>\n",
       "      <td>Chelsea</td>\n",
       "      <td>1.522222</td>\n",
       "      <td>4.481111</td>\n",
       "      <td>6.628889</td>\n",
       "      <td>6.000000</td>\n",
       "      <td>1.000000</td>\n",
       "      <td>9.000000</td>\n",
       "      <td>6.000000</td>\n",
       "      <td>1.000000</td>\n",
       "      <td>9.000000</td>\n",
       "      <td>1</td>\n",
       "    </tr>\n",
       "    <tr>\n",
       "      <th>3876</th>\n",
       "      <td>2019-10-02</td>\n",
       "      <td>Tottenham</td>\n",
       "      <td>Leicester</td>\n",
       "      <td>1.704444</td>\n",
       "      <td>3.847778</td>\n",
       "      <td>5.443333</td>\n",
       "      <td>2.000000</td>\n",
       "      <td>3.000000</td>\n",
       "      <td>3.000000</td>\n",
       "      <td>2.000000</td>\n",
       "      <td>3.000000</td>\n",
       "      <td>3.000000</td>\n",
       "      <td>1</td>\n",
       "    </tr>\n",
       "    <tr>\n",
       "      <th>3877</th>\n",
       "      <td>2019-10-03</td>\n",
       "      <td>Arsenal</td>\n",
       "      <td>Man United</td>\n",
       "      <td>2.406667</td>\n",
       "      <td>3.556667</td>\n",
       "      <td>2.982222</td>\n",
       "      <td>3.000000</td>\n",
       "      <td>3.000000</td>\n",
       "      <td>4.000000</td>\n",
       "      <td>3.000000</td>\n",
       "      <td>3.000000</td>\n",
       "      <td>4.000000</td>\n",
       "      <td>1</td>\n",
       "    </tr>\n",
       "    <tr>\n",
       "      <th>3878</th>\n",
       "      <td>2019-10-03</td>\n",
       "      <td>Chelsea</td>\n",
       "      <td>Wolves</td>\n",
       "      <td>1.562222</td>\n",
       "      <td>4.106667</td>\n",
       "      <td>6.877778</td>\n",
       "      <td>5.000000</td>\n",
       "      <td>6.000000</td>\n",
       "      <td>6.000000</td>\n",
       "      <td>5.000000</td>\n",
       "      <td>6.000000</td>\n",
       "      <td>6.000000</td>\n",
       "      <td>2</td>\n",
       "    </tr>\n",
       "    <tr>\n",
       "      <th>3879</th>\n",
       "      <td>2019-10-03</td>\n",
       "      <td>Liverpool</td>\n",
       "      <td>Burnley</td>\n",
       "      <td>1.171111</td>\n",
       "      <td>7.905556</td>\n",
       "      <td>18.687778</td>\n",
       "      <td>11.000000</td>\n",
       "      <td>1.000000</td>\n",
       "      <td>9.000000</td>\n",
       "      <td>11.000000</td>\n",
       "      <td>1.000000</td>\n",
       "      <td>9.000000</td>\n",
       "      <td>1</td>\n",
       "    </tr>\n",
       "    <tr>\n",
       "      <th>3880</th>\n",
       "      <td>2019-11-02</td>\n",
       "      <td>Wolves</td>\n",
       "      <td>Newcastle</td>\n",
       "      <td>1.710000</td>\n",
       "      <td>3.692222</td>\n",
       "      <td>5.691111</td>\n",
       "      <td>6.000000</td>\n",
       "      <td>3.000000</td>\n",
       "      <td>7.000000</td>\n",
       "      <td>6.000000</td>\n",
       "      <td>3.000000</td>\n",
       "      <td>7.000000</td>\n",
       "      <td>2</td>\n",
       "    </tr>\n",
       "    <tr>\n",
       "      <th>3881</th>\n",
       "      <td>2019-12-01</td>\n",
       "      <td>Brighton</td>\n",
       "      <td>Liverpool</td>\n",
       "      <td>10.047778</td>\n",
       "      <td>5.550000</td>\n",
       "      <td>1.325556</td>\n",
       "      <td>4.000000</td>\n",
       "      <td>5.000000</td>\n",
       "      <td>4.000000</td>\n",
       "      <td>4.000000</td>\n",
       "      <td>5.000000</td>\n",
       "      <td>4.000000</td>\n",
       "      <td>3</td>\n",
       "    </tr>\n",
       "    <tr>\n",
       "      <th>3882</th>\n",
       "      <td>2019-12-01</td>\n",
       "      <td>Burnley</td>\n",
       "      <td>Fulham</td>\n",
       "      <td>2.392222</td>\n",
       "      <td>3.264444</td>\n",
       "      <td>3.258889</td>\n",
       "      <td>8.000000</td>\n",
       "      <td>6.000000</td>\n",
       "      <td>6.000000</td>\n",
       "      <td>8.000000</td>\n",
       "      <td>6.000000</td>\n",
       "      <td>6.000000</td>\n",
       "      <td>1</td>\n",
       "    </tr>\n",
       "    <tr>\n",
       "      <th>3883</th>\n",
       "      <td>2019-12-01</td>\n",
       "      <td>Cardiff</td>\n",
       "      <td>Huddersfield</td>\n",
       "      <td>2.237778</td>\n",
       "      <td>3.174444</td>\n",
       "      <td>3.685556</td>\n",
       "      <td>4.000000</td>\n",
       "      <td>2.000000</td>\n",
       "      <td>6.000000</td>\n",
       "      <td>4.000000</td>\n",
       "      <td>2.000000</td>\n",
       "      <td>6.000000</td>\n",
       "      <td>2</td>\n",
       "    </tr>\n",
       "    <tr>\n",
       "      <th>3884</th>\n",
       "      <td>2019-12-01</td>\n",
       "      <td>Chelsea</td>\n",
       "      <td>Newcastle</td>\n",
       "      <td>1.224444</td>\n",
       "      <td>6.630000</td>\n",
       "      <td>15.155556</td>\n",
       "      <td>3.000000</td>\n",
       "      <td>7.000000</td>\n",
       "      <td>4.000000</td>\n",
       "      <td>3.000000</td>\n",
       "      <td>7.000000</td>\n",
       "      <td>4.000000</td>\n",
       "      <td>1</td>\n",
       "    </tr>\n",
       "    <tr>\n",
       "      <th>3885</th>\n",
       "      <td>2019-12-01</td>\n",
       "      <td>Crystal Palace</td>\n",
       "      <td>Watford</td>\n",
       "      <td>2.253333</td>\n",
       "      <td>3.366667</td>\n",
       "      <td>3.440000</td>\n",
       "      <td>3.000000</td>\n",
       "      <td>3.000000</td>\n",
       "      <td>4.000000</td>\n",
       "      <td>3.000000</td>\n",
       "      <td>3.000000</td>\n",
       "      <td>4.000000</td>\n",
       "      <td>3</td>\n",
       "    </tr>\n",
       "    <tr>\n",
       "      <th>3886</th>\n",
       "      <td>2019-12-01</td>\n",
       "      <td>Leicester</td>\n",
       "      <td>Southampton</td>\n",
       "      <td>1.934444</td>\n",
       "      <td>3.506667</td>\n",
       "      <td>4.354444</td>\n",
       "      <td>4.000000</td>\n",
       "      <td>5.000000</td>\n",
       "      <td>3.000000</td>\n",
       "      <td>4.000000</td>\n",
       "      <td>5.000000</td>\n",
       "      <td>3.000000</td>\n",
       "      <td>3</td>\n",
       "    </tr>\n",
       "    <tr>\n",
       "      <th>3887</th>\n",
       "      <td>2019-12-01</td>\n",
       "      <td>West Ham</td>\n",
       "      <td>Arsenal</td>\n",
       "      <td>3.482222</td>\n",
       "      <td>3.850000</td>\n",
       "      <td>2.063333</td>\n",
       "      <td>1.000000</td>\n",
       "      <td>5.000000</td>\n",
       "      <td>1.000000</td>\n",
       "      <td>1.000000</td>\n",
       "      <td>5.000000</td>\n",
       "      <td>1.000000</td>\n",
       "      <td>1</td>\n",
       "    </tr>\n",
       "    <tr>\n",
       "      <th>3888</th>\n",
       "      <td>2019-12-04</td>\n",
       "      <td>Leicester</td>\n",
       "      <td>Newcastle</td>\n",
       "      <td>1.657778</td>\n",
       "      <td>3.916667</td>\n",
       "      <td>5.842222</td>\n",
       "      <td>5.000000</td>\n",
       "      <td>6.000000</td>\n",
       "      <td>3.000000</td>\n",
       "      <td>5.000000</td>\n",
       "      <td>6.000000</td>\n",
       "      <td>3.000000</td>\n",
       "      <td>3</td>\n",
       "    </tr>\n",
       "    <tr>\n",
       "      <th>3889</th>\n",
       "      <td>2019-12-05</td>\n",
       "      <td>Brighton</td>\n",
       "      <td>Man City</td>\n",
       "      <td>17.804444</td>\n",
       "      <td>8.215556</td>\n",
       "      <td>1.164444</td>\n",
       "      <td>3.000000</td>\n",
       "      <td>5.000000</td>\n",
       "      <td>3.000000</td>\n",
       "      <td>3.000000</td>\n",
       "      <td>5.000000</td>\n",
       "      <td>3.000000</td>\n",
       "      <td>3</td>\n",
       "    </tr>\n",
       "    <tr>\n",
       "      <th>3890</th>\n",
       "      <td>2019-12-05</td>\n",
       "      <td>Burnley</td>\n",
       "      <td>Arsenal</td>\n",
       "      <td>3.087778</td>\n",
       "      <td>3.770000</td>\n",
       "      <td>2.272222</td>\n",
       "      <td>7.000000</td>\n",
       "      <td>6.000000</td>\n",
       "      <td>6.000000</td>\n",
       "      <td>7.000000</td>\n",
       "      <td>6.000000</td>\n",
       "      <td>6.000000</td>\n",
       "      <td>3</td>\n",
       "    </tr>\n",
       "    <tr>\n",
       "      <th>3891</th>\n",
       "      <td>2019-12-05</td>\n",
       "      <td>Crystal Palace</td>\n",
       "      <td>Bournemouth</td>\n",
       "      <td>1.858889</td>\n",
       "      <td>4.098889</td>\n",
       "      <td>3.958889</td>\n",
       "      <td>3.000000</td>\n",
       "      <td>5.000000</td>\n",
       "      <td>1.000000</td>\n",
       "      <td>3.000000</td>\n",
       "      <td>5.000000</td>\n",
       "      <td>1.000000</td>\n",
       "      <td>1</td>\n",
       "    </tr>\n",
       "    <tr>\n",
       "      <th>3892</th>\n",
       "      <td>2019-12-05</td>\n",
       "      <td>Fulham</td>\n",
       "      <td>Newcastle</td>\n",
       "      <td>2.517778</td>\n",
       "      <td>3.555556</td>\n",
       "      <td>2.818889</td>\n",
       "      <td>2.000000</td>\n",
       "      <td>8.000000</td>\n",
       "      <td>0.000000</td>\n",
       "      <td>2.000000</td>\n",
       "      <td>8.000000</td>\n",
       "      <td>0.000000</td>\n",
       "      <td>3</td>\n",
       "    </tr>\n",
       "    <tr>\n",
       "      <th>3893</th>\n",
       "      <td>2019-12-05</td>\n",
       "      <td>Leicester</td>\n",
       "      <td>Chelsea</td>\n",
       "      <td>2.398889</td>\n",
       "      <td>3.638889</td>\n",
       "      <td>2.920000</td>\n",
       "      <td>2.000000</td>\n",
       "      <td>6.000000</td>\n",
       "      <td>0.000000</td>\n",
       "      <td>2.000000</td>\n",
       "      <td>6.000000</td>\n",
       "      <td>0.000000</td>\n",
       "      <td>2</td>\n",
       "    </tr>\n",
       "    <tr>\n",
       "      <th>3894</th>\n",
       "      <td>2019-12-05</td>\n",
       "      <td>Liverpool</td>\n",
       "      <td>Wolves</td>\n",
       "      <td>1.306667</td>\n",
       "      <td>5.742222</td>\n",
       "      <td>10.443333</td>\n",
       "      <td>8.000000</td>\n",
       "      <td>2.000000</td>\n",
       "      <td>9.000000</td>\n",
       "      <td>8.000000</td>\n",
       "      <td>2.000000</td>\n",
       "      <td>9.000000</td>\n",
       "      <td>1</td>\n",
       "    </tr>\n",
       "    <tr>\n",
       "      <th>3895</th>\n",
       "      <td>2019-12-05</td>\n",
       "      <td>Man United</td>\n",
       "      <td>Cardiff</td>\n",
       "      <td>1.280000</td>\n",
       "      <td>6.324444</td>\n",
       "      <td>10.357778</td>\n",
       "      <td>4.000000</td>\n",
       "      <td>3.000000</td>\n",
       "      <td>4.000000</td>\n",
       "      <td>4.000000</td>\n",
       "      <td>3.000000</td>\n",
       "      <td>4.000000</td>\n",
       "      <td>3</td>\n",
       "    </tr>\n",
       "    <tr>\n",
       "      <th>3896</th>\n",
       "      <td>2019-12-05</td>\n",
       "      <td>Southampton</td>\n",
       "      <td>Huddersfield</td>\n",
       "      <td>1.417778</td>\n",
       "      <td>4.888889</td>\n",
       "      <td>7.983333</td>\n",
       "      <td>5.000000</td>\n",
       "      <td>4.000000</td>\n",
       "      <td>6.000000</td>\n",
       "      <td>5.000000</td>\n",
       "      <td>4.000000</td>\n",
       "      <td>6.000000</td>\n",
       "      <td>2</td>\n",
       "    </tr>\n",
       "    <tr>\n",
       "      <th>3897</th>\n",
       "      <td>2019-12-05</td>\n",
       "      <td>Tottenham</td>\n",
       "      <td>Everton</td>\n",
       "      <td>2.094444</td>\n",
       "      <td>3.567778</td>\n",
       "      <td>3.663333</td>\n",
       "      <td>4.000000</td>\n",
       "      <td>4.000000</td>\n",
       "      <td>3.000000</td>\n",
       "      <td>4.000000</td>\n",
       "      <td>4.000000</td>\n",
       "      <td>3.000000</td>\n",
       "      <td>2</td>\n",
       "    </tr>\n",
       "    <tr>\n",
       "      <th>3898</th>\n",
       "      <td>2019-12-05</td>\n",
       "      <td>Watford</td>\n",
       "      <td>West Ham</td>\n",
       "      <td>2.202222</td>\n",
       "      <td>3.776667</td>\n",
       "      <td>3.188889</td>\n",
       "      <td>4.000000</td>\n",
       "      <td>4.000000</td>\n",
       "      <td>6.000000</td>\n",
       "      <td>4.000000</td>\n",
       "      <td>4.000000</td>\n",
       "      <td>6.000000</td>\n",
       "      <td>3</td>\n",
       "    </tr>\n",
       "  </tbody>\n",
       "</table>\n",
       "<p>3899 rows × 13 columns</p>\n",
       "</div>"
      ],
      "text/plain": [
       "           Date           Hteam         Ateam      Odd-1     Odd-N      Odd-2  \\\n",
       "0    2009-08-15     Aston Villa         Wigan   1.673333  3.490000   5.252500   \n",
       "1    2009-08-15       Blackburn      Man City   3.354167  3.228333   2.143333   \n",
       "2    2009-08-15          Bolton    Sunderland   2.238333  3.217500   3.154167   \n",
       "3    2009-08-15         Chelsea          Hull   1.180833  6.143333  16.960833   \n",
       "4    2009-08-15         Everton       Arsenal   3.095000  3.204167   2.279167   \n",
       "5    2009-08-15      Portsmouth        Fulham   2.554167  3.202500   2.708333   \n",
       "6    2009-08-15           Stoke       Burnley   1.916667  3.275833   4.015833   \n",
       "7    2009-08-15          Wolves      West Ham   2.556667  3.228333   2.672500   \n",
       "8    2009-08-16      Man United    Birmingham   1.195000  5.810833  15.749167   \n",
       "9    2009-08-16       Tottenham     Liverpool   3.124167  3.218333   2.235000   \n",
       "10   2009-08-18      Sunderland       Chelsea   6.835833  3.774167   1.521667   \n",
       "11   2009-08-18           Wigan        Wolves   1.719167  3.498333   5.046667   \n",
       "12   2009-08-19      Birmingham    Portsmouth   2.036667  3.287500   3.650000   \n",
       "13   2009-08-19         Burnley    Man United  10.024167  4.762500   1.319167   \n",
       "14   2009-08-19            Hull     Tottenham   3.757500  3.327500   1.984167   \n",
       "15   2009-08-19       Liverpool         Stoke   1.252500  5.254167  12.761667   \n",
       "16   2009-08-22         Arsenal    Portsmouth   1.180000  6.388333  16.373333   \n",
       "17   2009-08-22      Birmingham         Stoke   2.245000  3.227500   3.233333   \n",
       "18   2009-08-22            Hull        Bolton   2.460000  3.230833   2.858333   \n",
       "19   2009-08-22        Man City        Wolves   1.325833  4.700833  10.201667   \n",
       "20   2009-08-22      Sunderland     Blackburn   2.060833  3.276667   3.600833   \n",
       "21   2009-08-22           Wigan    Man United   6.535833  3.846667   1.530833   \n",
       "22   2009-08-23         Burnley       Everton   3.226667  3.251667   2.222500   \n",
       "23   2009-08-23          Fulham       Chelsea   6.476667  3.689167   1.555000   \n",
       "24   2009-08-23        West Ham     Tottenham   3.041667  3.271667   2.320833   \n",
       "25   2009-08-24       Liverpool   Aston Villa   1.426667  4.155833   7.893333   \n",
       "26   2009-08-29       Blackburn      West Ham   2.181667  3.231667   3.294167   \n",
       "27   2009-08-29          Bolton     Liverpool   6.074167  3.790833   1.551667   \n",
       "28   2009-08-29         Chelsea       Burnley   1.139167  7.215000  17.739167   \n",
       "29   2009-08-29      Man United       Arsenal   2.113333  3.240833   3.441667   \n",
       "...         ...             ...           ...        ...       ...        ...   \n",
       "3869 2019-09-03  Crystal Palace      Brighton   1.852222  3.485556   4.874444   \n",
       "3870 2019-09-03    Huddersfield   Bournemouth   3.425556  3.255556   2.320000   \n",
       "3871 2019-09-03       Leicester        Fulham   1.597778  4.313333   5.767778   \n",
       "3872 2019-09-03        Man City       Watford   1.143333  9.025556  19.707778   \n",
       "3873 2019-09-03       Newcastle       Everton   2.797778  3.153333   2.804444   \n",
       "3874 2019-09-03     Southampton     Tottenham   4.366667  3.771111   1.866667   \n",
       "3875 2019-10-02        Man City       Chelsea   1.522222  4.481111   6.628889   \n",
       "3876 2019-10-02       Tottenham     Leicester   1.704444  3.847778   5.443333   \n",
       "3877 2019-10-03         Arsenal    Man United   2.406667  3.556667   2.982222   \n",
       "3878 2019-10-03         Chelsea        Wolves   1.562222  4.106667   6.877778   \n",
       "3879 2019-10-03       Liverpool       Burnley   1.171111  7.905556  18.687778   \n",
       "3880 2019-11-02          Wolves     Newcastle   1.710000  3.692222   5.691111   \n",
       "3881 2019-12-01        Brighton     Liverpool  10.047778  5.550000   1.325556   \n",
       "3882 2019-12-01         Burnley        Fulham   2.392222  3.264444   3.258889   \n",
       "3883 2019-12-01         Cardiff  Huddersfield   2.237778  3.174444   3.685556   \n",
       "3884 2019-12-01         Chelsea     Newcastle   1.224444  6.630000  15.155556   \n",
       "3885 2019-12-01  Crystal Palace       Watford   2.253333  3.366667   3.440000   \n",
       "3886 2019-12-01       Leicester   Southampton   1.934444  3.506667   4.354444   \n",
       "3887 2019-12-01        West Ham       Arsenal   3.482222  3.850000   2.063333   \n",
       "3888 2019-12-04       Leicester     Newcastle   1.657778  3.916667   5.842222   \n",
       "3889 2019-12-05        Brighton      Man City  17.804444  8.215556   1.164444   \n",
       "3890 2019-12-05         Burnley       Arsenal   3.087778  3.770000   2.272222   \n",
       "3891 2019-12-05  Crystal Palace   Bournemouth   1.858889  4.098889   3.958889   \n",
       "3892 2019-12-05          Fulham     Newcastle   2.517778  3.555556   2.818889   \n",
       "3893 2019-12-05       Leicester       Chelsea   2.398889  3.638889   2.920000   \n",
       "3894 2019-12-05       Liverpool        Wolves   1.306667  5.742222  10.443333   \n",
       "3895 2019-12-05      Man United       Cardiff   1.280000  6.324444  10.357778   \n",
       "3896 2019-12-05     Southampton  Huddersfield   1.417778  4.888889   7.983333   \n",
       "3897 2019-12-05       Tottenham       Everton   2.094444  3.567778   3.663333   \n",
       "3898 2019-12-05         Watford      West Ham   2.202222  3.776667   3.188889   \n",
       "\n",
       "       H_L3GG_x  H_L3GX_x  H_L3PT_x   A_L3GG_x  A_L3GX_x  A_L3PT_x  Target  \n",
       "0      3.174905  4.688213  3.190114   3.174905  4.688213  3.190114       3  \n",
       "1      3.504505  5.027027  3.243243   3.504505  5.027027  3.243243       3  \n",
       "2      3.720721  5.288288  3.216216   3.720721  5.288288  3.216216       3  \n",
       "3      5.737401  2.944297  5.917772   5.737401  2.944297  5.917772       1  \n",
       "4      4.297082  3.639257  4.480106   4.297082  3.639257  4.480106       3  \n",
       "5      2.685714  5.371429  2.200000   2.685714  5.371429  2.200000       3  \n",
       "6      3.165192  4.117994  3.622419   3.165192  4.117994  3.622419       1  \n",
       "7      3.295302  4.946309  3.181208   3.295302  4.946309  3.181208       3  \n",
       "8      5.564987  2.891247  6.015915   5.564987  2.891247  6.015915       1  \n",
       "9      5.217507  3.259947  5.602122   5.217507  3.259947  5.602122       1  \n",
       "10     3.252492  4.475083  3.099668   3.252492  4.475083  3.099668       3  \n",
       "11     3.268456  5.436242  3.100671   3.268456  5.436242  3.100671       3  \n",
       "12     2.986301  4.246575  3.452055   2.986301  4.246575  3.452055       1  \n",
       "13     2.994652  4.663102  3.112299   2.994652  4.663102  3.112299       1  \n",
       "14     2.791946  5.087248  2.677852   2.791946  5.087248  2.677852       3  \n",
       "15     5.562334  3.262599  5.419098   5.562334  3.262599  5.419098       1  \n",
       "16     5.729443  3.392573  5.665782   5.729443  3.392573  5.665782       1  \n",
       "17     2.986301  4.246575  3.452055   2.986301  4.246575  3.452055       2  \n",
       "18     2.791946  5.087248  2.677852   2.791946  5.087248  2.677852       1  \n",
       "19     6.511936  2.742706  6.389920   6.511936  2.742706  6.389920       1  \n",
       "20     3.252492  4.475083  3.099668   3.252492  4.475083  3.099668       1  \n",
       "21     3.268456  5.436242  3.100671   3.268456  5.436242  3.100671       3  \n",
       "22     2.994652  4.663102  3.112299   2.994652  4.663102  3.112299       1  \n",
       "23     3.444444  4.786667  3.280000   3.444444  4.786667  3.280000       3  \n",
       "24     3.758112  4.625369  3.495575   3.758112  4.625369  3.495575       3  \n",
       "25     5.562334  3.262599  5.419098   5.562334  3.262599  5.419098       3  \n",
       "26     3.504505  5.027027  3.243243   3.504505  5.027027  3.243243       2  \n",
       "27     3.720721  5.288288  3.216216   3.720721  5.288288  3.216216       3  \n",
       "28     7.000000  2.000000  9.000000   7.000000  2.000000  9.000000       1  \n",
       "29     6.000000  1.000000  6.000000   6.000000  1.000000  6.000000       1  \n",
       "...         ...       ...       ...        ...       ...       ...     ...  \n",
       "3869   2.000000  1.000000  5.000000   2.000000  1.000000  5.000000       3  \n",
       "3870   3.000000  7.000000  1.000000   3.000000  7.000000  1.000000       3  \n",
       "3871   7.000000  2.000000  6.000000   7.000000  2.000000  6.000000       1  \n",
       "3872   4.000000  0.000000  9.000000   4.000000  0.000000  9.000000       1  \n",
       "3873   4.000000  3.000000  4.000000   4.000000  3.000000  4.000000       1  \n",
       "3874   5.000000  8.000000  1.000000   5.000000  8.000000  1.000000       1  \n",
       "3875   6.000000  1.000000  9.000000   6.000000  1.000000  9.000000       1  \n",
       "3876   2.000000  3.000000  3.000000   2.000000  3.000000  3.000000       1  \n",
       "3877   3.000000  3.000000  4.000000   3.000000  3.000000  4.000000       1  \n",
       "3878   5.000000  6.000000  6.000000   5.000000  6.000000  6.000000       2  \n",
       "3879  11.000000  1.000000  9.000000  11.000000  1.000000  9.000000       1  \n",
       "3880   6.000000  3.000000  7.000000   6.000000  3.000000  7.000000       2  \n",
       "3881   4.000000  5.000000  4.000000   4.000000  5.000000  4.000000       3  \n",
       "3882   8.000000  6.000000  6.000000   8.000000  6.000000  6.000000       1  \n",
       "3883   4.000000  2.000000  6.000000   4.000000  2.000000  6.000000       2  \n",
       "3884   3.000000  7.000000  4.000000   3.000000  7.000000  4.000000       1  \n",
       "3885   3.000000  3.000000  4.000000   3.000000  3.000000  4.000000       3  \n",
       "3886   4.000000  5.000000  3.000000   4.000000  5.000000  3.000000       3  \n",
       "3887   1.000000  5.000000  1.000000   1.000000  5.000000  1.000000       1  \n",
       "3888   5.000000  6.000000  3.000000   5.000000  6.000000  3.000000       3  \n",
       "3889   3.000000  5.000000  3.000000   3.000000  5.000000  3.000000       3  \n",
       "3890   7.000000  6.000000  6.000000   7.000000  6.000000  6.000000       3  \n",
       "3891   3.000000  5.000000  1.000000   3.000000  5.000000  1.000000       1  \n",
       "3892   2.000000  8.000000  0.000000   2.000000  8.000000  0.000000       3  \n",
       "3893   2.000000  6.000000  0.000000   2.000000  6.000000  0.000000       2  \n",
       "3894   8.000000  2.000000  9.000000   8.000000  2.000000  9.000000       1  \n",
       "3895   4.000000  3.000000  4.000000   4.000000  3.000000  4.000000       3  \n",
       "3896   5.000000  4.000000  6.000000   5.000000  4.000000  6.000000       2  \n",
       "3897   4.000000  4.000000  3.000000   4.000000  4.000000  3.000000       2  \n",
       "3898   4.000000  4.000000  6.000000   4.000000  4.000000  6.000000       3  \n",
       "\n",
       "[3899 rows x 13 columns]"
      ]
     },
     "execution_count": 30,
     "metadata": {},
     "output_type": "execute_result"
    }
   ],
   "source": [
    "bet"
   ]
  },
  {
   "cell_type": "code",
   "execution_count": 31,
   "metadata": {},
   "outputs": [],
   "source": [
    "bet.to_csv('bet.csv',index=False)"
   ]
  },
  {
   "cell_type": "code",
   "execution_count": null,
   "metadata": {},
   "outputs": [],
   "source": []
  }
 ],
 "metadata": {
  "kernelspec": {
   "display_name": "Python 3",
   "language": "python",
   "name": "python3"
  },
  "language_info": {
   "codemirror_mode": {
    "name": "ipython",
    "version": 3
   },
   "file_extension": ".py",
   "mimetype": "text/x-python",
   "name": "python",
   "nbconvert_exporter": "python",
   "pygments_lexer": "ipython3",
   "version": "3.7.3"
  }
 },
 "nbformat": 4,
 "nbformat_minor": 4
}
